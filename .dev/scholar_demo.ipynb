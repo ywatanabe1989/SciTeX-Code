{
 "cells": [
  {
   "cell_type": "markdown",
   "metadata": {},
   "source": [
    "# SciTeX Scholar Demo\n",
    "\n",
    "This notebook demonstrates how to use the Scholar module to search and download papers."
   ]
  },
  {
   "cell_type": "code",
   "execution_count": null,
   "metadata": {},
   "outputs": [],
   "source": [
    "from scitex.scholar import Scholar, ScholarConfig\n",
    "\n",
    "# Configure Scholar\n",
    "config = ScholarConfig(\n",
    "    pubmed_email=\"your-email@example.com\",\n",
    "    acknowledge_scihub_ethical_usage=True,  # Enable Sci-Hub\n",
    ")\n",
    "\n",
    "scholar = Scholar(config=config)"
   ]
  },
  {
   "cell_type": "markdown",
   "metadata": {},
   "source": [
    "## Search for Papers"
   ]
  },
  {
   "cell_type": "code",
   "execution_count": null,
   "metadata": {},
   "outputs": [],
   "source": [
    "# Search for papers\n",
    "papers = scholar.search(\"deep learning neuroscience\", limit=10)\n",
    "\n",
    "# Display results\n",
    "for i, paper in enumerate(papers, 1):\n",
    "    print(f\"{i}. {paper.title}\")\n",
    "    print(f\"   Authors: {', '.join(paper.authors[:3])}{'...' if len(paper.authors) > 3 else ''}\")\n",
    "    print(f\"   Year: {paper.year}, Citations: {paper.citation_count}\")\n",
    "    print(f\"   DOI: {paper.doi}\")\n",
    "    print()"
   ]
  },
  {
   "cell_type": "markdown",
   "metadata": {},
   "source": [
    "## Filter High-Impact Papers"
   ]
  },
  {
   "cell_type": "code",
   "execution_count": null,
   "metadata": {},
   "outputs": [],
   "source": [
    "# Filter papers with high citations\n",
    "high_impact = papers.filter(min_citations=100)\n",
    "print(f\"Found {len(high_impact)} high-impact papers (>100 citations)\")\n",
    "\n",
    "# Sort by citations\n",
    "sorted_papers = papers.sort_by('citation_count', reverse=True)\n",
    "print(\"\\nTop 3 most cited:\")\n",
    "for paper in sorted_papers[:3]:\n",
    "    print(f\"- {paper.title} ({paper.citation_count} citations)\")"
   ]
  },
  {
   "cell_type": "markdown",
   "metadata": {},
   "source": [
    "## Download PDFs"
   ]
  },
  {
   "cell_type": "code",
   "execution_count": null,
   "metadata": {},
   "outputs": [],
   "source": [
    "# Download top 5 papers\n",
    "top_papers = sorted_papers[:5]\n",
    "results = scholar.download_pdfs(top_papers, acknowledge_ethical_usage=True)\n",
    "\n",
    "print(f\"Downloaded {results['successful']}/{len(top_papers)} PDFs\")\n",
    "print(f\"\\nPDFs saved to: {scholar.workspace_dir / 'pdfs'}\")"
   ]
  },
  {
   "cell_type": "markdown",
   "metadata": {},
   "source": [
    "## Save Results"
   ]
  },
  {
   "cell_type": "code",
   "execution_count": null,
   "metadata": {},
   "outputs": [],
   "source": [
    "# Save as BibTeX\n",
    "papers.save(\".dev/results.bib\", format=\"bibtex\")\n",
    "print(\"Saved to .dev/results.bib\")\n",
    "\n",
    "# Save as JSON\n",
    "papers.save(\".dev/results.json\", format=\"json\")\n",
    "print(\"Saved to .dev/results.json\")"
   ]
  },
  {
   "cell_type": "markdown",
   "metadata": {},
   "source": [
    "## Search Local PDFs"
   ]
  },
  {
   "cell_type": "code",
   "execution_count": null,
   "metadata": {},
   "outputs": [],
   "source": [
    "# Search your downloaded PDFs\n",
    "local_results = scholar.search_local(\"neuroscience\")\n",
    "print(f\"Found {len(local_results)} local PDFs matching 'neuroscience'\")"
   ]
  }
 ],
 "metadata": {
  "kernelspec": {
   "display_name": "Python 3",
   "language": "python",
   "name": "python3"
  },
  "language_info": {
   "codemirror_mode": {
    "name": "ipython",
    "version": 3
   },
   "file_extension": ".py",
   "mimetype": "text/x-python",
   "name": "python",
   "nbconvert_exporter": "python",
   "pygments_lexer": "ipython3",
   "version": "3.11.0"
  }
 },
 "nbformat": 4,
 "nbformat_minor": 4
}