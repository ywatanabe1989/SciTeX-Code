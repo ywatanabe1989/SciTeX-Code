{
 "cells": [
  {
   "cell_type": "markdown",
   "metadata": {},
   "source": [
    "# SciTeX Scholar Tutorial\n",
    "\n",
    "This notebook demonstrates how to use the `scitex.scholar` module for scientific literature management.\n",
    "\n",
    "## Features Covered\n",
    "- Literature search from multiple sources\n",
    "- Paper metadata enrichment with impact factors\n",
    "- BibTeX generation\n",
    "- PDF downloads (when available)\n",
    "- Building a local search index"
   ]
  },
  {
   "cell_type": "markdown",
   "metadata": {},
   "source": [
    "## 1. Basic Literature Search\n",
    "\n",
    "Let's start with a simple search for papers:"
   ]
  },
  {
   "cell_type": "code",
   "execution_count": null,
   "metadata": {},
   "outputs": [],
   "source": [
    "import asyncio\n",
    "from scitex.scholar import search_papers, Paper\n",
    "\n",
    "# Search for papers\n",
    "papers = await search_papers(\n",
    "    query=\"deep learning neuroscience\",\n",
    "    limit=5\n",
    ")\n",
    "\n",
    "# Display results\n",
    "for i, paper in enumerate(papers, 1):\n",
    "    print(f\"{i}. {paper.title}\")\n",
    "    print(f\"   Authors: {', '.join(paper.authors[:2])}...\")\n",
    "    print(f\"   Year: {paper.year}, Citations: {paper.citation_count}\")\n",
    "    print()"
   ]
  },
  {
   "cell_type": "markdown",
   "metadata": {},
   "source": [
    "## 2. Creating an Enriched Bibliography\n",
    "\n",
    "Add journal impact factors and other metrics to your bibliography:"
   ]
  },
  {
   "cell_type": "code",
   "execution_count": null,
   "metadata": {},
   "outputs": [],
   "source": [
    "from scitex.scholar import PaperEnrichmentService\n",
    "\n",
    "# Enrich papers with journal metrics\n",
    "enricher = PaperEnrichmentService()\n",
    "enriched_papers = enricher.enrich_papers(papers)\n",
    "\n",
    "# Show enriched data\n",
    "for paper in enriched_papers:\n",
    "    if paper.impact_factor:\n",
    "        print(f\"📊 {paper.journal}: IF={paper.impact_factor}\")"
   ]
  },
  {
   "cell_type": "markdown",
   "metadata": {},
   "source": [
    "## 3. Generate BibTeX Entries\n",
    "\n",
    "Create properly formatted BibTeX entries with enriched metadata:"
   ]
  },
  {
   "cell_type": "code",
   "execution_count": null,
   "metadata": {},
   "outputs": [],
   "source": [
    "# Generate BibTeX for the first paper\n",
    "if papers:\n",
    "    bibtex = papers[0].to_bibtex(include_enriched=True)\n",
    "    print(bibtex)"
   ]
  },
  {
   "cell_type": "markdown",
   "metadata": {},
   "source": [
    "## 4. Save Complete Bibliography"
   ]
  },
  {
   "cell_type": "code",
   "execution_count": null,
   "metadata": {},
   "outputs": [],
   "source": [
    "from pathlib import Path\n",
    "from scitex.scholar import generate_enriched_bibliography\n",
    "\n",
    "# Save all papers to a BibTeX file\n",
    "output_path = Path(\"my_bibliography.bib\")\n",
    "generate_enriched_bibliography(\n",
    "    enriched_papers,\n",
    "    output_path,\n",
    "    enrich=False  # Already enriched\n",
    ")\n",
    "\n",
    "print(f\"Bibliography saved to: {output_path}\")"
   ]
  },
  {
   "cell_type": "markdown",
   "metadata": {},
   "source": [
    "## 5. Advanced Search with AI Enhancement\n",
    "\n",
    "Use AI to improve search results (requires API keys):"
   ]
  },
  {
   "cell_type": "code",
   "execution_count": null,
   "metadata": {},
   "outputs": [],
   "source": [
    "from scitex.scholar import PaperAcquisition\n",
    "\n",
    "# Initialize with AI enhancement\n",
    "acquisition = PaperAcquisition(\n",
    "    use_ai=True,  # Enable AI features\n",
    "    email=\"your.email@example.com\"  # Required for some APIs\n",
    ")\n",
    "\n",
    "# Search with specific criteria\n",
    "results = await acquisition.search(\n",
    "    query=\"phase amplitude coupling cognitive control\",\n",
    "    sources=['semantic_scholar', 'pubmed'],\n",
    "    max_results=10,\n",
    "    start_year=2020\n",
    ")\n",
    "\n",
    "print(f\"Found {len(results)} recent papers on the topic\")"
   ]
  },
  {
   "cell_type": "markdown",
   "metadata": {},
   "source": [
    "## 6. Building a Local Search Index\n",
    "\n",
    "Create a searchable index of your PDF collection:"
   ]
  },
  {
   "cell_type": "code",
   "execution_count": null,
   "metadata": {},
   "outputs": [],
   "source": [
    "from scitex.scholar import build_index, search_sync\n",
    "\n",
    "# Build index from PDFs in a directory\n",
    "pdf_directory = Path(\"~/Documents/Papers\").expanduser()\n",
    "if pdf_directory.exists():\n",
    "    build_index(str(pdf_directory))\n",
    "    \n",
    "    # Search your local collection\n",
    "    local_results = search_sync(\n",
    "        \"neural oscillations\",\n",
    "        local_only=True\n",
    "    )\n",
    "    \n",
    "    print(f\"Found {len(local_results)} papers in local collection\")"
   ]
  },
  {
   "cell_type": "markdown",
   "metadata": {},
   "source": [
    "## Tips and Best Practices\n",
    "\n",
    "1. **Rate Limiting**: The module automatically handles rate limiting for APIs\n",
    "2. **Caching**: Search results are cached to avoid redundant API calls\n",
    "3. **Error Handling**: Network errors are handled gracefully\n",
    "4. **PDF Access**: Only open-access PDFs can be downloaded automatically\n",
    "\n",
    "## Environment Variables\n",
    "\n",
    "Set these for enhanced functionality:\n",
    "- `OPENAI_API_KEY`: For AI-enhanced search\n",
    "- `SEMANTIC_SCHOLAR_API_KEY`: For higher rate limits\n",
    "- `ENTREZ_EMAIL`: Your email for PubMed API"
   ]
  }
 ],
 "metadata": {
  "kernelspec": {
   "display_name": "Python 3",
   "language": "python",
   "name": "python3"
  },
  "language_info": {
   "codemirror_mode": {
    "name": "ipython",
    "version": 3
   },
   "file_extension": ".py",
   "mimetype": "text/x-python",
   "name": "python",
   "nbconvert_exporter": "python",
   "pygments_lexer": "ipython3",
   "version": "3.11.0"
  }
 },
 "nbformat": 4,
 "nbformat_minor": 4
}