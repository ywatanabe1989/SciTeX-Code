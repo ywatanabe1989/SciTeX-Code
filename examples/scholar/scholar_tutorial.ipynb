{
 "cells": [
  {
   "cell_type": "markdown",
   "metadata": {},
   "source": "# SciTeX Scholar Tutorial with Impact Factor Integration\n\nThis notebook demonstrates how to use the `scitex.scholar` module for scientific literature management with automatic impact factor enrichment.\n\n## Features Covered\n- Literature search from multiple sources\n- **Automatic impact factor enrichment** (NEW!)\n- **Journal quartile and ranking information** (NEW!)\n- Enhanced BibTeX generation with journal metrics\n- PDF downloads (when available)\n- Building a local search index\n- **Direct impact factor database queries** (NEW!)",
   "outputs": []
  },
  {
   "cell_type": "markdown",
   "metadata": {},
   "source": "## 1. New Unified Scholar Interface with Auto-Enrichment\n\nThe modern way to use SciTeX Scholar with automatic impact factor enrichment:",
   "outputs": []
  },
  {
   "cell_type": "code",
   "metadata": {},
   "outputs": [],
   "source": "import scitex\nfrom scitex.scholar import Scholar\n\n# Initialize Scholar with auto-enrichment (default behavior)\nscholar = Scholar(\n    enrich_by_default=True,  # This is the default!\n    email=\"your.email@example.com\"  # For PubMed API\n)\n\nprint(\"✓ Scholar initialized with auto-enrichment enabled\")\n\n# Modern search with automatic enrichment\npapers = scholar.search(\n    query=\"deep learning neuroscience\",\n    limit=5\n)\n\nprint(f\"\\n📚 Found {len(papers)} papers (automatically enriched)\")\n\n# Display results with impact factor information\nfor i, paper in enumerate(papers, 1):\n    print(f\"\\n{i}. {paper.title}\")\n    print(f\"   Authors: {', '.join(paper.authors[:2])}...\")\n    print(f\"   Journal: {paper.journal}\")\n    print(f\"   Year: {paper.year}, Citations: {paper.citation_count}\")\n    \n    # NEW: Show impact factor information\n    if hasattr(paper, 'impact_factor') and paper.impact_factor:\n        print(f\"   📊 Impact Factor: {paper.impact_factor}\")\n    if hasattr(paper, 'journal_quartile') and paper.journal_quartile:\n        print(f\"   🏆 Journal Quartile: {paper.journal_quartile}\")\n    if hasattr(paper, 'journal_ranking') and paper.journal_ranking:\n        print(f\"   📈 Journal Ranking: {paper.journal_ranking}\")"
  },
  {
   "cell_type": "markdown",
   "metadata": {},
   "source": "## 2. Direct Impact Factor Database Queries\n\nUse the integrated impact_factor package for direct journal lookups:",
   "outputs": []
  },
  {
   "cell_type": "code",
   "metadata": {},
   "outputs": [],
   "source": "import sqlite3\nimport pandas as pd\nimport impact_factor\n\ndef search_journal_impact_factors(keyword, limit=10):\n    \"\"\"Search for journals by keyword and get their impact factors.\"\"\"\n    db_path = impact_factor.DEFAULT_DB\n    \n    try:\n        conn = sqlite3.connect(db_path)\n        \n        query = \"\"\"\n        SELECT journal, factor as impact_factor, jcr as quartile, \n               issn, eissn, journal_abbr\n        FROM factor \n        WHERE journal LIKE ? \n        ORDER BY factor DESC\n        LIMIT ?\n        \"\"\"\n        \n        results = pd.read_sql_query(\n            query, \n            conn, \n            params=[f'%{keyword}%', limit]\n        )\n        \n        conn.close()\n        return results\n        \n    except Exception as e:\n        print(f\"Error searching database: {e}\")\n        return pd.DataFrame()\n\n# Example: Search for neuroscience journals\nprint(\"🧠 Top Neuroscience Journals by Impact Factor:\")\nneuro_journals = search_journal_impact_factors(\"neuroscience\", limit=8)\nif len(neuro_journals) > 0:\n    for _, journal in neuro_journals.iterrows():\n        print(f\"  📊 {journal['journal']}\")\n        print(f\"      IF: {journal['impact_factor']:.3f} | Quartile: {journal['quartile']} | ISSN: {journal['issn']}\")\n        print()\nelse:\n    print(\"No neuroscience journals found\")\n\n# Example: Search for Nature journals\nprint(\"🔬 Nature Journal Family:\")\nnature_journals = search_journal_impact_factors(\"nature\", limit=5)\nif len(nature_journals) > 0:\n    for _, journal in nature_journals.iterrows():\n        print(f\"  📊 {journal['journal']}: IF = {journal['impact_factor']:.3f} ({journal['quartile']})\")\nelse:\n    print(\"No Nature journals found\")"
  },
  {
   "cell_type": "markdown",
   "metadata": {},
   "source": "## 3. Enhanced BibTeX Generation with Impact Factors\n\nGenerate BibTeX entries with comprehensive journal metrics:",
   "outputs": []
  },
  {
   "cell_type": "code",
   "metadata": {},
   "outputs": [],
   "source": "# Generate enriched BibTeX entries\nprint(\"📝 Enhanced BibTeX with Impact Factor Information:\")\nprint(\"=\" * 60)\n\nif papers and len(papers) > 0:\n    for i, paper in enumerate(papers[:2], 1):  # Show first 2 papers\n        print(f\"\\n🔗 Paper {i}:\")\n        bibtex = paper.to_bibtex(include_enriched=True)\n        print(bibtex)\n        print(\"-\" * 40)\nelse:\n    print(\"No papers available for BibTeX generation\")\n\n# Alternative: Manual BibTeX enrichment for any paper\ndef create_enriched_bibtex(title, authors, journal, year, doi=None):\n    \"\"\"Create enriched BibTeX entry with impact factor lookup.\"\"\"\n    \n    # Look up impact factor for the journal\n    journal_info = search_journal_impact_factors(journal, limit=1)\n    \n    impact_factor = None\n    quartile = None\n    if len(journal_info) > 0:\n        impact_factor = journal_info.iloc[0]['impact_factor']\n        quartile = journal_info.iloc[0]['quartile']\n    \n    # Generate BibTeX entry\n    author_list = \" and \".join(authors) if isinstance(authors, list) else authors\n    clean_title = title.replace(\"{\", \"\").replace(\"}\", \"\")\n    entry_key = f\"{authors[0].split()[-1] if isinstance(authors, list) else 'Unknown'}{year}\"\n    \n    bibtex = f\"\"\"@article{{{entry_key},\n    title = {{{clean_title}}},\n    author = {{{author_list}}},\n    journal = {{{journal}}},\n    year = {{{year}}}\"\"\"\n    \n    if doi:\n        bibtex += f\",\\n    doi = {{{doi}}}\"\n    \n    if impact_factor:\n        bibtex += f\",\\n    note = {{Impact Factor: {impact_factor:.3f}\"\n        if quartile:\n            bibtex += f\", Quartile: {quartile}\"\n        bibtex += \"}\"\n    \n    bibtex += \"\\n}\"\n    \n    return bibtex\n\n# Example of manual enrichment\nprint(\"\\n📖 Manual BibTeX Enrichment Example:\")\nmanual_bibtex = create_enriched_bibtex(\n    title=\"Deep learning in neuroscience\",\n    authors=[\"Smith, J.\", \"Doe, A.\"],\n    journal=\"Nature Neuroscience\",\n    year=2024,\n    doi=\"10.1038/example\"\n)\nprint(manual_bibtex)"
  },
  {
   "cell_type": "markdown",
   "metadata": {},
   "source": "## 4. Journal Analysis and Rankings",
   "outputs": []
  },
  {
   "cell_type": "code",
   "metadata": {},
   "outputs": [],
   "source": "def get_journal_statistics():\n    \"\"\"Get comprehensive statistics from the impact factor database.\"\"\"\n    db_path = impact_factor.DEFAULT_DB\n    \n    try:\n        conn = sqlite3.connect(db_path)\n        \n        # Overall statistics\n        stats_query = \"\"\"\n        SELECT \n            COUNT(*) as total_journals,\n            AVG(factor) as avg_impact_factor,\n            MIN(factor) as min_impact_factor,\n            MAX(factor) as max_impact_factor,\n            COUNT(CASE WHEN jcr = 'Q1' THEN 1 END) as q1_journals,\n            COUNT(CASE WHEN jcr = 'Q2' THEN 1 END) as q2_journals,\n            COUNT(CASE WHEN jcr = 'Q3' THEN 1 END) as q3_journals,\n            COUNT(CASE WHEN jcr = 'Q4' THEN 1 END) as q4_journals\n        FROM factor\n        \"\"\"\n        \n        stats = pd.read_sql_query(stats_query, conn)\n        \n        # Top journals\n        top_journals_query = \"\"\"\n        SELECT journal, factor, jcr, issn\n        FROM factor \n        ORDER BY factor DESC\n        LIMIT 10\n        \"\"\"\n        \n        top_journals = pd.read_sql_query(top_journals_query, conn)\n        \n        conn.close()\n        \n        return stats.iloc[0], top_journals\n        \n    except Exception as e:\n        print(f\"Error getting statistics: {e}\")\n        return None, pd.DataFrame()\n\n# Get and display journal statistics\nprint(\"📊 Impact Factor Database Statistics:\")\nprint(\"=\" * 50)\n\nstats, top_journals = get_journal_statistics()\n\nif stats is not None:\n    print(f\"📈 Total Journals: {stats['total_journals']:,}\")\n    print(f\"📈 Average Impact Factor: {stats['avg_impact_factor']:.3f}\")\n    print(f\"📈 Impact Factor Range: {stats['min_impact_factor']:.3f} - {stats['max_impact_factor']:.3f}\")\n    print(f\"\\n🏆 Quartile Distribution:\")\n    print(f\"   Q1 (Top): {stats['q1_journals']:,} journals\")\n    print(f\"   Q2: {stats['q2_journals']:,} journals\") \n    print(f\"   Q3: {stats['q3_journals']:,} journals\")\n    print(f\"   Q4: {stats['q4_journals']:,} journals\")\n\nprint(f\"\\n🥇 Top 10 Journals by Impact Factor:\")\nif len(top_journals) > 0:\n    for i, journal in top_journals.iterrows():\n        print(f\"  {i+1:2d}. {journal['journal']}\")\n        print(f\"      📊 IF: {journal['factor']:.3f} | 🏆 {journal['jcr']} | 📄 ISSN: {journal['issn']}\")\n        print()\n\n# Search for specific fields\nprint(\"🔍 Field-Specific Journal Analysis:\")\nfields = [\"machine learning\", \"artificial intelligence\", \"computer vision\", \"robotics\"]\n\nfor field in fields:\n    field_journals = search_journal_impact_factors(field, limit=3)\n    if len(field_journals) > 0:\n        avg_if = field_journals['impact_factor'].mean()\n        print(f\"\\n🎯 {field.title()}:\")\n        print(f\"   📊 Average IF: {avg_if:.3f}\")\n        print(f\"   🏆 Top journal: {field_journals.iloc[0]['journal']} (IF: {field_journals.iloc[0]['impact_factor']:.3f})\")"
  },
  {
   "cell_type": "markdown",
   "metadata": {},
   "source": [
    "## 5. Advanced Search with AI Enhancement\n",
    "\n",
    "Use AI to improve search results (requires API keys):"
   ]
  },
  {
   "cell_type": "code",
   "execution_count": null,
   "metadata": {},
   "outputs": [],
   "source": [
    "from scitex.scholar import PaperAcquisition\n",
    "\n",
    "# Initialize with AI enhancement\n",
    "acquisition = PaperAcquisition(\n",
    "    use_ai=True,  # Enable AI features\n",
    "    email=\"your.email@example.com\"  # Required for some APIs\n",
    ")\n",
    "\n",
    "# Search with specific criteria\n",
    "results = await acquisition.search(\n",
    "    query=\"phase amplitude coupling cognitive control\",\n",
    "    sources=['semantic_scholar', 'pubmed'],\n",
    "    max_results=10,\n",
    "    start_year=2020\n",
    ")\n",
    "\n",
    "print(f\"Found {len(results)} recent papers on the topic\")"
   ]
  },
  {
   "cell_type": "markdown",
   "metadata": {},
   "source": [
    "## 6. Building a Local Search Index\n",
    "\n",
    "Create a searchable index of your PDF collection:"
   ]
  },
  {
   "cell_type": "code",
   "execution_count": null,
   "metadata": {},
   "outputs": [],
   "source": [
    "from scitex.scholar import build_index, search_sync\n",
    "\n",
    "# Build index from PDFs in a directory\n",
    "pdf_directory = Path(\"~/Documents/Papers\").expanduser()\n",
    "if pdf_directory.exists():\n",
    "    build_index(str(pdf_directory))\n",
    "    \n",
    "    # Search your local collection\n",
    "    local_results = search_sync(\n",
    "        \"neural oscillations\",\n",
    "        local_only=True\n",
    "    )\n",
    "    \n",
    "    print(f\"Found {len(local_results)} papers in local collection\")"
   ]
  },
  {
   "cell_type": "markdown",
   "metadata": {},
   "source": [
    "## Tips and Best Practices\n",
    "\n",
    "1. **Rate Limiting**: The module automatically handles rate limiting for APIs\n",
    "2. **Caching**: Search results are cached to avoid redundant API calls\n",
    "3. **Error Handling**: Network errors are handled gracefully\n",
    "4. **PDF Access**: Only open-access PDFs can be downloaded automatically\n",
    "\n",
    "## Environment Variables\n",
    "\n",
    "Set these for enhanced functionality:\n",
    "- `OPENAI_API_KEY`: For AI-enhanced search\n",
    "- `SEMANTIC_SCHOLAR_API_KEY`: For higher rate limits\n",
    "- `ENTREZ_EMAIL`: Your email for PubMed API"
   ]
  }
 ],
 "metadata": {
  "kernelspec": {
   "display_name": "Python 3",
   "language": "python",
   "name": "python3"
  },
  "language_info": {
   "codemirror_mode": {
    "name": "ipython",
    "version": 3
   },
   "file_extension": ".py",
   "mimetype": "text/x-python",
   "name": "python",
   "nbconvert_exporter": "python",
   "pygments_lexer": "ipython3",
   "version": "3.11.0"
  }
 },
 "nbformat": 4,
 "nbformat_minor": 4
}