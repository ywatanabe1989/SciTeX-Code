{
 "cells": [
  {
   "cell_type": "markdown",
   "metadata": {},
   "source": [
    "# SciTeX Scholar Tutorial - Unified Interface\n",
    "\n",
    "This notebook demonstrates the new unified Scholar class that simplifies scientific literature management with a single entry point and method chaining."
   ]
  },
  {
   "cell_type": "markdown",
   "metadata": {},
   "source": [
    "## 1. Basic Setup\n",
    "\n",
    "The Scholar class provides smart defaults and automatic configuration detection."
   ]
  },
  {
   "cell_type": "code",
   "execution_count": null,
   "metadata": {},
   "outputs": [],
   "source": [
    "from scitex.scholar import Scholar\n",
    "\n",
    "# Simple initialization with smart defaults\n",
    "scholar = Scholar(\n",
    "    email=\"your.email@example.com\",  # Optional - auto-detects from environment\n",
    "    enrich_by_default=True,           # Automatically add journal metrics\n",
    "    ai_provider=\"anthropic\"           # Enable AI analysis (optional)\n",
    ")\n",
    "\n",
    "print(\"Scholar initialized with automatic enrichment enabled\")"
   ]
  },
  {
   "cell_type": "markdown",
   "metadata": {},
   "source": [
    "## 2. Simple Literature Search\n",
    "\n",
    "Search returns a PaperCollection that supports method chaining."
   ]
  },
  {
   "cell_type": "code",
   "execution_count": null,
   "metadata": {},
   "outputs": [],
   "source": [
    "# Simple search with automatic enrichment\n",
    "papers = scholar.search(\"deep learning neuroscience\", limit=10)\n",
    "\n",
    "print(f\"Found {len(papers)} papers\")\n",
    "print(\"\\nFirst paper:\")\n",
    "print(f\"Title: {papers[0].title}\")\n",
    "print(f\"Journal: {papers[0].journal}\")\n",
    "print(f\"Impact Factor: {papers[0].impact_factor}\")\n",
    "print(f\"Citations: {papers[0].citation_count}\")"
   ]
  },
  {
   "cell_type": "markdown",
   "metadata": {},
   "source": [
    "## 3. Method Chaining for Advanced Workflows\n",
    "\n",
    "The fluent interface allows complex operations in a single chain."
   ]
  },
  {
   "cell_type": "code",
   "execution_count": null,
   "metadata": {},
   "outputs": [],
   "source": [
    "# Chained operations: search → filter → sort → save\n",
    "high_impact_papers = scholar.search(\"machine learning medicine\") \\\n",
    "                           .filter(year_min=2020, min_citations=10) \\\n",
    "                           .sort_by(\"impact_factor\") \\\n",
    "                           .save(\"high_impact_ml_medicine.bib\")\n",
    "\n",
    "print(f\"Found {len(high_impact_papers)} high-impact papers since 2020\")\n",
    "print(f\"Bibliography saved to: high_impact_ml_medicine.bib\")"
   ]
  },
  {
   "cell_type": "markdown",
   "metadata": {},
   "source": [
    "## 4. Multiple Topic Search\n",
    "\n",
    "Search multiple topics and combine results automatically."
   ]
  },
  {
   "cell_type": "code",
   "execution_count": null,
   "metadata": {},
   "outputs": [],
   "source": [
    "# Batch search for multiple related topics\n",
    "topics = [\n",
    "    \"neural networks brain imaging\",\n",
    "    \"deep learning fMRI\",\n",
    "    \"artificial intelligence neuroscience\"\n",
    "]\n",
    "\n",
    "all_papers = scholar.search_multiple(topics, papers_per_query=5)\n",
    "print(f\"Combined search found {len(all_papers)} unique papers\")\n",
    "\n",
    "# Show summary\n",
    "print(\"\\nCollection Summary:\")\n",
    "print(all_papers.summary())"
   ]
  },
  {
   "cell_type": "markdown",
   "metadata": {},
   "source": [
    "## 5. Advanced Filtering and Analysis\n",
    "\n",
    "Use built-in analysis tools to understand your literature collection."
   ]
  },
  {
   "cell_type": "code",
   "execution_count": null,
   "metadata": {},
   "outputs": [],
   "source": [
    "# Advanced filtering\n",
    "recent_oa_papers = papers.filter(\n",
    "    year_min=2022,\n",
    "    open_access_only=True,\n",
    "    impact_factor_min=5.0\n",
    ")\n",
    "\n",
    "print(f\"Recent high-impact open access papers: {len(recent_oa_papers)}\")\n",
    "\n",
    "# Analyze trends in the collection\n",
    "trends = papers.analyze_trends()\n",
    "print(f\"\\nTrends Analysis:\")\n",
    "print(f\"- Year range: {trends['year_range']}\")\n",
    "print(f\"- Average citations: {trends['citation_statistics']['mean']:.1f}\")\n",
    "print(f\"- Open access: {trends['open_access_percentage']:.1f}%\")\n",
    "print(f\"- Top journal: {list(trends['top_journals'].keys())[0]}\")"
   ]
  },
  {
   "cell_type": "markdown",
   "metadata": {},
   "source": [
    "## 6. PDF Downloads and Export\n",
    "\n",
    "Automatically download available PDFs and export in multiple formats."
   ]
  },
  {
   "cell_type": "code",
   "execution_count": null,
   "metadata": {},
   "outputs": [],
   "source": [
    "# Download PDFs for open access papers\n",
    "papers_with_pdfs = recent_oa_papers.download_pdfs(max_concurrent=3)\n",
    "\n",
    "# Export in different formats\n",
    "papers_with_pdfs.save(\"my_papers.bib\", format=\"bibtex\")\n",
    "papers_with_pdfs.save(\"my_papers.csv\", format=\"csv\")\n",
    "papers_with_pdfs.save(\"my_papers.json\", format=\"json\")\n",
    "\n",
    "print(\"Papers exported in multiple formats\")\n",
    "\n",
    "# Convert to pandas DataFrame for analysis\n",
    "df = papers_with_pdfs.to_dataframe()\n",
    "print(f\"\\nDataFrame shape: {df.shape}\")\n",
    "print(df[['title', 'year', 'citation_count', 'impact_factor']].head())"
   ]
  },
  {
   "cell_type": "markdown",
   "metadata": {},
   "source": [
    "## 7. AI-Powered Analysis (Optional)\n",
    "\n",
    "Use AI to identify research gaps and generate summaries."
   ]
  },
  {
   "cell_type": "code",
   "execution_count": null,
   "metadata": {},
   "outputs": [],
   "source": [
    "# AI-powered research gap analysis\n",
    "if scholar.ai_client:\n",
    "    gaps = papers.find_gaps(\"deep learning neuroscience\")\n",
    "    \n",
    "    print(\"Identified Research Gaps:\")\n",
    "    for i, gap in enumerate(gaps[:3], 1):\n",
    "        print(f\"{i}. {gap}\")\nelse:\n",
    "    print(\"AI analysis not available (no AI provider configured)\")"
   ]
  },
  {
   "cell_type": "markdown",
   "metadata": {},
   "source": [
    "## 8. Quick Utility Functions\n",
    "\n",
    "Convenient methods for common tasks."
   ]
  },
  {
   "cell_type": "code",
   "execution_count": null,
   "metadata": {},
   "outputs": [],
   "source": [
    "# Quick search for just titles\n",
    "quick_results = scholar.quick_search(\"BERT language model\", top_n=3)\n",
    "print(\"Quick search results:\")\n",
    "for title in quick_results:\n",
    "    print(f\"- {title}\")\n",
    "\n",
    "# Get recommendations based on a paper\n",
    "if papers:\n",
    "    recommendations = scholar.get_recommendations(\n",
    "        paper_title=papers[0].title, \n",
    "        limit=5\n",
    "    )\n",
    "    print(f\"\\nRecommendations based on '{papers[0].title[:50]}...':\")\n",
    "    for rec in recommendations[:3]:\n",
    "        print(f\"- {rec.title}\")"
   ]
  },
  {
   "cell_type": "markdown",
   "metadata": {},
   "source": [
    "## 9. Context Manager Usage\n",
    "\n",
    "Use Scholar as a context manager for resource management."
   ]
  },
  {
   "cell_type": "code",
   "execution_count": null,
   "metadata": {},
   "outputs": [],
   "source": [
    "# Context manager usage\n",
    "with Scholar() as s:\n",
    "    results = s.search(\"quantum computing\", limit=5)\n",
    "    summary = results.summary()\n",
    "    print(summary)\n",
    "\n",
    "print(\"Scholar session completed\")"
   ]
  },
  {
   "cell_type": "markdown",
   "metadata": {},
   "source": [
    "## Summary\n",
    "\n",
    "The new Scholar class provides:\n",
    "\n",
    "### Key Features\n",
    "- **Single Entry Point**: One class for all literature management\n",
    "- **Smart Defaults**: Automatic enrichment with journal metrics\n",
    "- **Method Chaining**: Fluent interface for complex workflows\n",
    "- **Multiple Formats**: Export to BibTeX, CSV, JSON\n",
    "- **AI Integration**: Optional AI-powered analysis\n",
    "- **Progress Feedback**: Clear feedback for long operations\n",
    "\n",
    "### Simple API Examples\n",
    "```python\n",
    "# One-liner for complete workflow\n",
    "scholar.search(\"topic\").filter(year_min=2020).save(\"papers.bib\")\n",
    "\n",
    "# Batch processing\n",
    "scholar.search_multiple([\"topic1\", \"topic2\"], papers_per_query=10)\n",
    "\n",
    "# AI analysis\n",
    "papers.find_gaps(\"research topic\")\n",
    "```\n",
    "\n",
    "This unified interface makes literature management much more intuitive while maintaining all the powerful features of the original scholar module."
   ]
  }
 ],
 "metadata": {
  "kernelspec": {
   "display_name": "Python 3",
   "language": "python",
   "name": "python3"
  },
  "language_info": {
   "codemirror_mode": {
    "name": "ipython",
    "version": 3
   },
   "file_extension": ".py",
   "mimetype": "text/x-python",
   "name": "python",
   "nbconvert_exporter": "python",
   "pygments_lexer": "ipython3",
   "version": "3.8.5"
  }
 },
 "nbformat": 4,
 "nbformat_minor": 4
}