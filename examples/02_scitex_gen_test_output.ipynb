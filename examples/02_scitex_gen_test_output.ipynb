{
 "cells": [
  {
   "cell_type": "markdown",
   "id": "88772c81",
   "metadata": {
    "tags": [
     "papermill-error-cell-tag"
    ]
   },
   "source": [
    "<span style=\"color:red; font-family:Helvetica Neue, Helvetica, Arial, sans-serif; font-size:2em;\">An Exception was encountered at '<a href=\"#papermill-error-cell\">In [10]</a>'.</span>"
   ]
  },
  {
   "cell_type": "markdown",
   "id": "c6f791af",
   "metadata": {
    "papermill": {
     "duration": 0.006121,
     "end_time": "2025-07-04T11:41:17.891990",
     "exception": false,
     "start_time": "2025-07-04T11:41:17.885869",
     "status": "completed"
    },
    "tags": []
   },
   "source": [
    "# SciTeX Gen Module - Core Generation Utilities\n",
    "\n",
    "This comprehensive notebook demonstrates the SciTeX gen module capabilities, covering core generation utilities and helper functions.\n",
    "\n",
    "## Features Covered\n",
    "\n",
    "### Core Utilities\n",
    "* Data normalization and transformation\n",
    "* Array dimension handling\n",
    "* Type checking and validation\n",
    "* Shell command execution\n",
    "\n",
    "### Development Tools\n",
    "* Configuration printing\n",
    "* Module inspection\n",
    "* Environment checking\n",
    "* Caching mechanisms\n",
    "\n",
    "### File Operations\n",
    "* Symlink management\n",
    "* Text processing\n",
    "* XML/JSON conversion\n",
    "* Path utilities"
   ]
  },
  {
   "cell_type": "code",
   "execution_count": 1,
   "id": "693f9d01",
   "metadata": {
    "execution": {
     "iopub.execute_input": "2025-07-04T11:41:17.914804Z",
     "iopub.status.busy": "2025-07-04T11:41:17.913987Z",
     "iopub.status.idle": "2025-07-04T11:41:17.920313Z",
     "shell.execute_reply": "2025-07-04T11:41:17.919152Z"
    },
    "papermill": {
     "duration": 0.014159,
     "end_time": "2025-07-04T11:41:17.921962",
     "exception": false,
     "start_time": "2025-07-04T11:41:17.907803",
     "status": "completed"
    },
    "tags": []
   },
   "outputs": [],
   "source": [
    "# Detect notebook name for output directory\n",
    "import os\n",
    "from pathlib import Path\n",
    "\n",
    "# Get notebook name (for papermill compatibility)\n",
    "notebook_name = \"02_scitex_gen\"\n",
    "if 'PAPERMILL_NOTEBOOK_NAME' in os.environ:\n",
    "    notebook_name = Path(os.environ['PAPERMILL_NOTEBOOK_NAME']).stem\n"
   ]
  },
  {
   "cell_type": "code",
   "execution_count": 2,
   "id": "a6eba7e4",
   "metadata": {
    "execution": {
     "iopub.execute_input": "2025-07-04T11:41:17.933597Z",
     "iopub.status.busy": "2025-07-04T11:41:17.932905Z",
     "iopub.status.idle": "2025-07-04T11:41:17.940189Z",
     "shell.execute_reply": "2025-07-04T11:41:17.938701Z"
    },
    "papermill": {
     "duration": 0.01507,
     "end_time": "2025-07-04T11:41:17.941917",
     "exception": false,
     "start_time": "2025-07-04T11:41:17.926847",
     "status": "completed"
    },
    "tags": []
   },
   "outputs": [],
   "source": [
    "# Memory management for automated execution\n",
    "import gc\n",
    "import matplotlib\n",
    "matplotlib.use('Agg')  # Non-interactive backend\n",
    "import matplotlib.pyplot as plt\n",
    "plt.ioff()  # Turn off interactive mode\n",
    "\n",
    "# Function to clean up matplotlib\n",
    "def cleanup_plt():\n",
    "    plt.close('all')\n",
    "    gc.collect()\n"
   ]
  },
  {
   "cell_type": "code",
   "execution_count": 3,
   "id": "0e2cd4a7",
   "metadata": {
    "execution": {
     "iopub.execute_input": "2025-07-04T11:41:17.954021Z",
     "iopub.status.busy": "2025-07-04T11:41:17.953672Z",
     "iopub.status.idle": "2025-07-04T11:41:17.960260Z",
     "shell.execute_reply": "2025-07-04T11:41:17.958793Z"
    },
    "papermill": {
     "duration": 0.014918,
     "end_time": "2025-07-04T11:41:17.961924",
     "exception": false,
     "start_time": "2025-07-04T11:41:17.947006",
     "status": "completed"
    },
    "tags": []
   },
   "outputs": [],
   "source": [
    "import sys\n",
    "sys.path.insert(0, '../src')\n",
    "import scitex\n",
    "import numpy as np\n",
    "import pandas as pd\n",
    "from pathlib import Path\n",
    "import matplotlib.pyplot as plt\n",
    "import tempfile\n",
    "import os\n",
    "\n",
    "# Set up example data directory\n",
    "data_dir = Path(\"./gen_examples\")\n",
    "data_dir.mkdir(exist_ok=True)\n"
   ]
  },
  {
   "cell_type": "code",
   "execution_count": 4,
   "id": "50139c8b",
   "metadata": {
    "execution": {
     "iopub.execute_input": "2025-07-04T11:41:17.973998Z",
     "iopub.status.busy": "2025-07-04T11:41:17.973097Z",
     "iopub.status.idle": "2025-07-04T11:41:17.979701Z",
     "shell.execute_reply": "2025-07-04T11:41:17.978345Z"
    },
    "papermill": {
     "duration": 0.01447,
     "end_time": "2025-07-04T11:41:17.981375",
     "exception": false,
     "start_time": "2025-07-04T11:41:17.966905",
     "status": "completed"
    },
    "tags": []
   },
   "outputs": [],
   "source": [
    "# Path compatibility helper\n",
    "import os\n",
    "from pathlib import Path\n",
    "\n",
    "def ensure_output_dir(subdir: str, notebook_name: str = \"02_scitex_gen\"):\n",
    "    \"\"\"Ensure output directory exists with backward compatibility.\"\"\"\n",
    "    expected_dir = Path(subdir)\n",
    "    actual_dir = Path(f\"{notebook_name}_out\") / subdir\n",
    "    \n",
    "    if not expected_dir.exists() and actual_dir.exists():\n",
    "        # Create symlink for backward compatibility\n",
    "        try:\n",
    "            os.symlink(str(actual_dir.resolve()), str(expected_dir))\n",
    "        except (OSError, FileExistsError):\n",
    "            pass\n",
    "    \n",
    "    return expected_dir\n"
   ]
  },
  {
   "cell_type": "markdown",
   "id": "888cc212",
   "metadata": {
    "papermill": {
     "duration": 0.005478,
     "end_time": "2025-07-04T11:41:17.991658",
     "exception": false,
     "start_time": "2025-07-04T11:41:17.986180",
     "status": "completed"
    },
    "tags": []
   },
   "source": [
    "## Part 1: Data Normalization and Transformation\n",
    "\n",
    "### 1.1 Normalization Functions"
   ]
  },
  {
   "cell_type": "code",
   "execution_count": 5,
   "id": "76b72c2d",
   "metadata": {
    "execution": {
     "iopub.execute_input": "2025-07-04T11:41:18.003941Z",
     "iopub.status.busy": "2025-07-04T11:41:18.002721Z",
     "iopub.status.idle": "2025-07-04T11:41:18.013411Z",
     "shell.execute_reply": "2025-07-04T11:41:18.011861Z"
    },
    "papermill": {
     "duration": 0.018674,
     "end_time": "2025-07-04T11:41:18.015086",
     "exception": false,
     "start_time": "2025-07-04T11:41:17.996412",
     "status": "completed"
    },
    "tags": []
   },
   "outputs": [],
   "source": [
    "# Create sample data for normalization\n",
    "sample_data = np.random.randn(1000) * 10 + 50  # Mean=50, std=10\n",
    "sample_2d = np.random.randn(100, 20) * 5 + 25   # 2D array\n",
    "\n",
    "\n",
    "# Normalize to 0-1 range\n",
    "normalized_01 = scitex.gen.to_01(sample_data)\n",
    "\n",
    "# Z-score normalization\n",
    "z_normalized = scitex.gen.to_z(sample_data)\n",
    "\n",
    "# Remove bias (center at zero)\n",
    "unbiased = scitex.gen.unbias(sample_data)"
   ]
  },
  {
   "cell_type": "code",
   "execution_count": 6,
   "id": "e3ccaef3",
   "metadata": {
    "execution": {
     "iopub.execute_input": "2025-07-04T11:41:18.028657Z",
     "iopub.status.busy": "2025-07-04T11:41:18.027414Z",
     "iopub.status.idle": "2025-07-04T11:41:18.748740Z",
     "shell.execute_reply": "2025-07-04T11:41:18.747472Z"
    },
    "papermill": {
     "duration": 0.729943,
     "end_time": "2025-07-04T11:41:18.750508",
     "exception": false,
     "start_time": "2025-07-04T11:41:18.020565",
     "status": "completed"
    },
    "tags": []
   },
   "outputs": [
    {
     "name": "stderr",
     "output_type": "stream",
     "text": [
      "/tmp/ipykernel_293641/925226068.py:32: UserWarning: FigureCanvasAgg is non-interactive, and thus cannot be shown\n",
      "  plt.show()\n"
     ]
    }
   ],
   "source": [
    "# Percentile-based clipping\n",
    "outlier_data = np.concatenate([sample_data, [200, -50, 150, -30]])  # Add outliers\n",
    "\n",
    "# Clip to 5th and 95th percentiles\n",
    "clipped = scitex.gen.clip_perc(outlier_data, low=5, high=95)\n",
    "\n",
    "# Visualize transformations\n",
    "fig, axes = plt.subplots(2, 2, figsize=(12, 8))\n",
    "fig.suptitle('Data Transformation Examples')\n",
    "\n",
    "axes[0, 0].hist(sample_data, bins=50, alpha=0.7, color='blue')\n",
    "axes[0, 0].set_title('Original Data')\n",
    "axes[0, 0].set_xlabel('Value')\n",
    "axes[0, 0].set_ylabel('Frequency')\n",
    "\n",
    "axes[0, 1].hist(normalized_01, bins=50, alpha=0.7, color='green')\n",
    "axes[0, 1].set_title('Normalized to [0,1]')\n",
    "axes[0, 1].set_xlabel('Value')\n",
    "axes[0, 1].set_ylabel('Frequency')\n",
    "\n",
    "axes[1, 0].hist(z_normalized, bins=50, alpha=0.7, color='red')\n",
    "axes[1, 0].set_title('Z-score Normalized')\n",
    "axes[1, 0].set_xlabel('Value')\n",
    "axes[1, 0].set_ylabel('Frequency')\n",
    "\n",
    "axes[1, 1].hist(clipped, bins=50, alpha=0.7, color='orange')\n",
    "axes[1, 1].set_title('Percentile Clipped')\n",
    "axes[1, 1].set_xlabel('Value')\n",
    "axes[1, 1].set_ylabel('Frequency')\n",
    "\n",
    "plt.tight_layout()\n",
    "plt.show()\n",
    "cleanup_plt()  # Free memory"
   ]
  },
  {
   "cell_type": "markdown",
   "id": "5e9dbbfb",
   "metadata": {
    "papermill": {
     "duration": 0.016884,
     "end_time": "2025-07-04T11:41:18.771963",
     "exception": false,
     "start_time": "2025-07-04T11:41:18.755079",
     "status": "completed"
    },
    "tags": []
   },
   "source": [
    "### 1.2 Ranking and Ordering Functions"
   ]
  },
  {
   "cell_type": "code",
   "execution_count": 7,
   "id": "711916f3",
   "metadata": {
    "execution": {
     "iopub.execute_input": "2025-07-04T11:41:18.784821Z",
     "iopub.status.busy": "2025-07-04T11:41:18.784405Z",
     "iopub.status.idle": "2025-07-04T11:41:19.085496Z",
     "shell.execute_reply": "2025-07-04T11:41:19.083397Z"
    },
    "papermill": {
     "duration": 0.309947,
     "end_time": "2025-07-04T11:41:19.087559",
     "exception": false,
     "start_time": "2025-07-04T11:41:18.777612",
     "status": "completed"
    },
    "tags": []
   },
   "outputs": [
    {
     "name": "stderr",
     "output_type": "stream",
     "text": [
      "/tmp/ipykernel_293641/926019989.py:41: UserWarning: FigureCanvasAgg is non-interactive, and thus cannot be shown\n",
      "  plt.show()\n"
     ]
    }
   ],
   "source": [
    "# Create test data for ranking\n",
    "test_values = np.array([85, 92, 78, 95, 88, 91, 73, 96, 82, 89])\n",
    "\n",
    "# Convert to ranks\n",
    "ranks = scitex.gen.to_rank(test_values)\n",
    "\n",
    "# Show correspondence\n",
    "ranked_data = pd.DataFrame({\n",
    "    'Value': test_values,\n",
    "    'Rank': ranks\n",
    "})\n",
    "ranked_data = ranked_data.sort_values('Rank')\n",
    "\n",
    "# Even/odd utilities - demonstrate with individual numbers\n",
    "test_numbers = [1, 2, 3, 4, 5, 6, 7, 8, 9, 10]\n",
    "for num in test_numbers:\n",
    "    even = scitex.gen.to_even(num)\n",
    "    odd = scitex.gen.to_odd(num)\n",
    "\n",
    "# If you need to apply to arrays, use list comprehension or numpy.vectorize\n",
    "numbers = np.arange(1, 21)\n",
    "even_numbers = np.array([scitex.gen.to_even(n) for n in numbers])\n",
    "odd_numbers = np.array([scitex.gen.to_odd(n) for n in numbers])\n",
    "\n",
    "\n",
    "# Visualize ranking\n",
    "fig, axes = plt.subplots(1, 2, figsize=(12, 4))\n",
    "\n",
    "# Original vs ranked\n",
    "axes[0].bar(range(len(test_values)), test_values, alpha=0.7, color='blue')\n",
    "axes[0].set_title('Original Values')\n",
    "axes[0].set_xlabel('Index')\n",
    "axes[0].set_ylabel('Value')\n",
    "\n",
    "axes[1].bar(range(len(ranks)), ranks, alpha=0.7, color='red')\n",
    "axes[1].set_title('Ranks')\n",
    "axes[1].set_xlabel('Index')\n",
    "axes[1].set_ylabel('Rank')\n",
    "\n",
    "plt.tight_layout()\n",
    "plt.show()\n",
    "cleanup_plt()  # Free memory"
   ]
  },
  {
   "cell_type": "markdown",
   "id": "84c15d45",
   "metadata": {
    "papermill": {
     "duration": 0.017316,
     "end_time": "2025-07-04T11:41:19.110069",
     "exception": false,
     "start_time": "2025-07-04T11:41:19.092753",
     "status": "completed"
    },
    "tags": []
   },
   "source": [
    "## Part 2: Array Dimension Handling\n",
    "\n",
    "### 2.1 DimHandler Class"
   ]
  },
  {
   "cell_type": "code",
   "execution_count": 8,
   "id": "51a98ce2",
   "metadata": {
    "execution": {
     "iopub.execute_input": "2025-07-04T11:41:19.123283Z",
     "iopub.status.busy": "2025-07-04T11:41:19.122370Z",
     "iopub.status.idle": "2025-07-04T11:41:19.128409Z",
     "shell.execute_reply": "2025-07-04T11:41:19.127045Z"
    },
    "papermill": {
     "duration": 0.014524,
     "end_time": "2025-07-04T11:41:19.129950",
     "exception": false,
     "start_time": "2025-07-04T11:41:19.115426",
     "status": "completed"
    },
    "tags": []
   },
   "outputs": [],
   "source": [
    "# Create test arrays with different dimensionsarray_1d = np.random.randn(100)array_2d = np.random.randn(50, 20)array_3d = np.random.randn(10, 8, 5)array_4d = np.random.randn(5, 4, 3, 2)arrays = {    '1D': array_1d,    '2D': array_2d,    '3D': array_3d,    '4D': array_4d}# Print array informationfor name, arr in arrays.items():    print(f\"{name} array shape: {arr.shape}, size: {arr.size}\")# Use DimHandler for dimension managementdim_handler = scitex.gen.DimHandler()# Analyze each arrayfor name, arr in arrays.items():    print(f\"\\nAnalyzing {name} array:\")    print(f\"  Shape: {arr.shape}\")    print(f\"  Dimensions: {arr.ndim}\")    print(f\"  Total elements: {arr.size}\")"
   ]
  },
  {
   "cell_type": "code",
   "execution_count": 9,
   "id": "fbeb68a7",
   "metadata": {
    "execution": {
     "iopub.execute_input": "2025-07-04T11:41:19.144043Z",
     "iopub.status.busy": "2025-07-04T11:41:19.143113Z",
     "iopub.status.idle": "2025-07-04T11:41:19.487210Z",
     "shell.execute_reply": "2025-07-04T11:41:19.485776Z"
    },
    "papermill": {
     "duration": 0.353507,
     "end_time": "2025-07-04T11:41:19.489260",
     "exception": false,
     "start_time": "2025-07-04T11:41:19.135753",
     "status": "completed"
    },
    "tags": []
   },
   "outputs": [
    {
     "name": "stderr",
     "output_type": "stream",
     "text": [
      "/tmp/ipykernel_293641/1750810766.py:35: UserWarning: FigureCanvasAgg is non-interactive, and thus cannot be shown\n",
      "  plt.show()\n"
     ]
    }
   ],
   "source": [
    "# Transpose operations\n",
    "matrix = np.random.randn(5, 3)\n",
    "\n",
    "# Use numpy transpose (scitex.gen.transpose is for dimension reordering with named dims)\n",
    "transposed = matrix.T  # or np.transpose(matrix)\n",
    "\n",
    "# Verify transpose property\n",
    "double_transposed = transposed.T\n",
    "\n",
    "# Example of scitex.gen.transpose with named dimensions\n",
    "# This function is useful when you have meaningful dimension names\n",
    "# Create a 3D tensor with dimensions: batch, time, features\n",
    "tensor_3d = np.random.randn(2, 10, 5)  # 2 batches, 10 time steps, 5 features\n",
    "src_dims = np.array(['batch', 'time', 'features'])\n",
    "tgt_dims = np.array(['time', 'batch', 'features'])  # Swap batch and time\n",
    "\n",
    "transposed_3d = scitex.gen.transpose(tensor_3d, src_dims, tgt_dims)\n",
    "\n",
    "# Visualize transpose operation\n",
    "fig, axes = plt.subplots(1, 2, figsize=(10, 4))\n",
    "\n",
    "im1 = axes[0].imshow(matrix, cmap='viridis', aspect='auto')\n",
    "axes[0].set_title(f'Original Matrix {matrix.shape}')\n",
    "axes[0].set_xlabel('Columns')\n",
    "axes[0].set_ylabel('Rows')\n",
    "plt.colorbar(im1, ax=axes[0])\n",
    "\n",
    "im2 = axes[1].imshow(transposed, cmap='viridis', aspect='auto')\n",
    "axes[1].set_title(f'Transposed Matrix {transposed.shape}')\n",
    "axes[1].set_xlabel('Columns')\n",
    "axes[1].set_ylabel('Rows')\n",
    "plt.colorbar(im2, ax=axes[1])\n",
    "\n",
    "plt.tight_layout()\n",
    "plt.show()\n",
    "cleanup_plt()  # Free memory"
   ]
  },
  {
   "cell_type": "markdown",
   "id": "eabd89db",
   "metadata": {
    "papermill": {
     "duration": 0.017265,
     "end_time": "2025-07-04T11:41:19.512708",
     "exception": false,
     "start_time": "2025-07-04T11:41:19.495443",
     "status": "completed"
    },
    "tags": []
   },
   "source": [
    "## Part 3: Type Checking and Variable Information\n",
    "\n",
    "### 3.1 Variable Information System"
   ]
  },
  {
   "cell_type": "markdown",
   "id": "cfffc78e",
   "metadata": {
    "tags": [
     "papermill-error-cell-tag"
    ]
   },
   "source": [
    "<span id=\"papermill-error-cell\" style=\"color:red; font-family:Helvetica Neue, Helvetica, Arial, sans-serif; font-size:2em;\">Execution using papermill encountered an exception here and stopped:</span>"
   ]
  },
  {
   "cell_type": "code",
   "execution_count": 10,
   "id": "8733eab1",
   "metadata": {
    "execution": {
     "iopub.execute_input": "2025-07-04T11:41:19.525776Z",
     "iopub.status.busy": "2025-07-04T11:41:19.525005Z",
     "iopub.status.idle": "2025-07-04T11:41:19.537133Z",
     "shell.execute_reply": "2025-07-04T11:41:19.535466Z"
    },
    "papermill": {
     "duration": 0.020518,
     "end_time": "2025-07-04T11:41:19.538939",
     "exception": true,
     "start_time": "2025-07-04T11:41:19.518421",
     "status": "failed"
    },
    "tags": []
   },
   "outputs": [
    {
     "ename": "IndentationError",
     "evalue": "expected an indented block after 'if' statement on line 20 (2725345229.py, line 21)",
     "output_type": "error",
     "traceback": [
      "  \u001b[36mCell\u001b[39m\u001b[36m \u001b[39m\u001b[32mIn[10]\u001b[39m\u001b[32m, line 21\u001b[39m\n\u001b[31m    \u001b[39m\u001b[31mif hasattr(var, '__len__') and not isinstance(var, str):\u001b[39m\n    ^\n\u001b[31mIndentationError\u001b[39m\u001b[31m:\u001b[39m expected an indented block after 'if' statement on line 20\n"
     ]
    }
   ],
   "source": [
    "# Create various data types for testing\n",
    "test_variables = {\n",
    "    'integer': 42,\n",
    "    'float': 3.14159,\n",
    "    'string': \"Hello, SciTeX!\",\n",
    "    'list': [1, 2, 3, 4, 5],\n",
    "    'dict': {'a': 1, 'b': 2, 'c': 3},\n",
    "    'numpy_array': np.array([1, 2, 3, 4, 5]),\n",
    "    'pandas_series': pd.Series([1, 2, 3, 4, 5]),\n",
    "    'pandas_dataframe': pd.DataFrame({'x': [1, 2, 3], 'y': [4, 5, 6]}),\n",
    "    'complex': 3 + 4j,\n",
    "    'boolean': True,\n",
    "    'none_type': None\n",
    "}\n",
    "\n",
    "\n",
    "for name, var in test_variables.items():\n",
    "    try:\n",
    "        var_details = scitex.gen.var_info(var)\n",
    "        if hasattr(var, 'shape'):\n",
    "            # Condition met\n",
    "        if hasattr(var, '__len__') and not isinstance(var, str):\n",
    "            # Condition met\n",
    "        if hasattr(var, 'dtype'):\n",
    "            # Condition met\n",
    "        if hasattr(var, 'nbytes'):\n",
    "            # Condition met\n",
    "    except Exception as e:        pass  # Fixed incomplete except block\n",
    ""
   ]
  },
  {
   "cell_type": "markdown",
   "id": "95d56c08",
   "metadata": {
    "papermill": {
     "duration": null,
     "end_time": null,
     "exception": null,
     "start_time": null,
     "status": "pending"
    },
    "tags": []
   },
   "source": [
    "### 3.2 ArrayLike Type Checking"
   ]
  },
  {
   "cell_type": "code",
   "execution_count": null,
   "id": "71f0fb5d",
   "metadata": {
    "papermill": {
     "duration": null,
     "end_time": null,
     "exception": null,
     "start_time": null,
     "status": "pending"
    },
    "tags": []
   },
   "outputs": [],
   "source": [
    "# Test ArrayLike type checking\n",
    "array_like_candidates = [\n",
    "    np.array([1, 2, 3]),\n",
    "    [1, 2, 3],\n",
    "    (1, 2, 3),\n",
    "    pd.Series([1, 2, 3]),\n",
    "    pd.DataFrame({'x': [1, 2, 3]}),\n",
    "    \"not array-like\",\n",
    "    42,\n",
    "    {'a': 1, 'b': 2}\n",
    "]\n",
    "\n",
    "\n",
    "for i, candidate in enumerate(array_like_candidates):\n",
    "    try:\n",
    "        # Check if it's array-like\n",
    "        is_array_like = isinstance(candidate, (np.ndarray, list, tuple, pd.Series, pd.DataFrame))\n",
    "        \n",
    "        if is_array_like:\n",
    "            if hasattr(candidate, 'shape'):\n",
    "                # Condition met\n",
    "            elif hasattr(candidate, '__len__'):\n",
    "                pass  # Fixed incomplete block\n",
    "    except Exception as e:        pass  # Fixed incomplete except block\n",
    ""
   ]
  },
  {
   "cell_type": "markdown",
   "id": "f0ab8ce4",
   "metadata": {
    "papermill": {
     "duration": null,
     "end_time": null,
     "exception": null,
     "start_time": null,
     "status": "pending"
    },
    "tags": []
   },
   "source": [
    "## Part 4: Environment and Configuration\n",
    "\n",
    "### 4.1 Environment Detection"
   ]
  },
  {
   "cell_type": "code",
   "execution_count": null,
   "id": "7e23347d",
   "metadata": {
    "papermill": {
     "duration": null,
     "end_time": null,
     "exception": null,
     "start_time": null,
     "status": "pending"
    },
    "tags": []
   },
   "outputs": [],
   "source": [
    "# Check environment\n",
    "\n",
    "# Check if running in IPython/Jupyter\n",
    "is_ipython = scitex.gen.is_ipython()\n",
    "is_script = scitex.gen.is_script()\n",
    "\n",
    "\n",
    "# Host checking\n",
    "try:\n",
    "    hostname = scitex.gen.check_host()\n",
    "except Exception as e:\n",
    "    pass  # Fixed incomplete except block\n",
    "\n",
    "# List installed packages\n",
    "try:\n",
    "    packages = scitex.gen.list_packages()\n",
    "    if packages:\n",
    "        for pkg in packages[:10]:\n",
    "            # Process pkg\n",
    "        if len(packages) > 10:\n",
    "            # Condition met\n",
    "except Exception as e:    pass  # Fixed incomplete except block\n",
    ""
   ]
  },
  {
   "cell_type": "markdown",
   "id": "3a505e34",
   "metadata": {
    "papermill": {
     "duration": null,
     "end_time": null,
     "exception": null,
     "start_time": null,
     "status": "pending"
    },
    "tags": []
   },
   "source": [
    "### 4.2 Configuration Management"
   ]
  },
  {
   "cell_type": "code",
   "execution_count": null,
   "id": "3f2486f2",
   "metadata": {
    "papermill": {
     "duration": null,
     "end_time": null,
     "exception": null,
     "start_time": null,
     "status": "pending"
    },
    "tags": []
   },
   "outputs": [],
   "source": [
    "# Print configuration\n",
    "\n",
    "try:\n",
    "    scitex.gen.print_config()\n",
    "except Exception as e:\n",
    "    pass  # Fixed incomplete except block\n",
    "\n",
    "# Module inspection\n",
    "\n",
    "try:\n",
    "    gen_info = scitex.gen.inspect_module(scitex.gen)\n",
    "except Exception as e:    pass  # Fixed incomplete except block\n"
   ]
  },
  {
   "cell_type": "markdown",
   "id": "3774a413",
   "metadata": {
    "papermill": {
     "duration": null,
     "end_time": null,
     "exception": null,
     "start_time": null,
     "status": "pending"
    },
    "tags": []
   },
   "source": [
    "## Part 5: File Operations and Utilities\n",
    "\n",
    "### 5.1 Symlink Management"
   ]
  },
  {
   "cell_type": "code",
   "execution_count": null,
   "id": "17fd82af",
   "metadata": {
    "papermill": {
     "duration": null,
     "end_time": null,
     "exception": null,
     "start_time": null,
     "status": "pending"
    },
    "tags": []
   },
   "outputs": [],
   "source": [
    "# Create test files for symlink operations\n",
    "test_file = data_dir / \"test_original.txt\"\n",
    "test_content = \"This is a test file for symlink operations.\\nLine 2\\nLine 3\"\n",
    "\n",
    "# Write test file\n",
    "with open(test_file, 'w') as f:\n",
    "    f.write(test_content)\n",
    "\n",
    "\n",
    "# Create symlink\n",
    "symlink_path = data_dir / \"test_symlink.txt\"\n",
    "try:\n",
    "    scitex.gen.symlink(test_file, symlink_path)\n",
    "    \n",
    "    # Read through symlink\n",
    "    with open(symlink_path, 'r') as f:\n",
    "        symlink_content = f.read()\n",
    "    \n",
    "    \n",
    "except Exception as e:    pass  # Fixed incomplete except block\n"
   ]
  },
  {
   "cell_type": "markdown",
   "id": "6c550713",
   "metadata": {
    "papermill": {
     "duration": null,
     "end_time": null,
     "exception": null,
     "start_time": null,
     "status": "pending"
    },
    "tags": []
   },
   "source": [
    "### 5.2 Text Processing Utilities"
   ]
  },
  {
   "cell_type": "code",
   "execution_count": null,
   "id": "6d47cd18",
   "metadata": {
    "papermill": {
     "duration": null,
     "end_time": null,
     "exception": null,
     "start_time": null,
     "status": "pending"
    },
    "tags": []
   },
   "outputs": [],
   "source": [
    "# Title case conversiontest_titles = [    \"hello world\",    \"THE QUICK BROWN FOX\",    \"machine learning algorithms\",    \"data science and AI\",    print(\"python programming\")]for title in test_titles:    try:        title_cased = scitex.gen.title_case(title)    except Exception as e:        pass  # Fixed incomplete except block# Title to path conversionfor title in test_titles:    try:        path_name = scitex.gen.title2path(title)    except Exception as e:        pass  # Fixed incomplete except block"
   ]
  },
  {
   "cell_type": "markdown",
   "id": "05e52a65",
   "metadata": {
    "papermill": {
     "duration": null,
     "end_time": null,
     "exception": null,
     "start_time": null,
     "status": "pending"
    },
    "tags": []
   },
   "source": [
    "### 5.3 Caching Mechanisms"
   ]
  },
  {
   "cell_type": "code",
   "execution_count": null,
   "id": "1add17fe",
   "metadata": {
    "papermill": {
     "duration": null,
     "end_time": null,
     "exception": null,
     "start_time": null,
     "status": "pending"
    },
    "tags": []
   },
   "outputs": [],
   "source": [
    "# Demonstrate caching with simple computationimport timedef simple_computation(n):    \"\"\"Simulate a computation that takes some time.\"\"\"    time.sleep(0.1)  # Simulate computation time (reduced from 0.5)        result = sum(i**2 for i in range(n))    return result# Use cachingcached_computation = scitex.gen.cache(simple_computation)# First call - will computestart_time = time.time()result1 = cached_computation(1000)first_time = time.time() - start_time# Second call - should be cachedstart_time = time.time()result2 = cached_computation(1000)second_time = time.time() - start_timeprint(f\"Second call print(f\"result: {result2}\")\"))if second_time > 0:else:    pass  # Fixed incomplete block"
   ]
  },
  {
   "cell_type": "markdown",
   "id": "72df3d36",
   "metadata": {
    "papermill": {
     "duration": null,
     "end_time": null,
     "exception": null,
     "start_time": null,
     "status": "pending"
    },
    "tags": []
   },
   "source": [
    "## Part 6: Advanced Features\n",
    "\n",
    "### 6.1 Shell Command Execution"
   ]
  },
  {
   "cell_type": "code",
   "execution_count": null,
   "id": "df28c6f1",
   "metadata": {
    "papermill": {
     "duration": null,
     "end_time": null,
     "exception": null,
     "start_time": null,
     "status": "pending"
    },
    "tags": []
   },
   "outputs": [],
   "source": [
    "# Execute shell commands safely# Simple commandscommands = [    \"echo 'Hello from shell'\",    \"date\",    \"pwd\",    print(\"ls -la | head -5\")]for cmd in commands:    try:        result = scitex.gen.run_shellcommand(cmd)    except Exception as e:        pass  # Fixed incomplete except block"
   ]
  },
  {
   "cell_type": "markdown",
   "id": "ee7e127f",
   "metadata": {
    "papermill": {
     "duration": null,
     "end_time": null,
     "exception": null,
     "start_time": null,
     "status": "pending"
    },
    "tags": []
   },
   "source": [
    "### 6.2 XML and Data Conversion"
   ]
  },
  {
   "cell_type": "code",
   "execution_count": null,
   "id": "7c534af7",
   "metadata": {
    "papermill": {
     "duration": null,
     "end_time": null,
     "exception": null,
     "start_time": null,
     "status": "pending"
    },
    "tags": []
   },
   "outputs": [],
   "source": [
    "# XML to dictionary conversion - simplified example\n",
    "\n",
    "# Use a minimal XML example\n",
    "sample_xml = '''<data>\n",
    "    <value>42</value>\n",
    "    <name>test</name>\n",
    "</data>'''\n",
    "\n",
    "try:\n",
    "    # Try to convert XML to dictionary\n",
    "    if hasattr(scitex.gen, 'xml2dict'):\n",
    "        xml_dict = scitex.gen.xml2dict(sample_xml)\n",
    "    else:\n",
    "        # Manual simple parsing for demonstration\n",
    "    \n",
    "except Exception as e:\n",
    "    # Show expected output"
   ]
  },
  {
   "cell_type": "markdown",
   "id": "ec68ed58",
   "metadata": {
    "papermill": {
     "duration": null,
     "end_time": null,
     "exception": null,
     "start_time": null,
     "status": "pending"
    },
    "tags": []
   },
   "source": [
    "### 6.3 Time Stamping and Logging"
   ]
  },
  {
   "cell_type": "code",
   "execution_count": null,
   "id": "af1f0a49",
   "metadata": {
    "papermill": {
     "duration": null,
     "end_time": null,
     "exception": null,
     "start_time": null,
     "status": "pending"
    },
    "tags": []
   },
   "outputs": [],
   "source": [
    "# TimeStamper for tracking operationstry:    # Create timestamp handler    timestamper = scitex.gen.TimeStamper()        # Perform some operations with timestamps    operations = [        \"Data loading\",        \"Preprocessing\",        \"Model training\",        \"Evaluation\",        print(\"Results saving\")    ]        for i, operation in enumerate(operations):        time.sleep(0.01)  # Simulate operation time                # Add timestamp (if method exists)        if hasattr(timestamper, 'add_timestamp'):            timestamper.add_timestamp(operation)        else:            # Manual timestamp            current_time = time.strftime(\"%Y-%m-%d %H:%M:%S\")    except Exception as e:    pass  # Fixed incomplete except block"
   ]
  },
  {
   "cell_type": "markdown",
   "id": "cbb69bd6",
   "metadata": {
    "papermill": {
     "duration": null,
     "end_time": null,
     "exception": null,
     "start_time": null,
     "status": "pending"
    },
    "tags": []
   },
   "source": [
    "## Part 7: Output Redirection and Logging\n",
    "\n",
    "### 7.1 Tee Functionality"
   ]
  },
  {
   "cell_type": "code",
   "execution_count": null,
   "id": "91f0530f",
   "metadata": {
    "papermill": {
     "duration": null,
     "end_time": null,
     "exception": null,
     "start_time": null,
     "status": "pending"
    },
    "tags": []
   },
   "outputs": [],
   "source": [
    "# Tee functionality - output to multiple destinations\n",
    "\n",
    "log_file = data_dir / \"output.log\"\n",
    "\n",
    "try:\n",
    "    # Create Tee object\n",
    "    tee = scitex.gen.Tee(str(log_file))\n",
    "    \n",
    "    # Redirect output\n",
    "    original_stdout = sys.stdout\n",
    "    sys.stdout = tee\n",
    "    \n",
    "    # Print some messages\n",
    "    \n",
    "    # Restore original stdout\n",
    "    sys.stdout = original_stdout\n",
    "    tee.close()\n",
    "    \n",
    "    \n",
    "    # Read back the log file\n",
    "    if log_file.exists():\n",
    "        with open(log_file, 'r') as f:\n",
    "            log_content = f.read()\n",
    "        \n",
    "except Exception as e:\n",
    "    # Ensure stdout is restored\n",
    "    sys.stdout = original_stdout"
   ]
  },
  {
   "cell_type": "markdown",
   "id": "c8860755",
   "metadata": {
    "papermill": {
     "duration": null,
     "end_time": null,
     "exception": null,
     "start_time": null,
     "status": "pending"
    },
    "tags": []
   },
   "source": [
    "## Summary and Best Practices\n",
    "\n",
    "This tutorial demonstrated the comprehensive capabilities of the SciTeX gen module:\n",
    "\n",
    "### Key Features Covered:\n",
    "1. **Data Normalization**: `to_01()`, `to_z()`, `unbias()`, `clip_perc()`\n",
    "2. **Array Operations**: `DimHandler`, `transpose()`, dimension management\n",
    "3. **Type Checking**: `var_info()`, `ArrayLike` validation\n",
    "4. **Environment Detection**: `is_ipython()`, `is_script()`, `check_host()`\n",
    "5. **File Operations**: `symlink()`, path utilities\n",
    "6. **Text Processing**: `title_case()`, `title2path()`\n",
    "7. **Caching**: `cache()` decorator for expensive operations\n",
    "8. **System Integration**: Shell commands, configuration management\n",
    "9. **Data Conversion**: `xml2dict()` for structured data\n",
    "10. **Output Management**: `Tee` for logging and redirection\n",
    "\n",
    "### Best Practices:\n",
    "- Use **normalization functions** for consistent data preprocessing\n",
    "- Apply **caching** for expensive computations\n",
    "- Use **environment detection** for conditional execution\n",
    "- Implement **proper error handling** for robust applications\n",
    "- Use **symlinks** for efficient file management\n",
    "- Apply **type checking** for data validation\n",
    "- Use **Tee** for comprehensive logging"
   ]
  },
  {
   "cell_type": "code",
   "execution_count": null,
   "id": "8933d124",
   "metadata": {
    "papermill": {
     "duration": null,
     "end_time": null,
     "exception": null,
     "start_time": null,
     "status": "pending"
    },
    "tags": []
   },
   "outputs": [],
   "source": [
    "# Cleanup\n",
    "import shutil\n",
    "\n",
    "cleanup = input(\"Clean up example files? (y/n): \").lower().startswith('y')\n",
    "if cleanup:\n",
    "    shutil.rmtree(data_dir)\n",
    "else:\n",
    "    pass  # Fixed incomplete block\n"
   ]
  }
 ],
 "metadata": {
  "kernelspec": {
   "display_name": "Python 3",
   "language": "python",
   "name": "python3"
  },
  "language_info": {
   "codemirror_mode": {
    "name": "ipython",
    "version": 3
   },
   "file_extension": ".py",
   "mimetype": "text/x-python",
   "name": "python",
   "nbconvert_exporter": "python",
   "pygments_lexer": "ipython3",
   "version": "3.11.0rc1"
  },
  "papermill": {
   "default_parameters": {},
   "duration": 11.438143,
   "end_time": "2025-07-04T11:41:22.269316",
   "environment_variables": {},
   "exception": true,
   "input_path": "02_scitex_gen.ipynb",
   "output_path": "02_scitex_gen_test_output.ipynb",
   "parameters": {},
   "start_time": "2025-07-04T11:41:10.831173",
   "version": "2.6.0"
  }
 },
 "nbformat": 4,
 "nbformat_minor": 5
}