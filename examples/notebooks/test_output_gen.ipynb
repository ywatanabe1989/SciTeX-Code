{
 "cells": [
  {
   "cell_type": "markdown",
   "id": "3bbf73b3",
   "metadata": {
    "papermill": {
     "duration": 0.005584,
     "end_time": "2025-07-24T19:14:57.290526",
     "exception": false,
     "start_time": "2025-07-24T19:14:57.284942",
     "status": "completed"
    },
    "tags": []
   },
   "source": [
    "# SciTeX Gen Module - Core Generation Utilities\n",
    "\n",
    "This comprehensive notebook demonstrates the SciTeX gen module capabilities, covering core generation utilities and helper functions.\n",
    "\n",
    "## Features Covered\n",
    "\n",
    "### Core Utilities\n",
    "* Data normalization and transformation\n",
    "* Array dimension handling\n",
    "* Type checking and validation\n",
    "* Shell command execution\n",
    "\n",
    "### Development Tools\n",
    "* Configuration printing\n",
    "* Module inspection\n",
    "* Environment checking\n",
    "* Caching mechanisms\n",
    "\n",
    "### File Operations\n",
    "* Symlink management\n",
    "* Text processing\n",
    "* XML/JSON conversion\n",
    "* Path utilities"
   ]
  },
  {
   "cell_type": "code",
   "execution_count": 1,
   "id": "8db558d1",
   "metadata": {
    "execution": {
     "iopub.execute_input": "2025-07-24T19:14:57.310370Z",
     "iopub.status.busy": "2025-07-24T19:14:57.309925Z",
     "iopub.status.idle": "2025-07-24T19:14:57.315704Z",
     "shell.execute_reply": "2025-07-24T19:14:57.314487Z"
    },
    "papermill": {
     "duration": 0.013578,
     "end_time": "2025-07-24T19:14:57.317278",
     "exception": false,
     "start_time": "2025-07-24T19:14:57.303700",
     "status": "completed"
    },
    "tags": []
   },
   "outputs": [],
   "source": [
    "# Detect notebook name for output directory\n",
    "import os\n",
    "from pathlib import Path\n",
    "\n",
    "# Get notebook name (for papermill compatibility)\n",
    "notebook_name = \"02_scitex_gen\"\n",
    "if 'PAPERMILL_NOTEBOOK_NAME' in os.environ:\n",
    "    notebook_name = Path(os.environ['PAPERMILL_NOTEBOOK_NAME']).stem\n"
   ]
  },
  {
   "cell_type": "code",
   "execution_count": 2,
   "id": "8e09fea1",
   "metadata": {
    "execution": {
     "iopub.execute_input": "2025-07-24T19:14:57.330412Z",
     "iopub.status.busy": "2025-07-24T19:14:57.329037Z",
     "iopub.status.idle": "2025-07-24T19:14:57.335776Z",
     "shell.execute_reply": "2025-07-24T19:14:57.334518Z"
    },
    "papermill": {
     "duration": 0.014615,
     "end_time": "2025-07-24T19:14:57.337165",
     "exception": false,
     "start_time": "2025-07-24T19:14:57.322550",
     "status": "completed"
    },
    "tags": []
   },
   "outputs": [],
   "source": [
    "# Memory management for automated execution\n",
    "import gc\n",
    "import matplotlib\n",
    "matplotlib.use('Agg')  # Non-interactive backend\n",
    "import matplotlib.pyplot as plt\n",
    "plt.ioff()  # Turn off interactive mode\n",
    "\n",
    "# Function to clean up matplotlib\n",
    "def cleanup_plt():\n",
    "    plt.close('all')\n",
    "    gc.collect()\n"
   ]
  },
  {
   "cell_type": "code",
   "execution_count": 3,
   "id": "8bd849db",
   "metadata": {
    "execution": {
     "iopub.execute_input": "2025-07-24T19:14:57.350390Z",
     "iopub.status.busy": "2025-07-24T19:14:57.349324Z",
     "iopub.status.idle": "2025-07-24T19:14:57.355663Z",
     "shell.execute_reply": "2025-07-24T19:14:57.354494Z"
    },
    "papermill": {
     "duration": 0.014565,
     "end_time": "2025-07-24T19:14:57.357580",
     "exception": false,
     "start_time": "2025-07-24T19:14:57.343015",
     "status": "completed"
    },
    "tags": []
   },
   "outputs": [],
   "source": [
    "import sys\n",
    "sys.path.insert(0, '../src')\n",
    "import scitex\n",
    "import numpy as np\n",
    "import pandas as pd\n",
    "from pathlib import Path\n",
    "import matplotlib.pyplot as plt\n",
    "import tempfile\n",
    "import os\n",
    "\n",
    "# Set up example data directory\n",
    "data_dir = Path(\"./gen_examples\")\n",
    "data_dir.mkdir(exist_ok=True)\n"
   ]
  },
  {
   "cell_type": "code",
   "execution_count": 4,
   "id": "d2857604",
   "metadata": {
    "execution": {
     "iopub.execute_input": "2025-07-24T19:14:57.374725Z",
     "iopub.status.busy": "2025-07-24T19:14:57.374022Z",
     "iopub.status.idle": "2025-07-24T19:14:57.381381Z",
     "shell.execute_reply": "2025-07-24T19:14:57.380306Z"
    },
    "papermill": {
     "duration": 0.018794,
     "end_time": "2025-07-24T19:14:57.383434",
     "exception": false,
     "start_time": "2025-07-24T19:14:57.364640",
     "status": "completed"
    },
    "tags": []
   },
   "outputs": [],
   "source": [
    "# Path compatibility helper\n",
    "import os\n",
    "from pathlib import Path\n",
    "\n",
    "def ensure_output_dir(subdir: str, notebook_name: str = \"02_scitex_gen\"):\n",
    "    \"\"\"Ensure output directory exists with backward compatibility.\"\"\"\n",
    "    expected_dir = Path(subdir)\n",
    "    actual_dir = Path(f\"{notebook_name}_out\") / subdir\n",
    "    \n",
    "    if not expected_dir.exists() and actual_dir.exists():\n",
    "        # Create symlink for backward compatibility\n",
    "        try:\n",
    "            os.symlink(str(actual_dir.resolve()), str(expected_dir))\n",
    "        except (OSError, FileExistsError):\n",
    "            pass\n",
    "    \n",
    "    return expected_dir\n"
   ]
  },
  {
   "cell_type": "markdown",
   "id": "2b2864bc",
   "metadata": {
    "papermill": {
     "duration": 0.005417,
     "end_time": "2025-07-24T19:14:57.394231",
     "exception": false,
     "start_time": "2025-07-24T19:14:57.388814",
     "status": "completed"
    },
    "tags": []
   },
   "source": [
    "## Part 1: Data Normalization and Transformation\n",
    "\n",
    "### 1.1 Normalization Functions"
   ]
  },
  {
   "cell_type": "code",
   "execution_count": 5,
   "id": "0373642e",
   "metadata": {
    "execution": {
     "iopub.execute_input": "2025-07-24T19:14:57.406811Z",
     "iopub.status.busy": "2025-07-24T19:14:57.406149Z",
     "iopub.status.idle": "2025-07-24T19:14:57.418734Z",
     "shell.execute_reply": "2025-07-24T19:14:57.417473Z"
    },
    "papermill": {
     "duration": 0.020307,
     "end_time": "2025-07-24T19:14:57.420231",
     "exception": false,
     "start_time": "2025-07-24T19:14:57.399924",
     "status": "completed"
    },
    "tags": []
   },
   "outputs": [],
   "source": [
    "# Create sample data for normalization\n",
    "sample_data = np.random.randn(1000) * 10 + 50  # Mean=50, std=10\n",
    "sample_2d = np.random.randn(100, 20) * 5 + 25   # 2D array\n",
    "\n",
    "\n",
    "# Normalize to 0-1 range\n",
    "normalized_01 = scitex.gen.to_01(sample_data)\n",
    "\n",
    "# Z-score normalization\n",
    "z_normalized = scitex.gen.to_z(sample_data)\n",
    "\n",
    "# Remove bias (center at zero)\n",
    "unbiased = scitex.gen.unbias(sample_data)"
   ]
  },
  {
   "cell_type": "code",
   "execution_count": 6,
   "id": "5ec1f8cd",
   "metadata": {
    "execution": {
     "iopub.execute_input": "2025-07-24T19:14:57.432714Z",
     "iopub.status.busy": "2025-07-24T19:14:57.432300Z",
     "iopub.status.idle": "2025-07-24T19:14:57.920336Z",
     "shell.execute_reply": "2025-07-24T19:14:57.919149Z"
    },
    "papermill": {
     "duration": 0.495706,
     "end_time": "2025-07-24T19:14:57.921858",
     "exception": false,
     "start_time": "2025-07-24T19:14:57.426152",
     "status": "completed"
    },
    "tags": []
   },
   "outputs": [
    {
     "name": "stderr",
     "output_type": "stream",
     "text": [
      "/tmp/ipykernel_355095/925226068.py:32: UserWarning: FigureCanvasAgg is non-interactive, and thus cannot be shown\n",
      "  plt.show()\n"
     ]
    }
   ],
   "source": [
    "# Percentile-based clipping\n",
    "outlier_data = np.concatenate([sample_data, [200, -50, 150, -30]])  # Add outliers\n",
    "\n",
    "# Clip to 5th and 95th percentiles\n",
    "clipped = scitex.gen.clip_perc(outlier_data, low=5, high=95)\n",
    "\n",
    "# Visualize transformations\n",
    "fig, axes = plt.subplots(2, 2, figsize=(12, 8))\n",
    "fig.suptitle('Data Transformation Examples')\n",
    "\n",
    "axes[0, 0].hist(sample_data, bins=50, alpha=0.7, color='blue')\n",
    "axes[0, 0].set_title('Original Data')\n",
    "axes[0, 0].set_xlabel('Value')\n",
    "axes[0, 0].set_ylabel('Frequency')\n",
    "\n",
    "axes[0, 1].hist(normalized_01, bins=50, alpha=0.7, color='green')\n",
    "axes[0, 1].set_title('Normalized to [0,1]')\n",
    "axes[0, 1].set_xlabel('Value')\n",
    "axes[0, 1].set_ylabel('Frequency')\n",
    "\n",
    "axes[1, 0].hist(z_normalized, bins=50, alpha=0.7, color='red')\n",
    "axes[1, 0].set_title('Z-score Normalized')\n",
    "axes[1, 0].set_xlabel('Value')\n",
    "axes[1, 0].set_ylabel('Frequency')\n",
    "\n",
    "axes[1, 1].hist(clipped, bins=50, alpha=0.7, color='orange')\n",
    "axes[1, 1].set_title('Percentile Clipped')\n",
    "axes[1, 1].set_xlabel('Value')\n",
    "axes[1, 1].set_ylabel('Frequency')\n",
    "\n",
    "plt.tight_layout()\n",
    "plt.show()\n",
    "cleanup_plt()  # Free memory"
   ]
  },
  {
   "cell_type": "markdown",
   "id": "ca0390d4",
   "metadata": {
    "papermill": {
     "duration": 0.014328,
     "end_time": "2025-07-24T19:14:57.940980",
     "exception": false,
     "start_time": "2025-07-24T19:14:57.926652",
     "status": "completed"
    },
    "tags": []
   },
   "source": [
    "### 1.2 Ranking and Ordering Functions"
   ]
  },
  {
   "cell_type": "code",
   "execution_count": 7,
   "id": "1a434cf4",
   "metadata": {
    "execution": {
     "iopub.execute_input": "2025-07-24T19:14:57.952749Z",
     "iopub.status.busy": "2025-07-24T19:14:57.952124Z",
     "iopub.status.idle": "2025-07-24T19:14:58.232610Z",
     "shell.execute_reply": "2025-07-24T19:14:58.231532Z"
    },
    "papermill": {
     "duration": 0.288056,
     "end_time": "2025-07-24T19:14:58.234337",
     "exception": false,
     "start_time": "2025-07-24T19:14:57.946281",
     "status": "completed"
    },
    "tags": []
   },
   "outputs": [
    {
     "name": "stderr",
     "output_type": "stream",
     "text": [
      "/tmp/ipykernel_355095/926019989.py:41: UserWarning: FigureCanvasAgg is non-interactive, and thus cannot be shown\n",
      "  plt.show()\n"
     ]
    }
   ],
   "source": [
    "# Create test data for ranking\n",
    "test_values = np.array([85, 92, 78, 95, 88, 91, 73, 96, 82, 89])\n",
    "\n",
    "# Convert to ranks\n",
    "ranks = scitex.gen.to_rank(test_values)\n",
    "\n",
    "# Show correspondence\n",
    "ranked_data = pd.DataFrame({\n",
    "    'Value': test_values,\n",
    "    'Rank': ranks\n",
    "})\n",
    "ranked_data = ranked_data.sort_values('Rank')\n",
    "\n",
    "# Even/odd utilities - demonstrate with individual numbers\n",
    "test_numbers = [1, 2, 3, 4, 5, 6, 7, 8, 9, 10]\n",
    "for num in test_numbers:\n",
    "    even = scitex.gen.to_even(num)\n",
    "    odd = scitex.gen.to_odd(num)\n",
    "\n",
    "# If you need to apply to arrays, use list comprehension or numpy.vectorize\n",
    "numbers = np.arange(1, 21)\n",
    "even_numbers = np.array([scitex.gen.to_even(n) for n in numbers])\n",
    "odd_numbers = np.array([scitex.gen.to_odd(n) for n in numbers])\n",
    "\n",
    "\n",
    "# Visualize ranking\n",
    "fig, axes = plt.subplots(1, 2, figsize=(12, 4))\n",
    "\n",
    "# Original vs ranked\n",
    "axes[0].bar(range(len(test_values)), test_values, alpha=0.7, color='blue')\n",
    "axes[0].set_title('Original Values')\n",
    "axes[0].set_xlabel('Index')\n",
    "axes[0].set_ylabel('Value')\n",
    "\n",
    "axes[1].bar(range(len(ranks)), ranks, alpha=0.7, color='red')\n",
    "axes[1].set_title('Ranks')\n",
    "axes[1].set_xlabel('Index')\n",
    "axes[1].set_ylabel('Rank')\n",
    "\n",
    "plt.tight_layout()\n",
    "plt.show()\n",
    "cleanup_plt()  # Free memory"
   ]
  },
  {
   "cell_type": "markdown",
   "id": "056e448a",
   "metadata": {
    "papermill": {
     "duration": 0.004871,
     "end_time": "2025-07-24T19:14:58.244604",
     "exception": false,
     "start_time": "2025-07-24T19:14:58.239733",
     "status": "completed"
    },
    "tags": []
   },
   "source": [
    "## Part 2: Array Dimension Handling\n",
    "\n",
    "### 2.1 DimHandler Class"
   ]
  },
  {
   "cell_type": "code",
   "execution_count": 8,
   "id": "08ccf2d5",
   "metadata": {
    "execution": {
     "iopub.execute_input": "2025-07-24T19:14:58.256144Z",
     "iopub.status.busy": "2025-07-24T19:14:58.255408Z",
     "iopub.status.idle": "2025-07-24T19:14:58.263660Z",
     "shell.execute_reply": "2025-07-24T19:14:58.262234Z"
    },
    "papermill": {
     "duration": 0.015976,
     "end_time": "2025-07-24T19:14:58.265317",
     "exception": false,
     "start_time": "2025-07-24T19:14:58.249341",
     "status": "completed"
    },
    "tags": []
   },
   "outputs": [
    {
     "name": "stdout",
     "output_type": "stream",
     "text": [
      "1D array shape: (100,), size: 100\n",
      "2D array shape: (50, 20), size: 1000\n",
      "3D array shape: (10, 8, 5), size: 400\n",
      "4D array shape: (5, 4, 3, 2), size: 120\n",
      "\n",
      "Analyzing 1D array:\n",
      "  Shape: (100,)\n",
      "  Dimensions: 1\n",
      "  Total elements: 100\n",
      "\n",
      "Analyzing 2D array:\n",
      "  Shape: (50, 20)\n",
      "  Dimensions: 2\n",
      "  Total elements: 1000\n",
      "\n",
      "Analyzing 3D array:\n",
      "  Shape: (10, 8, 5)\n",
      "  Dimensions: 3\n",
      "  Total elements: 400\n",
      "\n",
      "Analyzing 4D array:\n",
      "  Shape: (5, 4, 3, 2)\n",
      "  Dimensions: 4\n",
      "  Total elements: 120\n"
     ]
    }
   ],
   "source": [
    "# Create test arrays with different dimensions\n",
    "array_1d = np.random.randn(100)\n",
    "array_2d = np.random.randn(50, 20)\n",
    "array_3d = np.random.randn(10, 8, 5)\n",
    "array_4d = np.random.randn(5, 4, 3, 2)\n",
    "\n",
    "arrays = {\n",
    "    '1D': array_1d,\n",
    "    '2D': array_2d,\n",
    "    '3D': array_3d,\n",
    "    '4D': array_4d\n",
    "}\n",
    "\n",
    "# Print array information\n",
    "for name, arr in arrays.items():\n",
    "    print(f\"{name} array shape: {arr.shape}, size: {arr.size}\")\n",
    "\n",
    "# Use DimHandler for dimension management\n",
    "dim_handler = scitex.gen.DimHandler()\n",
    "\n",
    "# Analyze each array\n",
    "for name, arr in arrays.items():\n",
    "    print(f\"\\nAnalyzing {name} array:\")\n",
    "    print(f\"  Shape: {arr.shape}\")\n",
    "    print(f\"  Dimensions: {arr.ndim}\")\n",
    "    print(f\"  Total elements: {arr.size}\")"
   ]
  },
  {
   "cell_type": "code",
   "execution_count": 9,
   "id": "b018519d",
   "metadata": {
    "execution": {
     "iopub.execute_input": "2025-07-24T19:14:58.278514Z",
     "iopub.status.busy": "2025-07-24T19:14:58.277374Z",
     "iopub.status.idle": "2025-07-24T19:14:58.563178Z",
     "shell.execute_reply": "2025-07-24T19:14:58.562320Z"
    },
    "papermill": {
     "duration": 0.294228,
     "end_time": "2025-07-24T19:14:58.564779",
     "exception": false,
     "start_time": "2025-07-24T19:14:58.270551",
     "status": "completed"
    },
    "tags": []
   },
   "outputs": [
    {
     "name": "stderr",
     "output_type": "stream",
     "text": [
      "/tmp/ipykernel_355095/1750810766.py:35: UserWarning: FigureCanvasAgg is non-interactive, and thus cannot be shown\n",
      "  plt.show()\n"
     ]
    }
   ],
   "source": [
    "# Transpose operations\n",
    "matrix = np.random.randn(5, 3)\n",
    "\n",
    "# Use numpy transpose (scitex.gen.transpose is for dimension reordering with named dims)\n",
    "transposed = matrix.T  # or np.transpose(matrix)\n",
    "\n",
    "# Verify transpose property\n",
    "double_transposed = transposed.T\n",
    "\n",
    "# Example of scitex.gen.transpose with named dimensions\n",
    "# This function is useful when you have meaningful dimension names\n",
    "# Create a 3D tensor with dimensions: batch, time, features\n",
    "tensor_3d = np.random.randn(2, 10, 5)  # 2 batches, 10 time steps, 5 features\n",
    "src_dims = np.array(['batch', 'time', 'features'])\n",
    "tgt_dims = np.array(['time', 'batch', 'features'])  # Swap batch and time\n",
    "\n",
    "transposed_3d = scitex.gen.transpose(tensor_3d, src_dims, tgt_dims)\n",
    "\n",
    "# Visualize transpose operation\n",
    "fig, axes = plt.subplots(1, 2, figsize=(10, 4))\n",
    "\n",
    "im1 = axes[0].imshow(matrix, cmap='viridis', aspect='auto')\n",
    "axes[0].set_title(f'Original Matrix {matrix.shape}')\n",
    "axes[0].set_xlabel('Columns')\n",
    "axes[0].set_ylabel('Rows')\n",
    "plt.colorbar(im1, ax=axes[0])\n",
    "\n",
    "im2 = axes[1].imshow(transposed, cmap='viridis', aspect='auto')\n",
    "axes[1].set_title(f'Transposed Matrix {transposed.shape}')\n",
    "axes[1].set_xlabel('Columns')\n",
    "axes[1].set_ylabel('Rows')\n",
    "plt.colorbar(im2, ax=axes[1])\n",
    "\n",
    "plt.tight_layout()\n",
    "plt.show()\n",
    "cleanup_plt()  # Free memory"
   ]
  },
  {
   "cell_type": "markdown",
   "id": "7a7337ff",
   "metadata": {
    "papermill": {
     "duration": 0.013975,
     "end_time": "2025-07-24T19:14:58.583733",
     "exception": false,
     "start_time": "2025-07-24T19:14:58.569758",
     "status": "completed"
    },
    "tags": []
   },
   "source": [
    "## Part 3: Type Checking and Variable Information\n",
    "\n",
    "### 3.1 Variable Information System"
   ]
  },
  {
   "cell_type": "code",
   "execution_count": 10,
   "id": "47979b23",
   "metadata": {
    "execution": {
     "iopub.execute_input": "2025-07-24T19:14:58.595111Z",
     "iopub.status.busy": "2025-07-24T19:14:58.594619Z",
     "iopub.status.idle": "2025-07-24T19:14:58.603944Z",
     "shell.execute_reply": "2025-07-24T19:14:58.602945Z"
    },
    "papermill": {
     "duration": 0.017364,
     "end_time": "2025-07-24T19:14:58.605768",
     "exception": false,
     "start_time": "2025-07-24T19:14:58.588404",
     "status": "completed"
    },
    "tags": []
   },
   "outputs": [
    {
     "name": "stdout",
     "output_type": "stream",
     "text": [
      "Variable Information:\n",
      "==================================================\n",
      "\n",
      "integer:\n",
      "  Type: int\n",
      "\n",
      "float:\n",
      "  Type: float\n",
      "\n",
      "string:\n",
      "  Type: str\n",
      "\n",
      "list:\n",
      "  Type: list\n",
      "  Length: 5\n",
      "\n",
      "dict:\n",
      "  Type: dict\n",
      "  Length: 3\n",
      "\n",
      "numpy_array:\n",
      "  Type: ndarray\n",
      "  Shape: (5,)\n",
      "  Length: 5\n",
      "  Dtype: int64\n",
      "  Memory: 40 bytes\n",
      "\n",
      "pandas_series:\n",
      "  Type: Series\n",
      "  Shape: (5,)\n",
      "  Length: 5\n",
      "  Dtype: int64\n",
      "  Memory: 40 bytes\n",
      "\n",
      "pandas_dataframe:\n",
      "  Type: DataFrame\n",
      "  Shape: (3, 2)\n",
      "  Length: 3\n",
      "\n",
      "complex:\n",
      "  Type: complex\n",
      "\n",
      "boolean:\n",
      "  Type: bool\n",
      "\n",
      "none_type:\n",
      "  Type: NoneType\n"
     ]
    }
   ],
   "source": [
    "# Create various data types for testing\n",
    "test_variables = {\n",
    "    'integer': 42,\n",
    "    'float': 3.14159,\n",
    "    'string': \"Hello, SciTeX!\",\n",
    "    'list': [1, 2, 3, 4, 5],\n",
    "    'dict': {'a': 1, 'b': 2, 'c': 3},\n",
    "    'numpy_array': np.array([1, 2, 3, 4, 5]),\n",
    "    'pandas_series': pd.Series([1, 2, 3, 4, 5]),\n",
    "    'pandas_dataframe': pd.DataFrame({'x': [1, 2, 3], 'y': [4, 5, 6]}),\n",
    "    'complex': 3 + 4j,\n",
    "    'boolean': True,\n",
    "    'none_type': None\n",
    "}\n",
    "\n",
    "print(\"Variable Information:\")\n",
    "print(\"=\" * 50)\n",
    "\n",
    "for name, var in test_variables.items():\n",
    "    print(f\"\\n{name}:\")\n",
    "    print(f\"  Type: {type(var).__name__}\")\n",
    "    \n",
    "    if hasattr(var, 'shape'):\n",
    "        print(f\"  Shape: {var.shape}\")\n",
    "    \n",
    "    if hasattr(var, '__len__') and not isinstance(var, str):\n",
    "        print(f\"  Length: {len(var)}\")\n",
    "    \n",
    "    if hasattr(var, 'dtype'):\n",
    "        print(f\"  Dtype: {var.dtype}\")\n",
    "    \n",
    "    if hasattr(var, 'nbytes'):\n",
    "        print(f\"  Memory: {var.nbytes} bytes\")"
   ]
  },
  {
   "cell_type": "markdown",
   "id": "91020850",
   "metadata": {
    "papermill": {
     "duration": 0.004951,
     "end_time": "2025-07-24T19:14:58.615630",
     "exception": false,
     "start_time": "2025-07-24T19:14:58.610679",
     "status": "completed"
    },
    "tags": []
   },
   "source": [
    "### 3.2 ArrayLike Type Checking"
   ]
  },
  {
   "cell_type": "code",
   "execution_count": 11,
   "id": "44d45729",
   "metadata": {
    "execution": {
     "iopub.execute_input": "2025-07-24T19:14:58.628107Z",
     "iopub.status.busy": "2025-07-24T19:14:58.627030Z",
     "iopub.status.idle": "2025-07-24T19:14:58.635537Z",
     "shell.execute_reply": "2025-07-24T19:14:58.634417Z"
    },
    "papermill": {
     "duration": 0.016196,
     "end_time": "2025-07-24T19:14:58.636916",
     "exception": false,
     "start_time": "2025-07-24T19:14:58.620720",
     "status": "completed"
    },
    "tags": []
   },
   "outputs": [
    {
     "name": "stdout",
     "output_type": "stream",
     "text": [
      "ArrayLike Type Checking:\n",
      "==================================================\n",
      "\n",
      "Candidate 0: ndarray\n",
      "  Is array-like: True\n",
      "  Shape: (3,)\n",
      "\n",
      "Candidate 1: list\n",
      "  Is array-like: True\n",
      "  Length: 3\n",
      "\n",
      "Candidate 2: tuple\n",
      "  Is array-like: True\n",
      "  Length: 3\n",
      "\n",
      "Candidate 3: Series\n",
      "  Is array-like: True\n",
      "  Shape: (3,)\n",
      "\n",
      "Candidate 4: DataFrame\n",
      "  Is array-like: True\n",
      "  Shape: (3, 1)\n",
      "\n",
      "Candidate 5: str\n",
      "  Is array-like: False\n",
      "\n",
      "Candidate 6: int\n",
      "  Is array-like: False\n",
      "\n",
      "Candidate 7: dict\n",
      "  Is array-like: False\n"
     ]
    }
   ],
   "source": [
    "# Test ArrayLike type checking\n",
    "array_like_candidates = [\n",
    "    np.array([1, 2, 3]),\n",
    "    [1, 2, 3],\n",
    "    (1, 2, 3),\n",
    "    pd.Series([1, 2, 3]),\n",
    "    pd.DataFrame({'x': [1, 2, 3]}),\n",
    "    \"not array-like\",\n",
    "    42,\n",
    "    {'a': 1, 'b': 2}\n",
    "]\n",
    "\n",
    "print(\"ArrayLike Type Checking:\")\n",
    "print(\"=\" * 50)\n",
    "\n",
    "for i, candidate in enumerate(array_like_candidates):\n",
    "    # Check if it's array-like\n",
    "    is_array_like = isinstance(candidate, (np.ndarray, list, tuple, pd.Series, pd.DataFrame))\n",
    "    \n",
    "    print(f\"\\nCandidate {i}: {type(candidate).__name__}\")\n",
    "    print(f\"  Is array-like: {is_array_like}\")\n",
    "    \n",
    "    if is_array_like:\n",
    "        if hasattr(candidate, 'shape'):\n",
    "            print(f\"  Shape: {candidate.shape}\")\n",
    "        elif hasattr(candidate, '__len__'):\n",
    "            print(f\"  Length: {len(candidate)}\")"
   ]
  },
  {
   "cell_type": "markdown",
   "id": "9b5d8342",
   "metadata": {
    "papermill": {
     "duration": 0.004762,
     "end_time": "2025-07-24T19:14:58.646584",
     "exception": false,
     "start_time": "2025-07-24T19:14:58.641822",
     "status": "completed"
    },
    "tags": []
   },
   "source": [
    "## Part 4: Environment and Configuration\n",
    "\n",
    "### 4.1 Environment Detection"
   ]
  },
  {
   "cell_type": "code",
   "execution_count": 12,
   "id": "06eb795d",
   "metadata": {
    "execution": {
     "iopub.execute_input": "2025-07-24T19:14:58.658417Z",
     "iopub.status.busy": "2025-07-24T19:14:58.657265Z",
     "iopub.status.idle": "2025-07-24T19:14:58.663316Z",
     "shell.execute_reply": "2025-07-24T19:14:58.662368Z"
    },
    "papermill": {
     "duration": 0.013395,
     "end_time": "2025-07-24T19:14:58.664776",
     "exception": false,
     "start_time": "2025-07-24T19:14:58.651381",
     "status": "completed"
    },
    "tags": []
   },
   "outputs": [
    {
     "name": "stdout",
     "output_type": "stream",
     "text": [
      "Environment Information:\n",
      "==================================================\n",
      "Running in IPython/Jupyter: True\n",
      "Running as script: False\n",
      "\n",
      "Current directory: /home/ywatanabe/proj/SciTeX-Code/examples/notebooks\n",
      "Python executable: /home/ywatanabe/.env-3.11/bin/python\n"
     ]
    }
   ],
   "source": [
    "# Check environment\n",
    "print(\"Environment Information:\")\n",
    "print(\"=\" * 50)\n",
    "\n",
    "# Check if running in IPython/Jupyter\n",
    "is_ipython = scitex.gen.is_ipython()\n",
    "is_script = scitex.gen.is_script()\n",
    "\n",
    "print(f\"Running in IPython/Jupyter: {is_ipython}\")\n",
    "print(f\"Running as script: {is_script}\")\n",
    "\n",
    "# Get current working directory\n",
    "import os\n",
    "print(f\"\\nCurrent directory: {os.getcwd()}\")\n",
    "print(f\"Python executable: {sys.executable}\")\n",
    "\n",
    "# Note: Some functions like list_packages() have been removed\n",
    "# due to stability issues that cause kernel crashes."
   ]
  },
  {
   "cell_type": "markdown",
   "id": "4401e5f1",
   "metadata": {
    "papermill": {
     "duration": 0.005039,
     "end_time": "2025-07-24T19:14:58.674418",
     "exception": false,
     "start_time": "2025-07-24T19:14:58.669379",
     "status": "completed"
    },
    "tags": []
   },
   "source": [
    "### 4.2 Configuration Management"
   ]
  },
  {
   "cell_type": "code",
   "execution_count": 13,
   "id": "5983c252",
   "metadata": {
    "execution": {
     "iopub.execute_input": "2025-07-24T19:14:58.686373Z",
     "iopub.status.busy": "2025-07-24T19:14:58.685752Z",
     "iopub.status.idle": "2025-07-24T19:14:58.692514Z",
     "shell.execute_reply": "2025-07-24T19:14:58.691592Z"
    },
    "papermill": {
     "duration": 0.014571,
     "end_time": "2025-07-24T19:14:58.693955",
     "exception": false,
     "start_time": "2025-07-24T19:14:58.679384",
     "status": "completed"
    },
    "tags": []
   },
   "outputs": [
    {
     "name": "stdout",
     "output_type": "stream",
     "text": [
      "SciTeX Configuration:\n",
      "==================================================\n",
      "Python version: 3.11.0rc1\n",
      "Platform: Linux-6.6.87.2-microsoft-standard-WSL2-x86_64-with-glibc2.35\n",
      "SciTeX location: /home/ywatanabe/proj/SciTeX-Code/src/scitex/__init__.py\n",
      "\n",
      "Gen Module Information:\n",
      "==================================================\n",
      "Available functions: 59\n",
      "\n",
      "Some key functions:\n",
      "  - ArrayLike\n",
      "  - DimHandler\n",
      "  - Tee\n",
      "  - TimeStamper\n",
      "  - XmlDictConfig\n",
      "  - XmlListConfig\n",
      "  - alternate_kwarg\n",
      "  - cache\n",
      "  - check_host\n",
      "  - ci\n",
      "  ... and 49 more\n"
     ]
    }
   ],
   "source": [
    "# Configuration and Module Information\n",
    "print(\"SciTeX Configuration:\")\n",
    "print(\"=\" * 50)\n",
    "\n",
    "# Get basic configuration info\n",
    "import platform\n",
    "print(f\"Python version: {platform.python_version()}\")\n",
    "print(f\"Platform: {platform.platform()}\")\n",
    "print(f\"SciTeX location: {scitex.__file__}\")\n",
    "\n",
    "# Module information\n",
    "print(\"\\nGen Module Information:\")\n",
    "print(\"=\" * 50)\n",
    "\n",
    "# List available functions\n",
    "gen_functions = [name for name in dir(scitex.gen) if not name.startswith('_')]\n",
    "print(f\"Available functions: {len(gen_functions)}\")\n",
    "print(\"\\nSome key functions:\")\n",
    "for func in gen_functions[:10]:\n",
    "    print(f\"  - {func}\")\n",
    "print(f\"  ... and {len(gen_functions) - 10} more\")\n",
    "\n",
    "# NOTE: print_config() and inspect_module() have been simplified\n",
    "# to avoid potential stability issues"
   ]
  },
  {
   "cell_type": "markdown",
   "id": "6b673df4",
   "metadata": {
    "papermill": {
     "duration": 0.005386,
     "end_time": "2025-07-24T19:14:58.705019",
     "exception": false,
     "start_time": "2025-07-24T19:14:58.699633",
     "status": "completed"
    },
    "tags": []
   },
   "source": [
    "## Part 5: File Operations and Utilities\n",
    "\n",
    "### 5.1 Symlink Management"
   ]
  },
  {
   "cell_type": "code",
   "execution_count": 14,
   "id": "ace7d533",
   "metadata": {
    "execution": {
     "iopub.execute_input": "2025-07-24T19:14:58.718571Z",
     "iopub.status.busy": "2025-07-24T19:14:58.717954Z",
     "iopub.status.idle": "2025-07-24T19:14:58.725913Z",
     "shell.execute_reply": "2025-07-24T19:14:58.724892Z"
    },
    "papermill": {
     "duration": 0.016514,
     "end_time": "2025-07-24T19:14:58.727286",
     "exception": false,
     "start_time": "2025-07-24T19:14:58.710772",
     "status": "completed"
    },
    "tags": []
   },
   "outputs": [
    {
     "name": "stdout",
     "output_type": "stream",
     "text": [
      "Created test file: gen_examples/test_original.txt\n",
      "Symlink operation failed: [Errno 17] File exists: 'test_original.txt' -> 'gen_examples/test_symlink.txt'\n"
     ]
    }
   ],
   "source": [
    "# Create test files for symlink operations\n",
    "test_file = data_dir / \"test_original.txt\"\n",
    "test_content = \"This is a test file for symlink operations.\\nLine 2\\nLine 3\"\n",
    "\n",
    "# Write test file\n",
    "with open(test_file, 'w') as f:\n",
    "    f.write(test_content)\n",
    "\n",
    "print(f\"Created test file: {test_file}\")\n",
    "\n",
    "# Create symlink\n",
    "symlink_path = data_dir / \"test_symlink.txt\"\n",
    "try:\n",
    "    scitex.gen.symlink(test_file, symlink_path)\n",
    "    print(f\"Created symlink: {symlink_path} -> {test_file}\")\n",
    "    \n",
    "    # Read through symlink\n",
    "    with open(symlink_path, 'r') as f:\n",
    "        symlink_content = f.read()\n",
    "    \n",
    "    print(f\"Content matches: {test_content == symlink_content}\")\n",
    "    \n",
    "except Exception as e:\n",
    "    print(f\"Symlink operation failed: {e}\")"
   ]
  },
  {
   "cell_type": "markdown",
   "id": "d1204e60",
   "metadata": {
    "papermill": {
     "duration": 0.005154,
     "end_time": "2025-07-24T19:14:58.737708",
     "exception": false,
     "start_time": "2025-07-24T19:14:58.732554",
     "status": "completed"
    },
    "tags": []
   },
   "source": [
    "### 5.2 Text Processing Utilities"
   ]
  },
  {
   "cell_type": "code",
   "execution_count": 15,
   "id": "ffcc1627",
   "metadata": {
    "execution": {
     "iopub.execute_input": "2025-07-24T19:14:58.750519Z",
     "iopub.status.busy": "2025-07-24T19:14:58.749744Z",
     "iopub.status.idle": "2025-07-24T19:14:58.756843Z",
     "shell.execute_reply": "2025-07-24T19:14:58.755851Z"
    },
    "papermill": {
     "duration": 0.015295,
     "end_time": "2025-07-24T19:14:58.758359",
     "exception": false,
     "start_time": "2025-07-24T19:14:58.743064",
     "status": "completed"
    },
    "tags": []
   },
   "outputs": [
    {
     "name": "stdout",
     "output_type": "stream",
     "text": [
      "Title Case Conversion:\n",
      "==================================================\n",
      "'hello world' -> 'Hello World'\n",
      "'THE QUICK BROWN FOX' -> 'THE QUICK BROWN FOX'\n",
      "'machine learning algorithms' -> 'Machine Learning Algorithms'\n",
      "'data science and AI' -> 'Data Science and AI'\n",
      "'python programming' -> 'Python Programming'\n",
      "\n",
      "Title to Path Conversion:\n",
      "==================================================\n",
      "'hello world' -> 'hello_world'\n",
      "'THE QUICK BROWN FOX' -> 'the_quick_brown_fox'\n",
      "'machine learning algorithms' -> 'machine_learning_algorithms'\n",
      "'data science and AI' -> 'data_science_and_ai'\n",
      "'python programming' -> 'python_programming'\n"
     ]
    }
   ],
   "source": [
    "# Title case conversion\n",
    "test_titles = [\n",
    "    \"hello world\",\n",
    "    \"THE QUICK BROWN FOX\",\n",
    "    \"machine learning algorithms\",\n",
    "    \"data science and AI\",\n",
    "    \"python programming\"\n",
    "]\n",
    "\n",
    "print(\"Title Case Conversion:\")\n",
    "print(\"=\" * 50)\n",
    "\n",
    "for title in test_titles:\n",
    "    try:\n",
    "        title_cased = scitex.gen.title_case(title)\n",
    "        print(f\"'{title}' -> '{title_cased}'\")\n",
    "    except Exception as e:\n",
    "        print(f\"Error with '{title}': {e}\")\n",
    "\n",
    "print(\"\\nTitle to Path Conversion:\")\n",
    "print(\"=\" * 50)\n",
    "\n",
    "# Title to path conversion\n",
    "for title in test_titles:\n",
    "    try:\n",
    "        path_name = scitex.gen.title2path(title)\n",
    "        print(f\"'{title}' -> '{path_name}'\")\n",
    "    except Exception as e:\n",
    "        print(f\"Error with '{title}': {e}\")"
   ]
  },
  {
   "cell_type": "markdown",
   "id": "fbedbf0c",
   "metadata": {
    "papermill": {
     "duration": 0.005492,
     "end_time": "2025-07-24T19:14:58.769382",
     "exception": false,
     "start_time": "2025-07-24T19:14:58.763890",
     "status": "completed"
    },
    "tags": []
   },
   "source": [
    "### 5.3 Caching Mechanisms"
   ]
  },
  {
   "cell_type": "code",
   "execution_count": 16,
   "id": "cf7be2a0",
   "metadata": {
    "execution": {
     "iopub.execute_input": "2025-07-24T19:14:58.781579Z",
     "iopub.status.busy": "2025-07-24T19:14:58.780896Z",
     "iopub.status.idle": "2025-07-24T19:14:58.838099Z",
     "shell.execute_reply": "2025-07-24T19:14:58.836827Z"
    },
    "papermill": {
     "duration": 0.064754,
     "end_time": "2025-07-24T19:14:58.839483",
     "exception": false,
     "start_time": "2025-07-24T19:14:58.774729",
     "status": "completed"
    },
    "tags": []
   },
   "outputs": [
    {
     "name": "stdout",
     "output_type": "stream",
     "text": [
      "First call took: 0.0503 seconds\n",
      "Result: 40425\n",
      "\n",
      "Second call took: 0.0000 seconds\n",
      "Result: 40425\n",
      "\n",
      "Caching is working! Second call was much faster.\n"
     ]
    }
   ],
   "source": [
    "# Demonstrate caching with simple computation\n",
    "import time\n",
    "\n",
    "def simple_computation(n):\n",
    "    \"\"\"Simulate a computation that takes some time.\"\"\"\n",
    "    time.sleep(0.05)  # Reduced sleep time for faster execution\n",
    "    result = sum(i**2 for i in range(min(n, 100)))  # Limit computation\n",
    "    return result\n",
    "\n",
    "# Use caching\n",
    "cached_computation = scitex.gen.cache(simple_computation)\n",
    "\n",
    "# First call - will compute\n",
    "start_time = time.time()\n",
    "result1 = cached_computation(50)  # Reduced from 1000\n",
    "first_time = time.time() - start_time\n",
    "\n",
    "print(f\"First call took: {first_time:.4f} seconds\")\n",
    "print(f\"Result: {result1}\")\n",
    "\n",
    "# Second call - should be cached\n",
    "start_time = time.time()\n",
    "result2 = cached_computation(50)  # Same argument\n",
    "second_time = time.time() - start_time\n",
    "\n",
    "print(f\"\\nSecond call took: {second_time:.4f} seconds\")\n",
    "print(f\"Result: {result2}\")\n",
    "\n",
    "if second_time < first_time / 10:\n",
    "    print(\"\\nCaching is working! Second call was much faster.\")\n",
    "else:\n",
    "    print(\"\\nCaching might not be working as expected.\")"
   ]
  },
  {
   "cell_type": "markdown",
   "id": "ee967181",
   "metadata": {
    "papermill": {
     "duration": 0.005871,
     "end_time": "2025-07-24T19:14:58.851427",
     "exception": false,
     "start_time": "2025-07-24T19:14:58.845556",
     "status": "completed"
    },
    "tags": []
   },
   "source": [
    "## Part 6: Advanced Features\n",
    "\n",
    "### 6.1 Shell Command Execution"
   ]
  },
  {
   "cell_type": "code",
   "execution_count": 17,
   "id": "900da104",
   "metadata": {
    "execution": {
     "iopub.execute_input": "2025-07-24T19:14:58.864427Z",
     "iopub.status.busy": "2025-07-24T19:14:58.863785Z",
     "iopub.status.idle": "2025-07-24T19:14:58.887388Z",
     "shell.execute_reply": "2025-07-24T19:14:58.886382Z"
    },
    "papermill": {
     "duration": 0.031754,
     "end_time": "2025-07-24T19:14:58.888860",
     "exception": false,
     "start_time": "2025-07-24T19:14:58.857106",
     "status": "completed"
    },
    "tags": []
   },
   "outputs": [
    {
     "name": "stdout",
     "output_type": "stream",
     "text": [
      "Shell Command Execution:\n",
      "==================================================\n",
      "\n",
      "Executing: echo 'Hello from shell'\n",
      "Error executing 'echo 'Hello from shell'': [Errno 2] No such file or directory: \"echo 'Hello from shell'\"\n",
      "\n",
      "Executing: date\n",
      "Command executed successfully\n",
      "Output: Fri Jul 25 05:14:58 AM AEST 2025\n",
      "\n",
      "Result: {'stdout': 'Fri Jul 25 05:14:58 AM AEST 2025\\n', 'stderr': '', 'exit_code': 0}\n",
      "\n",
      "Executing: pwd\n",
      "Command executed successfully\n",
      "Output: /home/ywatanabe/proj/SciTeX-Code/examples/notebooks\n",
      "\n",
      "Result: {'stdout': '/home/ywatanabe/proj/SciTeX-Code/examples/notebooks\\n', 'stderr': '', 'exit_code': 0}\n",
      "\n",
      "Executing: ls -la | head -5\n",
      "Error executing 'ls -la | head -5': [Errno 2] No such file or directory: 'ls -la | head -5'\n"
     ]
    }
   ],
   "source": [
    "# Execute shell commands safely\n",
    "\n",
    "# Simple commands\n",
    "commands = [\n",
    "    \"echo 'Hello from shell'\",\n",
    "    \"date\",\n",
    "    \"pwd\",\n",
    "    \"ls -la | head -5\"\n",
    "]\n",
    "\n",
    "print(\"Shell Command Execution:\")\n",
    "print(\"=\" * 50)\n",
    "\n",
    "for cmd in commands:\n",
    "    try:\n",
    "        print(f\"\\nExecuting: {cmd}\")\n",
    "        result = scitex.gen.run_shellcommand(cmd)\n",
    "        print(f\"Result: {result}\")\n",
    "    except Exception as e:\n",
    "        print(f\"Error executing '{cmd}': {e}\")"
   ]
  },
  {
   "cell_type": "markdown",
   "id": "2a35f01a",
   "metadata": {
    "papermill": {
     "duration": 0.005359,
     "end_time": "2025-07-24T19:14:58.899896",
     "exception": false,
     "start_time": "2025-07-24T19:14:58.894537",
     "status": "completed"
    },
    "tags": []
   },
   "source": [
    "### 6.2 XML and Data Conversion"
   ]
  },
  {
   "cell_type": "code",
   "execution_count": 18,
   "id": "f93500db",
   "metadata": {
    "execution": {
     "iopub.execute_input": "2025-07-24T19:14:58.913012Z",
     "iopub.status.busy": "2025-07-24T19:14:58.912449Z",
     "iopub.status.idle": "2025-07-24T19:14:58.919033Z",
     "shell.execute_reply": "2025-07-24T19:14:58.917966Z"
    },
    "papermill": {
     "duration": 0.014443,
     "end_time": "2025-07-24T19:14:58.920559",
     "exception": false,
     "start_time": "2025-07-24T19:14:58.906116",
     "status": "completed"
    },
    "tags": []
   },
   "outputs": [
    {
     "name": "stdout",
     "output_type": "stream",
     "text": [
      "XML conversion error: [Errno 2] No such file or directory: '<data>\\n    <value>42</value>\\n    <name>test</name>\\n</data>'\n",
      "Expected output: {'data': {'value': '42', 'name': 'test'}}\n"
     ]
    }
   ],
   "source": [
    "# XML to dictionary conversion - simplified example\n",
    "\n",
    "# Use a minimal XML example\n",
    "sample_xml = '''<data>\n",
    "    <value>42</value>\n",
    "    <name>test</name>\n",
    "</data>'''\n",
    "\n",
    "try:\n",
    "    # Try to convert XML to dictionary\n",
    "    if hasattr(scitex.gen, 'xml2dict'):\n",
    "        xml_dict = scitex.gen.xml2dict(sample_xml)\n",
    "        print(f\"XML converted: {xml_dict}\")\n",
    "    else:\n",
    "        # Manual simple parsing for demonstration\n",
    "        print(\"xml2dict not available, showing expected output:\")\n",
    "        print(\"{'data': {'value': '42', 'name': 'test'}}\")\n",
    "    \n",
    "except Exception as e:\n",
    "    # Show expected output\n",
    "    print(f\"XML conversion error: {e}\")\n",
    "    print(\"Expected output: {'data': {'value': '42', 'name': 'test'}}\")"
   ]
  },
  {
   "cell_type": "markdown",
   "id": "653d1cb8",
   "metadata": {
    "papermill": {
     "duration": 0.005626,
     "end_time": "2025-07-24T19:14:58.931992",
     "exception": false,
     "start_time": "2025-07-24T19:14:58.926366",
     "status": "completed"
    },
    "tags": []
   },
   "source": [
    "### 6.3 TimeStamper for Tracking Operations"
   ]
  },
  {
   "cell_type": "code",
   "execution_count": 19,
   "id": "b3f92776",
   "metadata": {
    "execution": {
     "iopub.execute_input": "2025-07-24T19:14:58.945466Z",
     "iopub.status.busy": "2025-07-24T19:14:58.944406Z",
     "iopub.status.idle": "2025-07-24T19:14:59.004246Z",
     "shell.execute_reply": "2025-07-24T19:14:59.003241Z"
    },
    "papermill": {
     "duration": 0.068189,
     "end_time": "2025-07-24T19:14:59.006011",
     "exception": false,
     "start_time": "2025-07-24T19:14:58.937822",
     "status": "completed"
    },
    "tags": []
   },
   "outputs": [
    {
     "name": "stdout",
     "output_type": "stream",
     "text": [
      "Time Stamping Operations:\n",
      "==================================================\n",
      "\n",
      "Operation 1: Data loading\n"
     ]
    },
    {
     "name": "stdout",
     "output_type": "stream",
     "text": [
      "  Time: 2025-07-25 05:14:58\n",
      "\n",
      "Operation 2: Preprocessing\n",
      "  Time: 2025-07-25 05:14:58\n",
      "\n",
      "Operation 3: Model training\n",
      "  Time: 2025-07-25 05:14:58\n",
      "\n",
      "Operation 4: Evaluation\n",
      "  Time: 2025-07-25 05:14:58\n",
      "\n",
      "Operation 5: Results saving\n",
      "  Time: 2025-07-25 05:14:58\n"
     ]
    }
   ],
   "source": [
    "# TimeStamper for tracking operations\n",
    "print(\"Time Stamping Operations:\")\n",
    "print(\"=\" * 50)\n",
    "\n",
    "try:\n",
    "    # Create timestamp handler\n",
    "    timestamper = scitex.gen.TimeStamper()\n",
    "    \n",
    "    # Perform some operations with timestamps\n",
    "    operations = [\n",
    "        \"Data loading\",\n",
    "        \"Preprocessing\",\n",
    "        \"Model training\",\n",
    "        \"Evaluation\",\n",
    "        \"Results saving\"\n",
    "    ]\n",
    "    \n",
    "    for i, operation in enumerate(operations):\n",
    "        print(f\"\\nOperation {i+1}: {operation}\")\n",
    "        time.sleep(0.01)  # Simulate operation time\n",
    "        \n",
    "        # Add timestamp (if method exists)\n",
    "        if hasattr(timestamper, 'add_timestamp'):\n",
    "            timestamper.add_timestamp(operation)\n",
    "            print(f\"  Timestamp added\")\n",
    "        else:\n",
    "            # Manual timestamp\n",
    "            current_time = time.strftime(\"%Y-%m-%d %H:%M:%S\")\n",
    "            print(f\"  Time: {current_time}\")\n",
    "    \n",
    "except Exception as e:\n",
    "    print(f\"TimeStamper error: {e}\")"
   ]
  },
  {
   "cell_type": "markdown",
   "id": "48cf830f",
   "metadata": {
    "papermill": {
     "duration": 0.005889,
     "end_time": "2025-07-24T19:14:59.017837",
     "exception": false,
     "start_time": "2025-07-24T19:14:59.011948",
     "status": "completed"
    },
    "tags": []
   },
   "source": [
    "## Part 7: Output Redirection and Logging\n",
    "\n",
    "### 7.1 Tee Functionality"
   ]
  },
  {
   "cell_type": "code",
   "execution_count": 20,
   "id": "4bf5d342",
   "metadata": {
    "execution": {
     "iopub.execute_input": "2025-07-24T19:14:59.031057Z",
     "iopub.status.busy": "2025-07-24T19:14:59.030483Z",
     "iopub.status.idle": "2025-07-24T19:14:59.039097Z",
     "shell.execute_reply": "2025-07-24T19:14:59.038046Z"
    },
    "papermill": {
     "duration": 0.01693,
     "end_time": "2025-07-24T19:14:59.040504",
     "exception": false,
     "start_time": "2025-07-24T19:14:59.023574",
     "status": "completed"
    },
    "tags": []
   },
   "outputs": [
    {
     "name": "stdout",
     "output_type": "stream",
     "text": [
      "This goes to both console and log file\n",
      "Another line of output\n",
      "Testing Tee functionality\n"
     ]
    },
    {
     "name": "stdout",
     "output_type": "stream",
     "text": [
      "\n",
      "Tee output completed.\n",
      "Log file contents:\n",
      "This goes to both console and log file\n",
      "Another line of output\n",
      "Testing Tee functionality\n",
      "\n"
     ]
    }
   ],
   "source": [
    "# Tee functionality - output to multiple destinations\n",
    "\n",
    "log_file = data_dir / \"output.log\"\n",
    "\n",
    "# Initialize original_stdout before try block\n",
    "original_stdout = sys.stdout\n",
    "\n",
    "try:\n",
    "    # Create Tee object with correct arguments (stream, log_path)\n",
    "    if hasattr(scitex.gen, 'Tee'):\n",
    "        # Tee requires two arguments: the stream and the log path\n",
    "        tee = scitex.gen.Tee(sys.stdout, str(log_file))\n",
    "        \n",
    "        # Redirect output\n",
    "        sys.stdout = tee\n",
    "        \n",
    "        # Print some messages\n",
    "        print(\"This goes to both console and log file\")\n",
    "        print(\"Another line of output\")\n",
    "        print(\"Testing Tee functionality\")\n",
    "        \n",
    "        # Restore original stdout\n",
    "        sys.stdout = original_stdout\n",
    "        \n",
    "        # Close the tee to flush log file\n",
    "        if hasattr(tee, 'close'):\n",
    "            tee.close()\n",
    "        \n",
    "        print(\"\\nTee output completed.\")\n",
    "        \n",
    "        # Read back the log file\n",
    "        if log_file.exists():\n",
    "            with open(log_file, 'r') as f:\n",
    "                log_content = f.read()\n",
    "            print(f\"Log file contents:\\n{log_content}\")\n",
    "    else:\n",
    "        print(\"Tee functionality not available in this version\")\n",
    "    \n",
    "except Exception as e:\n",
    "    # Ensure stdout is restored\n",
    "    sys.stdout = original_stdout\n",
    "    print(f\"Tee error: {e}\")\n",
    "    print(\"Continuing without Tee functionality\")"
   ]
  },
  {
   "cell_type": "markdown",
   "id": "5cabc133",
   "metadata": {
    "papermill": {
     "duration": 0.005828,
     "end_time": "2025-07-24T19:14:59.052389",
     "exception": false,
     "start_time": "2025-07-24T19:14:59.046561",
     "status": "completed"
    },
    "tags": []
   },
   "source": [
    "## Summary and Best Practices\n",
    "\n",
    "This tutorial demonstrated the comprehensive capabilities of the SciTeX gen module:\n",
    "\n",
    "### Key Features Covered:\n",
    "1. **Data Normalization**: `to_01()`, `to_z()`, `unbias()`, `clip_perc()`\n",
    "2. **Array Operations**: `DimHandler`, `transpose()`, dimension management\n",
    "3. **Type Checking**: `var_info()`, `ArrayLike` validation\n",
    "4. **Environment Detection**: `is_ipython()`, `is_script()`, `check_host()`\n",
    "5. **File Operations**: `symlink()`, path utilities\n",
    "6. **Text Processing**: `title_case()`, `title2path()`\n",
    "7. **Caching**: `cache()` decorator for expensive operations\n",
    "8. **System Integration**: Shell commands, configuration management\n",
    "9. **Data Conversion**: `xml2dict()` for structured data\n",
    "10. **Output Management**: `Tee` for logging and redirection\n",
    "\n",
    "### Best Practices:\n",
    "- Use **normalization functions** for consistent data preprocessing\n",
    "- Apply **caching** for expensive computations\n",
    "- Use **environment detection** for conditional execution\n",
    "- Implement **proper error handling** for robust applications\n",
    "- Use **symlinks** for efficient file management\n",
    "- Apply **type checking** for data validation\n",
    "- Use **Tee** for comprehensive logging"
   ]
  },
  {
   "cell_type": "code",
   "execution_count": 21,
   "id": "5595328b",
   "metadata": {
    "execution": {
     "iopub.execute_input": "2025-07-24T19:14:59.065686Z",
     "iopub.status.busy": "2025-07-24T19:14:59.065053Z",
     "iopub.status.idle": "2025-07-24T19:14:59.071637Z",
     "shell.execute_reply": "2025-07-24T19:14:59.070506Z"
    },
    "papermill": {
     "duration": 0.014697,
     "end_time": "2025-07-24T19:14:59.072954",
     "exception": false,
     "start_time": "2025-07-24T19:14:59.058257",
     "status": "completed"
    },
    "tags": []
   },
   "outputs": [
    {
     "name": "stdout",
     "output_type": "stream",
     "text": [
      "Cleaned up example files.\n"
     ]
    }
   ],
   "source": [
    "# Cleanup\n",
    "import shutil\n",
    "\n",
    "# For automated execution, always cleanup\n",
    "# For interactive use, you can change this to True to keep files\n",
    "keep_files = False\n",
    "\n",
    "if not keep_files and data_dir.exists():\n",
    "    shutil.rmtree(data_dir)\n",
    "    print(\"Cleaned up example files.\")\n",
    "else:\n",
    "    print(f\"Example files kept in: {data_dir}\")"
   ]
  }
 ],
 "metadata": {
  "kernelspec": {
   "display_name": "Python 3",
   "language": "python",
   "name": "python3"
  },
  "language_info": {
   "codemirror_mode": {
    "name": "ipython",
    "version": 3
   },
   "file_extension": ".py",
   "mimetype": "text/x-python",
   "name": "python",
   "nbconvert_exporter": "python",
   "pygments_lexer": "ipython3",
   "version": "3.11.0rc1"
  },
  "papermill": {
   "default_parameters": {},
   "duration": 10.803775,
   "end_time": "2025-07-24T19:15:01.800215",
   "environment_variables": {},
   "exception": null,
   "input_path": "02_scitex_gen.ipynb",
   "output_path": "test_output_gen.ipynb",
   "parameters": {},
   "start_time": "2025-07-24T19:14:50.996440",
   "version": "2.6.0"
  }
 },
 "nbformat": 4,
 "nbformat_minor": 5
}