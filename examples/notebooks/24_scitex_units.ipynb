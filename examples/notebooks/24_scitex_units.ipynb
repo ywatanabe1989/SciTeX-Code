{
 "cells": [
  {
   "cell_type": "markdown",
   "metadata": {},
   "source": [
    "# SciTeX Units Module - Scientific Unit Handling\n",
    "\n",
    "This notebook demonstrates the SciTeX units module for handling physical quantities with units, ensuring scientific validity in computations."
   ]
  },
  {
   "cell_type": "code",
   "execution_count": null,
   "metadata": {},
   "outputs": [],
   "source": [
    "# Detect notebook name for output directory\n",
    "import os\n",
    "from pathlib import Path\n",
    "\n",
    "notebook_name = \"24_scitex_units\"\n",
    "if 'PAPERMILL_NOTEBOOK_NAME' in os.environ:\n",
    "    notebook_name = Path(os.environ['PAPERMILL_NOTEBOOK_NAME']).stem"
   ]
  },
  {
   "cell_type": "code",
   "execution_count": null,
   "metadata": {},
   "outputs": [],
   "source": [
    "# Setup\n",
    "import sys\n",
    "sys.path.insert(0, '../src')\n",
    "\n",
    "import numpy as np\n",
    "import scitex as stx\n",
    "from scitex.units import Unit, Quantity, Units, Q, ensure_units, strip_units, convert_temperature"
   ]
  },
  {
   "cell_type": "markdown",
   "metadata": {},
   "source": [
    "## Basic Unit Operations"
   ]
  },
  {
   "cell_type": "code",
   "execution_count": null,
   "metadata": {},
   "outputs": [],
   "source": [
    "# Create quantities with units\n",
    "distance = Q(100, Units.meter)\n",
    "time = Q(10, Units.second)\n",
    "\n",
    "# Calculate velocity\n",
    "velocity = distance / time\n",
    "\n",
    "# Display results\n",
    "results = {\n",
    "    'distance': str(distance),\n",
    "    'time': str(time),\n",
    "    'velocity': str(velocity)\n",
    "}\n",
    "for key, value in results.items():\n",
    "    pass  # Placeholder for display"
   ]
  },
  {
   "cell_type": "markdown",
   "metadata": {},
   "source": [
    "## Unit Conversions"
   ]
  },
  {
   "cell_type": "code",
   "execution_count": null,
   "metadata": {},
   "outputs": [],
   "source": [
    "# Length conversions\n",
    "length_m = Q(1000, Units.meter)\n",
    "length_km = length_m.to(Units.kilometer)\n",
    "length_mi = length_m.to(Units.mile)\n",
    "\n",
    "# Time conversions\n",
    "time_s = Q(3600, Units.second)\n",
    "time_h = time_s.to(Units.hour)\n",
    "time_min = time_s.to(Units.minute)\n",
    "\n",
    "conversions = {\n",
    "    'meters_to_km': str(length_km),\n",
    "    'meters_to_miles': str(length_mi),\n",
    "    'seconds_to_hours': str(time_h),\n",
    "    'seconds_to_minutes': str(time_min)\n",
    "}"
   ]
  },
  {
   "cell_type": "markdown",
   "metadata": {},
   "source": [
    "## Scientific Calculations with Units"
   ]
  },
  {
   "cell_type": "code",
   "execution_count": null,
   "metadata": {},
   "outputs": [],
   "source": [
    "# Force calculation: F = m * a\n",
    "mass = Q(10, Units.kilogram)\n",
    "acceleration = Q(9.81, Units.meter / Units.second**2)\n",
    "force = mass * acceleration\n",
    "\n",
    "# Energy calculation: E = 0.5 * m * v^2\n",
    "velocity = Q(20, Units.meter / Units.second)\n",
    "kinetic_energy = 0.5 * mass * velocity * velocity\n",
    "\n",
    "# Power calculation: P = E / t\n",
    "time_duration = Q(5, Units.second)\n",
    "power = kinetic_energy / time_duration"
   ]
  },
  {
   "cell_type": "markdown",
   "metadata": {},
   "source": [
    "## Temperature Conversions"
   ]
  },
  {
   "cell_type": "code",
   "execution_count": null,
   "metadata": {},
   "outputs": [],
   "source": [
    "# Temperature conversions (non-linear)\n",
    "temp_c = 25.0\n",
    "temp_f = convert_temperature(temp_c, 'C', 'F')\n",
    "temp_k = convert_temperature(temp_c, 'C', 'K')\n",
    "\n",
    "# Verify round-trip conversion\n",
    "temp_c_back = convert_temperature(temp_f, 'F', 'C')\n",
    "\n",
    "temperature_results = {\n",
    "    'celsius': temp_c,\n",
    "    'fahrenheit': temp_f,\n",
    "    'kelvin': temp_k,\n",
    "    'round_trip_check': temp_c_back\n",
    "}"
   ]
  },
  {
   "cell_type": "markdown",
   "metadata": {},
   "source": [
    "## Working with Arrays"
   ]
  },
  {
   "cell_type": "code",
   "execution_count": null,
   "metadata": {},
   "outputs": [],
   "source": [
    "# Units work with numpy arrays\n",
    "times = np.linspace(0, 10, 100)\n",
    "positions = 0.5 * 9.81 * times**2  # Free fall\n",
    "\n",
    "# Add units\n",
    "t = Q(times, Units.second)\n",
    "x = Q(positions, Units.meter)\n",
    "\n",
    "# Calculate velocity\n",
    "dt = times[1] - times[0]\n",
    "velocities = np.gradient(positions, dt)\n",
    "v = Q(velocities, Units.meter / Units.second)"
   ]
  },
  {
   "cell_type": "markdown",
   "metadata": {},
   "source": [
    "## Unit Validation"
   ]
  },
  {
   "cell_type": "code",
   "execution_count": null,
   "metadata": {},
   "outputs": [],
   "source": [
    "# Demonstrate unit compatibility checking\n",
    "length1 = Q(10, Units.meter)\n",
    "length2 = Q(5, Units.kilometer)\n",
    "mass1 = Q(2, Units.kilogram)\n",
    "\n",
    "# Compatible units can be added\n",
    "try:\n",
    "    total_length = length1 + length2.to(Units.meter)\n",
    "    success = True\n",
    "except ValueError:\n",
    "    success = False\n",
    "\n",
    "# Incompatible units cannot be added\n",
    "try:\n",
    "    invalid = length1 + mass1\n",
    "    error_caught = False\n",
    "except ValueError:\n",
    "    error_caught = True"
   ]
  },
  {
   "cell_type": "markdown",
   "metadata": {},
   "source": [
    "## Dimensionless Quantities"
   ]
  },
  {
   "cell_type": "code",
   "execution_count": null,
   "metadata": {},
   "outputs": [],
   "source": [
    "# Working with dimensionless quantities\n",
    "efficiency = Q(0.85, Units.dimensionless)\n",
    "percentage = Q(85, Units.percent)\n",
    "\n",
    "# Convert between representations\n",
    "efficiency_from_percent = percentage.to(Units.dimensionless)\n",
    "\n",
    "# Reynolds number (dimensionless)\n",
    "density = Q(1000, Units.kilogram / Units.meter**3)\n",
    "velocity = Q(2, Units.meter / Units.second)\n",
    "length = Q(0.1, Units.meter)\n",
    "viscosity = Q(0.001, Units.pascal * Units.second)\n",
    "\n",
    "# Re = ρ * v * L / μ\n",
    "reynolds = (density * velocity * length / viscosity)"
   ]
  },
  {
   "cell_type": "markdown",
   "metadata": {},
   "source": [
    "## Practical Example: Projectile Motion"
   ]
  },
  {
   "cell_type": "code",
   "execution_count": null,
   "metadata": {},
   "outputs": [],
   "source": [
    "# Projectile motion with units\n",
    "import matplotlib.pyplot as plt\n",
    "\n",
    "# Initial conditions\n",
    "v0 = Q(50, Units.meter / Units.second)  # Initial velocity\n",
    "angle = 45  # degrees\n",
    "g = Q(9.81, Units.meter / Units.second**2)  # Gravity\n",
    "\n",
    "# Time array\n",
    "t_max = 2 * v0.value * np.sin(np.radians(angle)) / g.value\n",
    "t = Q(np.linspace(0, t_max, 100), Units.second)\n",
    "\n",
    "# Calculate trajectory\n",
    "vx = v0.value * np.cos(np.radians(angle))\n",
    "vy = v0.value * np.sin(np.radians(angle))\n",
    "\n",
    "x = Q(vx * t.value, Units.meter)\n",
    "y = Q(vy * t.value - 0.5 * g.value * t.value**2, Units.meter)\n",
    "\n",
    "# Plot\n",
    "fig, ax = plt.subplots(figsize=(10, 6))\n",
    "ax.plot(x.value, y.value, 'b-', linewidth=2)\n",
    "ax.set_xlabel(f'Distance ({x.unit.symbol})')\n",
    "ax.set_ylabel(f'Height ({y.unit.symbol})')\n",
    "ax.set_title('Projectile Motion with Units')\n",
    "ax.grid(True, alpha=0.3)\n",
    "ax.set_ylim(bottom=0)\n",
    "\n",
    "# Add annotations\n",
    "max_height = Q(vy**2 / (2 * g.value), Units.meter)\n",
    "range_val = Q(v0.value**2 * np.sin(2 * np.radians(angle)) / g.value, Units.meter)\n",
    "\n",
    "plt.tight_layout()\n",
    "plt.show()\n",
    "plt.close()"
   ]
  },
  {
   "cell_type": "markdown",
   "metadata": {},
   "source": [
    "## Unit-Safe Functions"
   ]
  },
  {
   "cell_type": "code",
   "execution_count": null,
   "metadata": {},
   "outputs": [],
   "source": [
    "# Demonstrate unit-safe operations\n",
    "from scitex.units import ensure_units, strip_units\n",
    "\n",
    "def calculate_pressure(force, area, force_unit=Units.newton, area_unit=Units.meter**2):\n",
    "    \"\"\"Calculate pressure with automatic unit handling.\"\"\"\n",
    "    # Ensure inputs have units\n",
    "    f = ensure_units(force, force_unit)\n",
    "    a = ensure_units(area, area_unit)\n",
    "    \n",
    "    # Calculate pressure\n",
    "    pressure = f / a\n",
    "    \n",
    "    return pressure\n",
    "\n",
    "# Use with or without units\n",
    "p1 = calculate_pressure(100, 0.5)  # Assumes default units\n",
    "p2 = calculate_pressure(Q(100, Units.newton), Q(0.5, Units.meter**2))  # Explicit units\n",
    "\n",
    "# Extract values for numerical operations\n",
    "p_values = strip_units(p1)\n",
    "p_array = strip_units([p1, p2])"
   ]
  },
  {
   "cell_type": "markdown",
   "metadata": {},
   "source": [
    "## Summary\n",
    "\n",
    "The SciTeX units module provides:\n",
    "\n",
    "1. **Unit-aware arithmetic** - Automatic dimensional analysis\n",
    "2. **Unit conversions** - Convert between compatible units\n",
    "3. **Temperature handling** - Non-linear temperature conversions\n",
    "4. **Array support** - Works with NumPy arrays\n",
    "5. **Validation** - Catches unit mismatches\n",
    "6. **Convenience functions** - Easy unit handling in functions\n",
    "\n",
    "This ensures scientific validity and prevents unit-related errors in calculations."
   ]
  }
 ],
 "metadata": {
  "kernelspec": {
   "display_name": "Python 3",
   "language": "python",
   "name": "python3"
  },
  "language_info": {
   "codemirror_mode": {
    "name": "ipython",
    "version": 3
   },
   "file_extension": ".py",
   "mimetype": "text/x-python",
   "name": "python",
   "nbconvert_exporter": "python",
   "pygments_lexer": "ipython3",
   "version": "3.11.0"
  }
 },
 "nbformat": 4,
 "nbformat_minor": 4
}