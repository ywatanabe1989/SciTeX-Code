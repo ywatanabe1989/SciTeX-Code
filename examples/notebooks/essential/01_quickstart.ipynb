{
 "cells": [
  {
   "cell_type": "markdown",
   "metadata": {},
   "source": [
    "# SciTeX Quick Start Guide\n",
    "\n",
    "Welcome to SciTeX! This notebook provides a quick introduction to the most essential features.\n",
    "\n",
    "## What is SciTeX?\n",
    "\n",
    "SciTeX is a comprehensive Python library for scientific computing with a focus on:\n",
    "- **I/O Operations**: Unified file handling with automatic format detection\n",
    "- **Scientific Publishing**: Paper management with Scholar module\n",
    "- **Data Visualization**: Publication-ready plots\n",
    "- **Machine Learning**: Tools for deep learning and traditional ML\n",
    "- **Signal Processing**: DSP utilities for scientific data"
   ]
  },
  {
   "cell_type": "markdown",
   "metadata": {},
   "source": [
    "## Installation Check"
   ]
  },
  {
   "cell_type": "code",
   "execution_count": null,
   "metadata": {},
   "outputs": [],
   "source": [
    "# Import SciTeX and check version\n",
    "import scitex\n",
    "import numpy as np\n",
    "import pandas as pd\n",
    "from pathlib import Path\n",
    "\n",
    "print(f\"SciTeX version: {scitex.__version__}\")\n",
    "print(f\"Available modules: {len([m for m in dir(scitex) if not m.startswith('_')])}\")"
   ]
  },
  {
   "cell_type": "markdown",
   "metadata": {},
   "source": [
    "## 1. Basic I/O Operations\n",
    "\n",
    "SciTeX provides a unified interface for saving and loading data in various formats."
   ]
  },
  {
   "cell_type": "code",
   "execution_count": null,
   "metadata": {},
   "outputs": [],
   "source": [
    "# Create example data\n",
    "data = {\n",
    "    'numbers': np.random.randn(100),\n",
    "    'labels': ['A', 'B', 'C'] * 33 + ['A'],\n",
    "    'metadata': {'experiment': 'demo', 'version': 1.0}\n",
    "}\n",
    "\n",
    "# Save data - format detected automatically from extension\n",
    "scitex.io.save(data, 'example_data.pkl')\n",
    "print(\"✓ Saved data as pickle\")\n",
    "\n",
    "# Load data back\n",
    "loaded_data = scitex.io.load('example_data.pkl')\n",
    "print(f\"✓ Loaded data with keys: {list(loaded_data.keys())}\")"
   ]
  },
  {
   "cell_type": "markdown",
   "metadata": {},
   "source": [
    "## 2. DataFrame Operations"
   ]
  },
  {
   "cell_type": "code",
   "execution_count": null,
   "metadata": {},
   "outputs": [],
   "source": [
    "# Create a DataFrame\n",
    "df = pd.DataFrame({\n",
    "    'x': np.random.randn(1000),\n",
    "    'y': np.random.randn(1000),\n",
    "    'group': np.random.choice(['control', 'treatment'], 1000)\n",
    "})\n",
    "\n",
    "# Save as CSV\n",
    "scitex.io.save(df, 'experiment_data.csv')\n",
    "print(\"✓ Saved DataFrame as CSV\")\n",
    "\n",
    "# Save as Excel\n",
    "scitex.io.save(df, 'experiment_data.xlsx')\n",
    "print(\"✓ Saved DataFrame as Excel\")\n",
    "\n",
    "# Load and verify\n",
    "df_loaded = scitex.io.load('experiment_data.csv')\n",
    "print(f\"✓ Loaded DataFrame with shape: {df_loaded.shape}\")"
   ]
  },
  {
   "cell_type": "markdown",
   "metadata": {},
   "source": [
    "## 3. Scientific Plotting"
   ]
  },
  {
   "cell_type": "code",
   "execution_count": null,
   "metadata": {},
   "outputs": [],
   "source": [
    "import matplotlib.pyplot as plt\n",
    "\n",
    "# Create figure with SciTeX styling\n",
    "fig, axes = plt.subplots(1, 2, figsize=(12, 5))\n",
    "\n",
    "# Plot 1: Scatter plot with groups\n",
    "for group in df['group'].unique():\n",
    "    mask = df['group'] == group\n",
    "    axes[0].scatter(df.loc[mask, 'x'], df.loc[mask, 'y'], \n",
    "                   label=group, alpha=0.6)\n",
    "\n",
    "axes[0].set_xlabel('X values')\n",
    "axes[0].set_ylabel('Y values')\n",
    "axes[0].set_title('Scatter Plot by Group')\n",
    "axes[0].legend()\n",
    "axes[0].grid(True, alpha=0.3)\n",
    "\n",
    "# Plot 2: Distributions\n",
    "axes[1].hist(df[df['group']=='control']['x'], bins=30, alpha=0.5, \n",
    "            label='Control', density=True)\n",
    "axes[1].hist(df[df['group']=='treatment']['x'], bins=30, alpha=0.5, \n",
    "            label='Treatment', density=True)\n",
    "axes[1].set_xlabel('Value')\n",
    "axes[1].set_ylabel('Density')\n",
    "axes[1].set_title('Distribution Comparison')\n",
    "axes[1].legend()\n",
    "axes[1].grid(True, alpha=0.3)\n",
    "\n",
    "plt.tight_layout()\n",
    "plt.show()\n",
    "\n",
    "# Save figure\n",
    "fig.savefig('example_plots.png', dpi=300, bbox_inches='tight')\n",
    "print(\"✓ Saved publication-ready figure\")"
   ]
  },
  {
   "cell_type": "markdown",
   "metadata": {},
   "source": [
    "## 4. Path and File Management"
   ]
  },
  {
   "cell_type": "code",
   "execution_count": null,
   "metadata": {},
   "outputs": [],
   "source": [
    "# Smart path handling\n",
    "from scitex.path import mk_spath\n",
    "\n",
    "# Create a smart path (auto-creates parent directories)\n",
    "output_path = mk_spath(\"results/experiment_001/data.pkl\")\n",
    "print(f\"✓ Created path: {output_path}\")\n",
    "print(f\"  Parent directory exists: {output_path.parent.exists()}\")\n",
    "\n",
    "# Save with automatic directory creation\n",
    "scitex.io.save({'result': 'success'}, output_path)\n",
    "print(\"✓ Saved data with automatic directory creation\")"
   ]
  },
  {
   "cell_type": "markdown",
   "metadata": {},
   "source": [
    "## 5. Configuration Management"
   ]
  },
  {
   "cell_type": "code",
   "execution_count": null,
   "metadata": {},
   "outputs": [],
   "source": [
    "# Create experiment configuration\n",
    "config = {\n",
    "    'experiment': {\n",
    "        'name': 'quickstart_demo',\n",
    "        'version': '1.0',\n",
    "        'date': '2025-01-25'\n",
    "    },\n",
    "    'parameters': {\n",
    "        'learning_rate': 0.001,\n",
    "        'batch_size': 32,\n",
    "        'epochs': 100\n",
    "    },\n",
    "    'data': {\n",
    "        'train_split': 0.8,\n",
    "        'validation_split': 0.1,\n",
    "        'test_split': 0.1\n",
    "    }\n",
    "}\n",
    "\n",
    "# Save as JSON (human-readable)\n",
    "scitex.io.save(config, 'config.json')\n",
    "print(\"✓ Saved configuration as JSON\")\n",
    "\n",
    "# Save as YAML (even more readable)\n",
    "scitex.io.save(config, 'config.yaml')\n",
    "print(\"✓ Saved configuration as YAML\")\n",
    "\n",
    "# Load and display\n",
    "loaded_config = scitex.io.load('config.json')\n",
    "print(\"\\nLoaded configuration:\")\n",
    "for section, params in loaded_config.items():\n",
    "    print(f\"\\n{section}:\")\n",
    "    for key, value in params.items():\n",
    "        print(f\"  {key}: {value}\")"
   ]
  },
  {
   "cell_type": "markdown",
   "metadata": {},
   "source": [
    "## 6. Clean Up"
   ]
  },
  {
   "cell_type": "code",
   "execution_count": null,
   "metadata": {},
   "outputs": [],
   "source": [
    "# Clean up example files\n",
    "import os\n",
    "from pathlib import Path\n",
    "\n",
    "files_to_clean = [\n",
    "    'example_data.pkl',\n",
    "    'experiment_data.csv', \n",
    "    'experiment_data.xlsx',\n",
    "    'example_plots.png',\n",
    "    'config.json',\n",
    "    'config.yaml'\n",
    "]\n",
    "\n",
    "for file in files_to_clean:\n",
    "    if Path(file).exists():\n",
    "        os.remove(file)\n",
    "        print(f\"✓ Removed {file}\")\n",
    "\n",
    "# Remove created directories\n",
    "import shutil\n",
    "if Path('results').exists():\n",
    "    shutil.rmtree('results')\n",
    "    print(\"✓ Removed results directory\")\n",
    "\n",
    "print(\"\\n🎉 Quick start complete! Explore more in the other essential notebooks.\")"
   ]
  },
  {
   "cell_type": "markdown",
   "metadata": {},
   "source": [
    "## Next Steps\n",
    "\n",
    "Now that you've seen the basics, explore these essential notebooks:\n",
    "\n",
    "1. **02_io_operations.ipynb** - Advanced I/O features including compression and caching\n",
    "2. **03_visualization.ipynb** - Publication-ready plotting with SciTeX\n",
    "3. **04_scholar_papers.ipynb** - Managing academic papers and references\n",
    "4. **05_mcp_servers.ipynb** - Using MCP servers for code translation\n",
    "\n",
    "For more details, visit the [SciTeX documentation](https://scitex.readthedocs.io)."
   ]
  }
 ],
 "metadata": {
  "kernelspec": {
   "display_name": "Python 3",
   "language": "python",
   "name": "python3"
  },
  "language_info": {
   "codemirror_mode": {
    "name": "ipython",
    "version": 3
   },
   "file_extension": ".py",
   "mimetype": "text/x-python",
   "name": "python",
   "nbconvert_exporter": "python",
   "pygments_lexer": "ipython3",
   "version": "3.8.0"
  }
 },
 "nbformat": 4,
 "nbformat_minor": 4
}