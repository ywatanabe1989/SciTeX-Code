{
 "cells": [
  {
   "cell_type": "markdown",
   "id": "1",
   "metadata": {},
   "source": [
    "# SciTeX Scholar Module - Managing Academic Papers\n",
    "\n",
    "This notebook demonstrates how to use SciTeX's Scholar module to search, download, and manage academic papers."
   ]
  },
  {
   "cell_type": "markdown",
   "id": "2",
   "metadata": {},
   "source": [
    "## 1. Setup and Import"
   ]
  },
  {
   "cell_type": "code",
   "execution_count": null,
   "id": "3",
   "metadata": {},
   "outputs": [],
   "source": [
    "import scitex\n",
    "from scitex.scholar import Scholar, Papers\n",
    "import pandas as pd\n",
    "from pathlib import Path"
   ]
  },
  {
   "cell_type": "markdown",
   "id": "4",
   "metadata": {},
   "source": [
    "## 2. Initialize Scholar"
   ]
  },
  {
   "cell_type": "code",
   "execution_count": null,
   "id": "5",
   "metadata": {},
   "outputs": [],
   "source": [
    "# Initialize Scholar with default configuration\n",
    "scholar = Scholar()\n",
    "\n",
    "# Or with custom output directory\n",
    "# scholar = Scholar(output_dir=\"./my_papers\")"
   ]
  },
  {
   "cell_type": "markdown",
   "id": "6",
   "metadata": {},
   "source": [
    "## 3. Search for Papers"
   ]
  },
  {
   "cell_type": "code",
   "execution_count": null,
   "id": "7",
   "metadata": {},
   "outputs": [],
   "source": [
    "# Search by query\n",
    "query = \"machine learning neuroscience\"\n",
    "papers = scholar.search(query, max_results=5)\n",
    "\n",
    "print(f\"Found {len(papers)} papers\")\n",
    "papers.preview()"
   ]
  },
  {
   "cell_type": "code",
   "execution_count": null,
   "id": "8",
   "metadata": {},
   "outputs": [],
   "source": [
    "# Search by DOI\n",
    "doi = \"10.1038/s41586-020-2649-2\"\n",
    "paper_by_doi = scholar.search_by_doi(doi)\n",
    "\n",
    "if paper_by_doi:\n",
    "    print(f\"Title: {paper_by_doi.title}\")\n",
    "    print(f\"Authors: {', '.join(paper_by_doi.authors[:3])}...\")\n",
    "    print(f\"Year: {paper_by_doi.year}\")"
   ]
  },
  {
   "cell_type": "markdown",
   "id": "9",
   "metadata": {},
   "source": [
    "## 4. Working with Papers Collection"
   ]
  },
  {
   "cell_type": "code",
   "execution_count": null,
   "id": "10",
   "metadata": {},
   "outputs": [],
   "source": [
    "# Create Papers collection from search results\n",
    "my_papers = Papers(papers.papers[:3])  # Take first 3 papers\n",
    "\n",
    "# Add a paper manually\n",
    "from scitex.scholar import Paper\n",
    "\n",
    "new_paper = Paper(\n",
    "    title=\"Deep Learning in Neuroscience\",\n",
    "    authors=[\"John Doe\", \"Jane Smith\"],\n",
    "    year=2024,\n",
    "    doi=\"10.1234/example.2024\"\n",
    ")\n",
    "my_papers.add(new_paper)\n",
    "\n",
    "print(f\"Total papers: {len(my_papers)}\")"
   ]
  },
  {
   "cell_type": "markdown",
   "id": "11",
   "metadata": {},
   "source": [
    "## 5. Export Papers"
   ]
  },
  {
   "cell_type": "code",
   "execution_count": null,
   "id": "12",
   "metadata": {},
   "outputs": [],
   "source": [
    "# Save as BibTeX\n",
    "output_dir = Path(\"./scholar_output\")\n",
    "output_dir.mkdir(exist_ok=True)\n",
    "\n",
    "bibtex_file = output_dir / \"my_papers.bib\"\n",
    "my_papers.to_bibtex(bibtex_file)\n",
    "print(f\"Saved to {bibtex_file}\")\n",
    "\n",
    "# Export to DataFrame\n",
    "df = my_papers.to_dataframe()\n",
    "print(\"\\nPapers DataFrame:\")\n",
    "print(df[['title', 'year', 'doi']].head())"
   ]
  },
  {
   "cell_type": "markdown",
   "id": "13",
   "metadata": {},
   "source": [
    "## 6. Filter and Sort Papers"
   ]
  },
  {
   "cell_type": "code",
   "execution_count": null,
   "id": "14",
   "metadata": {},
   "outputs": [],
   "source": [
    "# Filter by year\n",
    "recent_papers = my_papers.filter_by_year(min_year=2020)\n",
    "print(f\"Papers from 2020 onwards: {len(recent_papers)}\")\n",
    "\n",
    "# Sort by year (descending)\n",
    "sorted_papers = my_papers.sort_by_year(ascending=False)\n",
    "print(\"\\nPapers sorted by year (newest first):\")\n",
    "for paper in sorted_papers.papers[:3]:\n",
    "    print(f\"- {paper.year}: {paper.title[:50]}...\")"
   ]
  },
  {
   "cell_type": "markdown",
   "id": "15",
   "metadata": {},
   "source": [
    "## 7. Download PDFs (if available)"
   ]
  },
  {
   "cell_type": "code",
   "execution_count": null,
   "id": "16",
   "metadata": {},
   "outputs": [],
   "source": [
    "# Note: PDF download requires proper authentication or open access papers\n",
    "# This example shows the interface\n",
    "\n",
    "# Download PDFs for all papers\n",
    "pdf_dir = output_dir / \"pdfs\"\n",
    "pdf_dir.mkdir(exist_ok=True)\n",
    "\n",
    "# Attempt to download (will work for open access papers)\n",
    "results = scholar.download_pdfs(my_papers, output_dir=pdf_dir)\n",
    "\n",
    "# Check results\n",
    "successful = sum(1 for r in results if r['success'])\n",
    "print(f\"Successfully downloaded: {successful}/{len(results)} PDFs\")"
   ]
  },
  {
   "cell_type": "markdown",
   "id": "17",
   "metadata": {},
   "source": [
    "## 8. Load Papers from BibTeX"
   ]
  },
  {
   "cell_type": "code",
   "execution_count": null,
   "id": "18",
   "metadata": {},
   "outputs": [],
   "source": [
    "# Load papers from existing BibTeX file\n",
    "if bibtex_file.exists():\n",
    "    loaded_papers = Papers.from_bibtex(bibtex_file)\n",
    "    print(f\"Loaded {len(loaded_papers)} papers from BibTeX\")\n",
    "    \n",
    "    # Verify loaded content\n",
    "    for paper in loaded_papers.papers[:2]:\n",
    "        print(f\"\\n- {paper.title}\")\n",
    "        print(f\"  Authors: {', '.join(paper.authors[:2])}...\")\n",
    "        print(f\"  Year: {paper.year}\")"
   ]
  },
  {
   "cell_type": "markdown",
   "id": "19",
   "metadata": {},
   "source": [
    "## 9. Integration with Other SciTeX Features"
   ]
  },
  {
   "cell_type": "code",
   "execution_count": null,
   "id": "20",
   "metadata": {},
   "outputs": [],
   "source": [
    "# Save papers data for analysis\n",
    "papers_data = {\n",
    "    'papers': [p.to_dict() for p in my_papers.papers],\n",
    "    'metadata': {\n",
    "        'search_query': query,\n",
    "        'total_papers': len(my_papers),\n",
    "        'date_range': (min(p.year for p in my_papers.papers if p.year),\n",
    "                      max(p.year for p in my_papers.papers if p.year))\n",
    "    }\n",
    "}\n",
    "\n",
    "# Use SciTeX's unified save\n",
    "scitex.io.save(papers_data, output_dir / 'papers_data.json')\n",
    "print(f\"Saved papers data to {output_dir / 'papers_data.json'}\")"
   ]
  },
  {
   "cell_type": "markdown",
   "id": "21",
   "metadata": {},
   "source": [
    "## 10. Visualize Paper Statistics"
   ]
  },
  {
   "cell_type": "code",
   "execution_count": null,
   "id": "22",
   "metadata": {},
   "outputs": [],
   "source": [
    "# Create year distribution plot\n",
    "df = my_papers.to_dataframe()\n",
    "if not df.empty and 'year' in df.columns:\n",
    "    year_counts = df['year'].value_counts().sort_index()\n",
    "    \n",
    "    fig, ax = scitex.plt.subplots(figsize=(8, 5))\n",
    "    ax.bar(year_counts.index, year_counts.values)\n",
    "    ax.set_xlabel('Year')\n",
    "    ax.set_ylabel('Number of Papers')\n",
    "    ax.set_title('Papers by Year')\n",
    "    \n",
    "    # Save figure\n",
    "    fig.save(output_dir / 'papers_by_year.png')\n",
    "    print(\"Saved year distribution plot\")"
   ]
  },
  {
   "cell_type": "markdown",
   "id": "23",
   "metadata": {},
   "source": [
    "## Summary\n",
    "\n",
    "This notebook demonstrated:\n",
    "- Searching for papers by query and DOI\n",
    "- Managing paper collections with the Papers class\n",
    "- Exporting to BibTeX and DataFrame formats\n",
    "- Filtering and sorting papers\n",
    "- Downloading PDFs (when available)\n",
    "- Integration with other SciTeX features\n",
    "\n",
    "For more advanced features like OpenAthens authentication or custom search engines, refer to the Scholar module documentation."
   ]
  }
 ],
 "metadata": {
  "kernelspec": {
   "display_name": "Python 3",
   "language": "python",
   "name": "python3"
  },
  "language_info": {
   "codemirror_mode": {
    "name": "ipython",
    "version": 3
   },
   "file_extension": ".py",
   "mimetype": "text/x-python",
   "name": "python",
   "nbconvert_exporter": "python",
   "pygments_lexer": "ipython3",
   "version": "3.8.0"
  }
 },
 "nbformat": 4,
 "nbformat_minor": 5
}