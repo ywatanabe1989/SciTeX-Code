{
 "cells": [
  {
   "cell_type": "markdown",
   "metadata": {},
   "source": [
    "# Getting Started with SciTeX\n",
    "\n",
    "SciTeX is a Python package designed to standardize scientific computing workflows with focus on reproducibility, consistency, and ease of use.\n",
    "\n",
    "This notebook introduces the core concepts and modules of SciTeX."
   ]
  },
  {
   "cell_type": "markdown",
   "metadata": {},
   "source": [
    "## Installation\n",
    "\n",
    "First, ensure SciTeX is installed:\n",
    "\n",
    "```bash\n",
    "pip install scitex\n",
    "```\n",
    "\n",
    "Or install from source:\n",
    "\n",
    "```bash\n",
    "cd ~/proj/SciTeX-Code\n",
    "pip install -e .\n",
    "```"
   ]
  },
  {
   "cell_type": "markdown",
   "metadata": {},
   "source": [
    "## 1. Basic Import and Setup"
   ]
  },
  {
   "cell_type": "code",
   "execution_count": null,
   "metadata": {},
   "outputs": [],
   "source": [
    "import scitex as stx\n",
    "import numpy as np\n",
    "import pandas as pd\n",
    "\n",
    "# Check SciTeX version\n",
    "print(f\"SciTeX version: {stx.__version__}\")"
   ]
  },
  {
   "cell_type": "markdown",
   "metadata": {},
   "source": [
    "## 2. IO Module - Unified File Operations\n",
    "\n",
    "The `scitex.io` module provides a unified interface for loading and saving various file formats."
   ]
  },
  {
   "cell_type": "code",
   "execution_count": null,
   "metadata": {},
   "outputs": [],
   "source": [
    "# Create sample data\n",
    "data = pd.DataFrame({\n",
    "    'x': np.linspace(0, 10, 100),\n",
    "    'y': np.sin(np.linspace(0, 10, 100)),\n",
    "    'z': np.cos(np.linspace(0, 10, 100))\n",
    "})\n",
    "\n",
    "# Save data - automatically detects format from extension\n",
    "stx.io.save(data, './data_example.csv')\n",
    "stx.io.save(data, './data_example.pkl')\n",
    "stx.io.save(data.values, './data_example.npy')\n",
    "\n",
    "print(\"Files saved successfully!\")"
   ]
  },
  {
   "cell_type": "code",
   "execution_count": null,
   "metadata": {},
   "outputs": [],
   "source": [
    "# Load data - format detected automatically\n",
    "df_csv = stx.io.load('./data_example.csv')\n",
    "df_pkl = stx.io.load('./data_example.pkl')\n",
    "arr_npy = stx.io.load('./data_example.npy')\n",
    "\n",
    "print(f\"CSV shape: {df_csv.shape}\")\n",
    "print(f\"PKL shape: {df_pkl.shape}\")\n",
    "print(f\"NPY shape: {arr_npy.shape}\")"
   ]
  },
  {
   "cell_type": "markdown",
   "metadata": {},
   "source": [
    "### Advanced IO Features"
   ]
  },
  {
   "cell_type": "code",
   "execution_count": null,
   "metadata": {},
   "outputs": [],
   "source": [
    "# Save with compression\n",
    "large_data = np.random.randn(1000, 1000)\n",
    "stx.io.save(large_data, './large_data.npy.gz')\n",
    "\n",
    "# Create symlink from current working directory\n",
    "stx.io.save(data, './outputs/results.csv', symlink_from_cwd=True)\n",
    "\n",
    "# Save dictionary data\n",
    "results = {\n",
    "    'accuracy': 0.95,\n",
    "    'loss': 0.05,\n",
    "    'params': {'learning_rate': 0.001, 'epochs': 100}\n",
    "}\n",
    "stx.io.save(results, './model_results.json')"
   ]
  },
  {
   "cell_type": "markdown",
   "metadata": {},
   "source": [
    "## 3. Plotting Module - Enhanced Matplotlib\n",
    "\n",
    "The `scitex.plt` module extends matplotlib with convenient functions and better defaults."
   ]
  },
  {
   "cell_type": "code",
   "execution_count": null,
   "metadata": {},
   "outputs": [],
   "source": [
    "# Basic plotting\n",
    "fig, ax = stx.plt.subplots(figsize=(8, 6))\n",
    "\n",
    "# Plot data\n",
    "ax.plot(data['x'], data['y'], label='sin(x)')\n",
    "ax.plot(data['x'], data['z'], label='cos(x)')\n",
    "\n",
    "# Use the convenient set_xyt function\n",
    "ax.set_xyt('X values', 'Y values', 'Trigonometric Functions')\n",
    "ax.legend()\n",
    "\n",
    "# Save figure with automatic directory creation\n",
    "stx.io.save(fig, './figures/trig_functions.png', dpi=150)\n",
    "stx.plt.show()"
   ]
  },
  {
   "cell_type": "code",
   "execution_count": null,
   "metadata": {},
   "outputs": [],
   "source": [
    "# Multiple subplots with shared styling\n",
    "fig, axes = stx.plt.subplots(2, 2, figsize=(10, 8))\n",
    "\n",
    "# Generate different datasets\n",
    "x = np.linspace(0, 10, 100)\n",
    "datasets = [\n",
    "    ('Linear', x, x),\n",
    "    ('Quadratic', x, x**2),\n",
    "    ('Exponential', x, np.exp(x/5)),\n",
    "    ('Logarithmic', x[1:], np.log(x[1:]))\n",
    "]\n",
    "\n",
    "for ax, (title, x_data, y_data) in zip(axes.flat, datasets):\n",
    "    ax.plot(x_data, y_data)\n",
    "    ax.set_xyt('x', 'y', title)\n",
    "    ax.grid(True, alpha=0.3)\n",
    "\n",
    "fig.tight_layout()\n",
    "stx.io.save(fig, './figures/multiple_functions.png')\n",
    "stx.plt.show()"
   ]
  },
  {
   "cell_type": "markdown",
   "metadata": {},
   "source": [
    "## 4. Statistics Module - Scientific Analysis"
   ]
  },
  {
   "cell_type": "code",
   "execution_count": null,
   "metadata": {},
   "outputs": [],
   "source": [
    "# Generate sample data\n",
    "np.random.seed(42)\n",
    "group1 = np.random.normal(100, 15, 100)\n",
    "group2 = np.random.normal(110, 15, 100)\n",
    "\n",
    "# Perform t-test\n",
    "from scipy import stats\n",
    "t_stat, p_value = stats.ttest_ind(group1, group2)\n",
    "\n",
    "print(f\"T-statistic: {t_stat:.4f}\")\n",
    "print(f\"P-value: {p_value:.4f}\")\n",
    "\n",
    "# Effect size (Cohen's d)\n",
    "cohen_d = (np.mean(group2) - np.mean(group1)) / np.sqrt((np.var(group1) + np.var(group2)) / 2)\n",
    "print(f\"Cohen's d: {cohen_d:.4f}\")"
   ]
  },
  {
   "cell_type": "code",
   "execution_count": null,
   "metadata": {},
   "outputs": [],
   "source": [
    "# Visualize distributions\n",
    "fig, ax = stx.plt.subplots(figsize=(8, 6))\n",
    "\n",
    "# Plot histograms\n",
    "ax.hist(group1, bins=20, alpha=0.6, label='Group 1', density=True)\n",
    "ax.hist(group2, bins=20, alpha=0.6, label='Group 2', density=True)\n",
    "\n",
    "# Add normal curves\n",
    "x_range = np.linspace(50, 150, 100)\n",
    "ax.plot(x_range, stats.norm.pdf(x_range, np.mean(group1), np.std(group1)), \n",
    "        'b-', linewidth=2, label='Group 1 fit')\n",
    "ax.plot(x_range, stats.norm.pdf(x_range, np.mean(group2), np.std(group2)), \n",
    "        'r-', linewidth=2, label='Group 2 fit')\n",
    "\n",
    "ax.set_xyt('Value', 'Density', f'Distribution Comparison (p={p_value:.3f})')\n",
    "ax.legend()\n",
    "\n",
    "stx.io.save(fig, './figures/distribution_comparison.png')\n",
    "stx.plt.show()"
   ]
  },
  {
   "cell_type": "markdown",
   "metadata": {},
   "source": [
    "## 5. Configuration Management\n",
    "\n",
    "SciTeX encourages separating configuration from code for better reproducibility."
   ]
  },
  {
   "cell_type": "code",
   "execution_count": null,
   "metadata": {},
   "outputs": [],
   "source": [
    "# Create a configuration dictionary\n",
    "config = {\n",
    "    'experiment': {\n",
    "        'name': 'demo_analysis',\n",
    "        'seed': 42,\n",
    "        'n_samples': 1000\n",
    "    },\n",
    "    'model': {\n",
    "        'type': 'random_forest',\n",
    "        'n_estimators': 100,\n",
    "        'max_depth': 10\n",
    "    },\n",
    "    'paths': {\n",
    "        'data': './data/',\n",
    "        'results': './results/',\n",
    "        'figures': './figures/'\n",
    "    }\n",
    "}\n",
    "\n",
    "# Save configuration\n",
    "stx.io.save(config, './config/experiment.yaml')\n",
    "\n",
    "# Load configuration\n",
    "loaded_config = stx.io.load('./config/experiment.yaml')\n",
    "print(\"Configuration loaded:\")\n",
    "print(loaded_config)"
   ]
  },
  {
   "cell_type": "markdown",
   "metadata": {},
   "source": [
    "## 6. Complete Workflow Example\n",
    "\n",
    "Let's combine everything in a typical scientific analysis workflow:"
   ]
  },
  {
   "cell_type": "code",
   "execution_count": null,
   "metadata": {},
   "outputs": [],
   "source": [
    "# 1. Setup and configuration\n",
    "np.random.seed(42)\n",
    "config = stx.io.load('./config/experiment.yaml')\n",
    "\n",
    "# 2. Generate synthetic data\n",
    "n_samples = config['experiment']['n_samples']\n",
    "X = np.random.randn(n_samples, 2)\n",
    "y = (X[:, 0] + X[:, 1] > 0).astype(int)\n",
    "\n",
    "# Add some noise\n",
    "noise_idx = np.random.choice(n_samples, size=int(0.1 * n_samples), replace=False)\n",
    "y[noise_idx] = 1 - y[noise_idx]\n",
    "\n",
    "# 3. Save raw data\n",
    "data = pd.DataFrame(X, columns=['feature1', 'feature2'])\n",
    "data['target'] = y\n",
    "stx.io.save(data, './data/synthetic_dataset.csv')\n",
    "\n",
    "print(f\"Generated dataset with {n_samples} samples\")\n",
    "print(f\"Class distribution: {np.bincount(y)}\")"
   ]
  },
  {
   "cell_type": "code",
   "execution_count": null,
   "metadata": {},
   "outputs": [],
   "source": [
    "# 4. Visualize the data\n",
    "fig, ax = stx.plt.subplots(figsize=(8, 6))\n",
    "\n",
    "# Plot different classes\n",
    "colors = ['blue', 'red']\n",
    "for class_val in [0, 1]:\n",
    "    mask = y == class_val\n",
    "    ax.scatter(X[mask, 0], X[mask, 1], \n",
    "               c=colors[class_val], \n",
    "               label=f'Class {class_val}',\n",
    "               alpha=0.6)\n",
    "\n",
    "# Add decision boundary\n",
    "x_line = np.linspace(-3, 3, 100)\n",
    "y_line = -x_line  # x + y = 0\n",
    "ax.plot(x_line, y_line, 'k--', label='True boundary')\n",
    "\n",
    "ax.set_xyt('Feature 1', 'Feature 2', 'Synthetic Classification Dataset')\n",
    "ax.legend()\n",
    "ax.grid(True, alpha=0.3)\n",
    "\n",
    "stx.io.save(fig, './figures/synthetic_data_visualization.png')\n",
    "stx.plt.show()"
   ]
  },
  {
   "cell_type": "code",
   "execution_count": null,
   "metadata": {},
   "outputs": [],
   "source": [
    "# 5. Train a simple model\n",
    "from sklearn.model_selection import train_test_split\n",
    "from sklearn.ensemble import RandomForestClassifier\n",
    "from sklearn.metrics import classification_report, confusion_matrix\n",
    "\n",
    "# Split data\n",
    "X_train, X_test, y_train, y_test = train_test_split(\n",
    "    X, y, test_size=0.2, random_state=config['experiment']['seed']\n",
    ")\n",
    "\n",
    "# Train model\n",
    "model = RandomForestClassifier(\n",
    "    n_estimators=config['model']['n_estimators'],\n",
    "    max_depth=config['model']['max_depth'],\n",
    "    random_state=config['experiment']['seed']\n",
    ")\n",
    "model.fit(X_train, y_train)\n",
    "\n",
    "# Evaluate\n",
    "y_pred = model.predict(X_test)\n",
    "accuracy = (y_pred == y_test).mean()\n",
    "\n",
    "print(f\"Test Accuracy: {accuracy:.3f}\")\n",
    "print(\"\\nClassification Report:\")\n",
    "print(classification_report(y_test, y_pred))"
   ]
  },
  {
   "cell_type": "code",
   "execution_count": null,
   "metadata": {},
   "outputs": [],
   "source": [
    "# 6. Visualize results\n",
    "fig, (ax1, ax2) = stx.plt.subplots(1, 2, figsize=(12, 5))\n",
    "\n",
    "# Confusion matrix\n",
    "cm = confusion_matrix(y_test, y_pred)\n",
    "im = ax1.imshow(cm, cmap='Blues')\n",
    "ax1.set_xyt('Predicted', 'Actual', 'Confusion Matrix')\n",
    "\n",
    "# Add text annotations\n",
    "for i in range(2):\n",
    "    for j in range(2):\n",
    "        ax1.text(j, i, str(cm[i, j]), ha='center', va='center')\n",
    "\n",
    "# Feature importance\n",
    "importance = model.feature_importances_\n",
    "ax2.bar(['Feature 1', 'Feature 2'], importance)\n",
    "ax2.set_xyt('Features', 'Importance', 'Feature Importance')\n",
    "\n",
    "fig.tight_layout()\n",
    "stx.io.save(fig, './figures/model_evaluation.png')\n",
    "stx.plt.show()"
   ]
  },
  {
   "cell_type": "code",
   "execution_count": null,
   "metadata": {},
   "outputs": [],
   "source": [
    "# 7. Save results\n",
    "results = {\n",
    "    'accuracy': float(accuracy),\n",
    "    'confusion_matrix': cm.tolist(),\n",
    "    'feature_importance': importance.tolist(),\n",
    "    'config': config,\n",
    "    'n_train': len(X_train),\n",
    "    'n_test': len(X_test)\n",
    "}\n",
    "\n",
    "stx.io.save(results, './results/experiment_results.json')\n",
    "stx.io.save(model, './models/trained_model.pkl')\n",
    "\n",
    "print(\"\\nWorkflow complete! Results saved to:\")\n",
    "print(\"- ./results/experiment_results.json\")\n",
    "print(\"- ./models/trained_model.pkl\")\n",
    "print(\"- ./figures/\")"
   ]
  },
  {
   "cell_type": "markdown",
   "metadata": {},
   "source": [
    "## 7. Best Practices with SciTeX\n",
    "\n",
    "1. **Always use relative paths** starting with `./`\n",
    "2. **Organize outputs** by type (figures/, data/, results/)\n",
    "3. **Use configuration files** for parameters\n",
    "4. **Leverage unified IO** for format-agnostic code\n",
    "5. **Create symlinks** for important outputs\n",
    "6. **Document your workflow** in notebooks like this\n",
    "\n",
    "## Next Steps\n",
    "\n",
    "Explore more specialized notebooks:\n",
    "- `02_scitex_io_advanced.ipynb` - Advanced IO operations\n",
    "- `03_scitex_plotting.ipynb` - Publication-ready plots\n",
    "- `04_scitex_statistics.ipynb` - Statistical analysis\n",
    "- `05_scitex_dsp.ipynb` - Digital signal processing"
   ]
  },
  {
   "cell_type": "markdown",
   "metadata": {},
   "source": [
    "## Cleanup\n",
    "\n",
    "Remove temporary files created during this demo:"
   ]
  },
  {
   "cell_type": "code",
   "execution_count": null,
   "metadata": {},
   "outputs": [],
   "source": [
    "# Optional: Clean up demo files\n",
    "import os\n",
    "import shutil\n",
    "\n",
    "# List files to clean\n",
    "cleanup_files = [\n",
    "    './data_example.csv',\n",
    "    './data_example.pkl', \n",
    "    './data_example.npy',\n",
    "    './large_data.npy.gz',\n",
    "    './model_results.json'\n",
    "]\n",
    "\n",
    "cleanup_dirs = [\n",
    "    './outputs',\n",
    "    './figures',\n",
    "    './data',\n",
    "    './results',\n",
    "    './models',\n",
    "    './config'\n",
    "]\n",
    "\n",
    "# Uncomment to actually clean up:\n",
    "# for f in cleanup_files:\n",
    "#     if os.path.exists(f):\n",
    "#         os.remove(f)\n",
    "# for d in cleanup_dirs:\n",
    "#     if os.path.exists(d):\n",
    "#         shutil.rmtree(d)\n",
    "\n",
    "print(\"Demo complete!\")"
   ]
  }
 ],
 "metadata": {
  "kernelspec": {
   "display_name": "Python 3",
   "language": "python",
   "name": "python3"
  },
  "language_info": {
   "codemirror_mode": {
    "name": "ipython",
    "version": 3
   },
   "file_extension": ".py",
   "mimetype": "text/x-python",
   "name": "python",
   "nbconvert_exporter": "python",
   "pygments_lexer": "ipython3",
   "version": "3.8.0"
  }
 },
 "nbformat": 4,
 "nbformat_minor": 4
}