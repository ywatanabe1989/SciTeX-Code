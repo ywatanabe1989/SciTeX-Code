{
 "cells": [
  {
   "cell_type": "markdown",
   "id": "03d5fd69",
   "metadata": {
    "tags": [
     "papermill-error-cell-tag"
    ]
   },
   "source": [
    "<span style=\"color:red; font-family:Helvetica Neue, Helvetica, Arial, sans-serif; font-size:2em;\">An Exception was encountered at '<a href=\"#papermill-error-cell\">In [12]</a>'.</span>"
   ]
  },
  {
   "cell_type": "markdown",
   "id": "ecb80aa6",
   "metadata": {
    "papermill": {
     "duration": 0.005855,
     "end_time": "2025-07-24T19:16:45.872830",
     "exception": false,
     "start_time": "2025-07-24T19:16:45.866975",
     "status": "completed"
    },
    "tags": []
   },
   "source": [
    "# Comprehensive SciTeX Linear Algebra Module Examples\n",
    "\n",
    "This notebook demonstrates the complete functionality of the `scitex.linalg` module, which provides linear algebra utilities for scientific computing.\n",
    "\n",
    "## Module Overview\n",
    "\n",
    "The `scitex.linalg` module includes:\n",
    "- Distance calculations (Euclidean, various distance metrics)\n",
    "- Geometric median computation\n",
    "- Miscellaneous linear algebra utilities (cosine similarity, norms, vector operations)\n",
    "- Coordinate transformations\n",
    "\n",
    "## Import Setup"
   ]
  },
  {
   "cell_type": "code",
   "execution_count": 1,
   "id": "6a309e16",
   "metadata": {
    "execution": {
     "iopub.execute_input": "2025-07-24T19:16:45.886693Z",
     "iopub.status.busy": "2025-07-24T19:16:45.885421Z",
     "iopub.status.idle": "2025-07-24T19:16:45.894158Z",
     "shell.execute_reply": "2025-07-24T19:16:45.892472Z"
    },
    "papermill": {
     "duration": 0.016917,
     "end_time": "2025-07-24T19:16:45.895948",
     "exception": false,
     "start_time": "2025-07-24T19:16:45.879031",
     "status": "completed"
    },
    "tags": []
   },
   "outputs": [],
   "source": [
    "# Detect notebook name for output directory\n",
    "import os\n",
    "from pathlib import Path\n",
    "\n",
    "# Get notebook name (for papermill compatibility)\n",
    "notebook_name = \"12_scitex_linalg\"\n",
    "if 'PAPERMILL_NOTEBOOK_NAME' in os.environ:\n",
    "    notebook_name = Path(os.environ['PAPERMILL_NOTEBOOK_NAME']).stem\n"
   ]
  },
  {
   "cell_type": "code",
   "execution_count": 2,
   "id": "06649d80",
   "metadata": {
    "execution": {
     "iopub.execute_input": "2025-07-24T19:16:45.908117Z",
     "iopub.status.busy": "2025-07-24T19:16:45.906937Z",
     "iopub.status.idle": "2025-07-24T19:16:46.566887Z",
     "shell.execute_reply": "2025-07-24T19:16:46.565366Z"
    },
    "papermill": {
     "duration": 0.66786,
     "end_time": "2025-07-24T19:16:46.568956",
     "exception": false,
     "start_time": "2025-07-24T19:16:45.901096",
     "status": "completed"
    },
    "tags": []
   },
   "outputs": [
    {
     "data": {
      "text/plain": [
       "<torch._C.Generator at 0x7483be5d4470>"
      ]
     },
     "execution_count": 2,
     "metadata": {},
     "output_type": "execute_result"
    }
   ],
   "source": [
    "import sys\n",
    "sys.path.insert(0, '../src')\n",
    "\n",
    "import numpy as np\n",
    "import torch\n",
    "import matplotlib.pyplot as plt\n",
    "\n",
    "# Import scitex linalg module\n",
    "import scitex.linalg as linalg\n",
    "\n",
    "# Set random seed for reproducibility\n",
    "np.random.seed(42)\n",
    "torch.manual_seed(42)\n"
   ]
  },
  {
   "cell_type": "markdown",
   "id": "cf4d02c8",
   "metadata": {
    "papermill": {
     "duration": 0.004495,
     "end_time": "2025-07-24T19:16:46.578013",
     "exception": false,
     "start_time": "2025-07-24T19:16:46.573518",
     "status": "completed"
    },
    "tags": []
   },
   "source": [
    "## 1. Distance Calculations\n",
    "\n",
    "### Euclidean Distance\n",
    "\n",
    "The `euclidean_distance` function computes Euclidean distances between arrays along specified axes."
   ]
  },
  {
   "cell_type": "code",
   "execution_count": 3,
   "id": "6496ac51",
   "metadata": {
    "execution": {
     "iopub.execute_input": "2025-07-24T19:16:46.590517Z",
     "iopub.status.busy": "2025-07-24T19:16:46.589280Z",
     "iopub.status.idle": "2025-07-24T19:16:46.598088Z",
     "shell.execute_reply": "2025-07-24T19:16:46.596645Z"
    },
    "papermill": {
     "duration": 0.018064,
     "end_time": "2025-07-24T19:16:46.600352",
     "exception": false,
     "start_time": "2025-07-24T19:16:46.582288",
     "status": "completed"
    },
    "tags": []
   },
   "outputs": [],
   "source": [
    "# Example 1: Basic Euclidean distance between two vectors\n",
    "v1 = np.array([1, 2, 3])\n",
    "v2 = np.array([4, 5, 6])\n",
    "\n",
    "dist = linalg.euclidean_distance(v1, v2)\n",
    "\n",
    "# Verify with manual calculation\n",
    "manual_dist = np.sqrt(np.sum((v1 - v2)**2))"
   ]
  },
  {
   "cell_type": "code",
   "execution_count": 4,
   "id": "584de6ad",
   "metadata": {
    "execution": {
     "iopub.execute_input": "2025-07-24T19:16:46.615232Z",
     "iopub.status.busy": "2025-07-24T19:16:46.614093Z",
     "iopub.status.idle": "2025-07-24T19:16:46.624279Z",
     "shell.execute_reply": "2025-07-24T19:16:46.622443Z"
    },
    "papermill": {
     "duration": 0.019333,
     "end_time": "2025-07-24T19:16:46.626164",
     "exception": false,
     "start_time": "2025-07-24T19:16:46.606831",
     "status": "completed"
    },
    "tags": []
   },
   "outputs": [],
   "source": [
    "# Example 2: Euclidean distance along different axes\n",
    "# Create a 3D array representing multiple vectors\n",
    "data = np.random.randn(4, 3, 5)  # 4 time points, 3 features, 5 samples\n",
    "reference = np.random.randn(4, 3, 5)\n",
    "\n",
    "# Distance along axis 0 (time axis)\n",
    "dist_axis0 = linalg.euclidean_distance(data, reference, axis=0)\n",
    "\n",
    "# Distance along axis 1 (feature axis)\n",
    "dist_axis1 = linalg.euclidean_distance(data, reference, axis=1)\n",
    "\n",
    "# Distance along axis 2 (sample axis)\n",
    "dist_axis2 = linalg.euclidean_distance(data, reference, axis=2)"
   ]
  },
  {
   "cell_type": "markdown",
   "id": "bcd03c06",
   "metadata": {
    "papermill": {
     "duration": 0.005782,
     "end_time": "2025-07-24T19:16:46.636362",
     "exception": false,
     "start_time": "2025-07-24T19:16:46.630580",
     "status": "completed"
    },
    "tags": []
   },
   "source": [
    "### Comprehensive Distance Metrics with cdist\n",
    "\n",
    "The `cdist` function provides access to various distance metrics through scipy's distance module."
   ]
  },
  {
   "cell_type": "code",
   "execution_count": 5,
   "id": "de26ef12",
   "metadata": {
    "execution": {
     "iopub.execute_input": "2025-07-24T19:16:46.647696Z",
     "iopub.status.busy": "2025-07-24T19:16:46.646802Z",
     "iopub.status.idle": "2025-07-24T19:16:46.658056Z",
     "shell.execute_reply": "2025-07-24T19:16:46.656463Z"
    },
    "papermill": {
     "duration": 0.019181,
     "end_time": "2025-07-24T19:16:46.660032",
     "exception": false,
     "start_time": "2025-07-24T19:16:46.640851",
     "status": "completed"
    },
    "tags": []
   },
   "outputs": [],
   "source": [
    "# Example 3: Using cdist for multiple distance metrics\n",
    "# Generate sample data points\n",
    "X = np.random.randn(5, 3)  # 5 points in 3D space\n",
    "Y = np.random.randn(4, 3)  # 4 points in 3D space\n",
    "\n",
    "\n",
    "# Euclidean distance matrix\n",
    "dist_euclidean = linalg.cdist(X, Y, 'euclidean')\n",
    "\n",
    "# Manhattan distance\n",
    "dist_manhattan = linalg.cdist(X, Y, 'cityblock')\n",
    "\n",
    "# Cosine distance\n",
    "dist_cosine = linalg.cdist(X, Y, 'cosine')"
   ]
  },
  {
   "cell_type": "markdown",
   "id": "839a9b67",
   "metadata": {
    "papermill": {
     "duration": 0.004976,
     "end_time": "2025-07-24T19:16:46.669953",
     "exception": false,
     "start_time": "2025-07-24T19:16:46.664977",
     "status": "completed"
    },
    "tags": []
   },
   "source": [
    "### Alias: edist\n",
    "\n",
    "The `edist` function is an alias for `euclidean_distance`."
   ]
  },
  {
   "cell_type": "code",
   "execution_count": 6,
   "id": "134b8ada",
   "metadata": {
    "execution": {
     "iopub.execute_input": "2025-07-24T19:16:46.683163Z",
     "iopub.status.busy": "2025-07-24T19:16:46.682543Z",
     "iopub.status.idle": "2025-07-24T19:16:46.690368Z",
     "shell.execute_reply": "2025-07-24T19:16:46.688707Z"
    },
    "papermill": {
     "duration": 0.017272,
     "end_time": "2025-07-24T19:16:46.692331",
     "exception": false,
     "start_time": "2025-07-24T19:16:46.675059",
     "status": "completed"
    },
    "tags": []
   },
   "outputs": [],
   "source": [
    "# Example 4: Using edist (alias for euclidean_distance)\n",
    "v1 = np.array([0, 0, 0])\n",
    "v2 = np.array([3, 4, 5])\n",
    "\n",
    "dist1 = linalg.euclidean_distance(v1, v2)\n",
    "dist2 = linalg.edist(v1, v2)\n"
   ]
  },
  {
   "cell_type": "markdown",
   "id": "97accde0",
   "metadata": {
    "papermill": {
     "duration": 0.004569,
     "end_time": "2025-07-24T19:16:46.701462",
     "exception": false,
     "start_time": "2025-07-24T19:16:46.696893",
     "status": "completed"
    },
    "tags": []
   },
   "source": [
    "## 2. Geometric Median\n",
    "\n",
    "The `geometric_median` function computes the geometric median of a set of points, which is the point that minimizes the sum of distances to all other points."
   ]
  },
  {
   "cell_type": "code",
   "execution_count": 7,
   "id": "57095aee",
   "metadata": {
    "execution": {
     "iopub.execute_input": "2025-07-24T19:16:46.714562Z",
     "iopub.status.busy": "2025-07-24T19:16:46.712942Z",
     "iopub.status.idle": "2025-07-24T19:16:47.304748Z",
     "shell.execute_reply": "2025-07-24T19:16:47.302878Z"
    },
    "papermill": {
     "duration": 0.600054,
     "end_time": "2025-07-24T19:16:47.306741",
     "exception": false,
     "start_time": "2025-07-24T19:16:46.706687",
     "status": "completed"
    },
    "tags": []
   },
   "outputs": [],
   "source": [
    "# Example 5: Geometric median computation\n",
    "# Create a set of 2D points\n",
    "points = torch.tensor([\n",
    "    [1.0, 2.0],\n",
    "    [3.0, 4.0],\n",
    "    [5.0, 6.0],\n",
    "    [2.0, 3.0],\n",
    "    [4.0, 5.0]\n",
    "])\n",
    "\n",
    "\n",
    "# Compute geometric median\n",
    "median = linalg.geometric_median(points, dim=0)\n",
    "\n",
    "# Compare with arithmetic mean\n",
    "arithmetic_mean = points.mean(dim=0)\n",
    "\n",
    "# Visualize the result\n",
    "fig, ax = plt.subplots(1, 1, figsize=(8, 6))\n",
    "ax.scatter(points[:, 0], points[:, 1], c='blue', label='Data points', alpha=0.7)\n",
    "ax.scatter(median[0], median[1], c='red', s=100, marker='x', label='Geometric median')\n",
    "ax.scatter(arithmetic_mean[0], arithmetic_mean[1], c='green', s=100, marker='+', label='Arithmetic mean')\n",
    "ax.set_xlabel('X coordinate')\n",
    "ax.set_ylabel('Y coordinate')\n",
    "ax.set_title('Geometric Median vs Arithmetic Mean')\n",
    "ax.legend()\n",
    "ax.grid(True, alpha=0.3)\n",
    "plt.tight_layout()\n",
    "plt.tight_layout(); plt.savefig('linalg_output.png', dpi=100); plt.close()"
   ]
  },
  {
   "cell_type": "code",
   "execution_count": 8,
   "id": "1e6d103a",
   "metadata": {
    "execution": {
     "iopub.execute_input": "2025-07-24T19:16:47.318825Z",
     "iopub.status.busy": "2025-07-24T19:16:47.318338Z",
     "iopub.status.idle": "2025-07-24T19:16:47.676187Z",
     "shell.execute_reply": "2025-07-24T19:16:47.674916Z"
    },
    "papermill": {
     "duration": 0.365968,
     "end_time": "2025-07-24T19:16:47.677965",
     "exception": false,
     "start_time": "2025-07-24T19:16:47.311997",
     "status": "completed"
    },
    "tags": []
   },
   "outputs": [],
   "source": [
    "# Example 6: Geometric median with outliers\n",
    "# Create points with one outlier\n",
    "points_with_outlier = torch.tensor([\n",
    "    [1.0, 1.0],\n",
    "    [2.0, 2.0],\n",
    "    [3.0, 3.0],\n",
    "    [2.5, 2.5],\n",
    "    [10.0, 10.0]  # Outlier\n",
    "])\n",
    "\n",
    "median_outlier = linalg.geometric_median(points_with_outlier, dim=0)\n",
    "mean_outlier = points_with_outlier.mean(dim=0)\n",
    "\n",
    "\n",
    "# Visualize robustness to outliers\n",
    "fig, ax = plt.subplots(1, 1, figsize=(8, 6))\n",
    "ax.scatter(points_with_outlier[:-1, 0], points_with_outlier[:-1, 1], c='blue', label='Normal points', alpha=0.7)\n",
    "ax.scatter(points_with_outlier[-1, 0], points_with_outlier[-1, 1], c='orange', s=100, marker='o', label='Outlier')\n",
    "ax.scatter(median_outlier[0], median_outlier[1], c='red', s=100, marker='x', label='Geometric median')\n",
    "ax.scatter(mean_outlier[0], mean_outlier[1], c='green', s=100, marker='+', label='Arithmetic mean')\n",
    "ax.set_xlabel('X coordinate')\n",
    "ax.set_ylabel('Y coordinate')\n",
    "ax.set_title('Robustness to Outliers: Geometric Median vs Arithmetic Mean')\n",
    "ax.legend()\n",
    "ax.grid(True, alpha=0.3)\n",
    "plt.tight_layout()\n",
    "plt.tight_layout(); plt.savefig('linalg_output.png', dpi=100); plt.close()"
   ]
  },
  {
   "cell_type": "markdown",
   "id": "17eb4695",
   "metadata": {
    "papermill": {
     "duration": 0.004356,
     "end_time": "2025-07-24T19:16:47.686700",
     "exception": false,
     "start_time": "2025-07-24T19:16:47.682344",
     "status": "completed"
    },
    "tags": []
   },
   "source": [
    "## 3. Miscellaneous Linear Algebra Utilities\n",
    "\n",
    "### Cosine Similarity\n",
    "\n",
    "The `cosine` function computes cosine similarity between vectors."
   ]
  },
  {
   "cell_type": "code",
   "execution_count": 9,
   "id": "dd708caf",
   "metadata": {
    "execution": {
     "iopub.execute_input": "2025-07-24T19:16:47.698176Z",
     "iopub.status.busy": "2025-07-24T19:16:47.697044Z",
     "iopub.status.idle": "2025-07-24T19:16:47.705157Z",
     "shell.execute_reply": "2025-07-24T19:16:47.703547Z"
    },
    "papermill": {
     "duration": 0.015947,
     "end_time": "2025-07-24T19:16:47.707110",
     "exception": false,
     "start_time": "2025-07-24T19:16:47.691163",
     "status": "completed"
    },
    "tags": []
   },
   "outputs": [],
   "source": [
    "# Example 7: Cosine similarity\n",
    "v1 = np.array([1, 2, 3])\n",
    "v2 = np.array([2, 4, 6])  # Parallel vector\n",
    "v3 = np.array([1, 0, 0])  # Orthogonal vector\n",
    "v4 = np.array([-1, -2, -3])  # Anti-parallel vector\n",
    "\n",
    "cos_parallel = linalg.cosine(v1, v2)\n",
    "cos_orthogonal = linalg.cosine(v1, v3)\n",
    "cos_antiparallel = linalg.cosine(v1, v4)\n",
    "\n",
    "\n",
    "# Test with NaN values\n",
    "v_nan = np.array([1, np.nan, 3])\n",
    "cos_nan = linalg.cosine(v1, v_nan)"
   ]
  },
  {
   "cell_type": "markdown",
   "id": "969778c3",
   "metadata": {
    "papermill": {
     "duration": 0.004441,
     "end_time": "2025-07-24T19:16:47.718311",
     "exception": false,
     "start_time": "2025-07-24T19:16:47.713870",
     "status": "completed"
    },
    "tags": []
   },
   "source": [
    "### NaN-aware Norm\n",
    "\n",
    "The `nannorm` function computes vector norms with NaN handling."
   ]
  },
  {
   "cell_type": "code",
   "execution_count": 10,
   "id": "dbbe2660",
   "metadata": {
    "execution": {
     "iopub.execute_input": "2025-07-24T19:16:47.729815Z",
     "iopub.status.busy": "2025-07-24T19:16:47.728403Z",
     "iopub.status.idle": "2025-07-24T19:16:47.735882Z",
     "shell.execute_reply": "2025-07-24T19:16:47.734515Z"
    },
    "papermill": {
     "duration": 0.015188,
     "end_time": "2025-07-24T19:16:47.738104",
     "exception": false,
     "start_time": "2025-07-24T19:16:47.722916",
     "status": "completed"
    },
    "tags": []
   },
   "outputs": [],
   "source": [
    "# Example 8: NaN-aware norm calculation\n",
    "v_normal = np.array([3, 4, 5])\n",
    "v_with_nan = np.array([3, np.nan, 5])\n",
    "\n",
    "norm_normal = linalg.nannorm(v_normal)\n",
    "norm_with_nan = linalg.nannorm(v_with_nan)\n",
    "\n",
    "\n",
    "\n",
    "# Test with different axes\n",
    "matrix = np.array([[1, 2, 3], [4, 5, 6]])\n",
    "norm_axis0 = linalg.nannorm(matrix, axis=0)\n",
    "norm_axis1 = linalg.nannorm(matrix, axis=1)\n"
   ]
  },
  {
   "cell_type": "markdown",
   "id": "c93e2d6b",
   "metadata": {
    "papermill": {
     "duration": 0.004309,
     "end_time": "2025-07-24T19:16:47.746794",
     "exception": false,
     "start_time": "2025-07-24T19:16:47.742485",
     "status": "completed"
    },
    "tags": []
   },
   "source": [
    "### Vector Rebasing\n",
    "\n",
    "The `rebase_a_vec` function projects one vector onto another and returns the signed magnitude."
   ]
  },
  {
   "cell_type": "code",
   "execution_count": 11,
   "id": "5020daea",
   "metadata": {
    "execution": {
     "iopub.execute_input": "2025-07-24T19:16:47.757383Z",
     "iopub.status.busy": "2025-07-24T19:16:47.756657Z",
     "iopub.status.idle": "2025-07-24T19:16:48.213623Z",
     "shell.execute_reply": "2025-07-24T19:16:48.212026Z"
    },
    "papermill": {
     "duration": 0.464472,
     "end_time": "2025-07-24T19:16:48.215478",
     "exception": false,
     "start_time": "2025-07-24T19:16:47.751006",
     "status": "completed"
    },
    "tags": []
   },
   "outputs": [],
   "source": [
    "# Example 9: Vector rebasing (projection)\n",
    "v = np.array([3, 4])  # Vector to project\n",
    "v_base = np.array([1, 0])  # Base vector (x-axis)\n",
    "\n",
    "rebased = linalg.rebase_a_vec(v, v_base)\n",
    "\n",
    "# Test with different base vectors\n",
    "v_base_y = np.array([0, 1])  # y-axis\n",
    "v_base_diag = np.array([1, 1])  # diagonal\n",
    "\n",
    "rebased_y = linalg.rebase_a_vec(v, v_base_y)\n",
    "rebased_diag = linalg.rebase_a_vec(v, v_base_diag)\n",
    "\n",
    "\n",
    "# Visualize vector projection\n",
    "fig, ax = plt.subplots(1, 1, figsize=(8, 6))\n",
    "\n",
    "# Original vector\n",
    "ax.arrow(0, 0, v[0], v[1], head_width=0.1, head_length=0.1, fc='blue', ec='blue', label='Original vector')\n",
    "\n",
    "# Base vectors\n",
    "ax.arrow(0, 0, v_base[0]*5, v_base[1]*5, head_width=0.1, head_length=0.1, fc='red', ec='red', alpha=0.7, label='Base vector (x-axis)')\n",
    "ax.arrow(0, 0, v_base_y[0]*5, v_base_y[1]*5, head_width=0.1, head_length=0.1, fc='green', ec='green', alpha=0.7, label='Base vector (y-axis)')\n",
    "\n",
    "# Projections\n",
    "ax.arrow(0, 0, rebased, 0, head_width=0.1, head_length=0.1, fc='red', ec='red', alpha=0.5, linestyle='--', label=f'Projection on x-axis: {rebased:.2f}')\n",
    "ax.arrow(0, 0, 0, rebased_y, head_width=0.1, head_length=0.1, fc='green', ec='green', alpha=0.5, linestyle='--', label=f'Projection on y-axis: {rebased_y:.2f}')\n",
    "\n",
    "ax.set_xlim(-1, 6)\n",
    "ax.set_ylim(-1, 6)\n",
    "ax.set_xlabel('X')\n",
    "ax.set_ylabel('Y')\n",
    "ax.set_title('Vector Projection (Rebasing)')\n",
    "ax.legend()\n",
    "ax.grid(True, alpha=0.3)\n",
    "ax.set_aspect('equal')\n",
    "plt.tight_layout()\n",
    "plt.tight_layout(); plt.savefig('linalg_output.png', dpi=100); plt.close()"
   ]
  },
  {
   "cell_type": "markdown",
   "id": "f4422015",
   "metadata": {
    "papermill": {
     "duration": 0.004179,
     "end_time": "2025-07-24T19:16:48.224203",
     "exception": false,
     "start_time": "2025-07-24T19:16:48.220024",
     "status": "completed"
    },
    "tags": []
   },
   "source": [
    "## 4. Coordinate Transformations\n",
    "\n",
    "### Triangle Coordinates from Line Lengths\n",
    "\n",
    "The `three_line_lengths_to_coords` function converts three line lengths to 3D coordinates of a triangle."
   ]
  },
  {
   "cell_type": "markdown",
   "id": "3f09e516",
   "metadata": {
    "tags": [
     "papermill-error-cell-tag"
    ]
   },
   "source": [
    "<span id=\"papermill-error-cell\" style=\"color:red; font-family:Helvetica Neue, Helvetica, Arial, sans-serif; font-size:2em;\">Execution using papermill encountered an exception here and stopped:</span>"
   ]
  },
  {
   "cell_type": "code",
   "execution_count": 12,
   "id": "185a838a",
   "metadata": {
    "execution": {
     "iopub.execute_input": "2025-07-24T19:16:48.235097Z",
     "iopub.status.busy": "2025-07-24T19:16:48.234186Z",
     "iopub.status.idle": "2025-07-24T19:16:48.950882Z",
     "shell.execute_reply": "2025-07-24T19:16:48.949271Z"
    },
    "papermill": {
     "duration": 0.723722,
     "end_time": "2025-07-24T19:16:48.952412",
     "exception": true,
     "start_time": "2025-07-24T19:16:48.228690",
     "status": "failed"
    },
    "tags": []
   },
   "outputs": [
    {
     "ename": "TypeError",
     "evalue": "loop of ufunc does not support argument 0 of type Float which has no callable sqrt method",
     "output_type": "error",
     "traceback": [
      "\u001b[31m---------------------------------------------------------------------------\u001b[39m",
      "\u001b[31mAttributeError\u001b[39m                            Traceback (most recent call last)",
      "\u001b[31mAttributeError\u001b[39m: 'Float' object has no attribute 'sqrt'",
      "\nThe above exception was the direct cause of the following exception:\n",
      "\u001b[31mTypeError\u001b[39m                                 Traceback (most recent call last)",
      "\u001b[36mCell\u001b[39m\u001b[36m \u001b[39m\u001b[32mIn[12]\u001b[39m\u001b[32m, line 14\u001b[39m\n\u001b[32m     11\u001b[39m B_np = np.array(B)\n\u001b[32m     13\u001b[39m dist_OA = np.linalg.norm(A_np - O_np)\n\u001b[32m---> \u001b[39m\u001b[32m14\u001b[39m dist_OB = \u001b[43mnp\u001b[49m\u001b[43m.\u001b[49m\u001b[43mlinalg\u001b[49m\u001b[43m.\u001b[49m\u001b[43mnorm\u001b[49m\u001b[43m(\u001b[49m\u001b[43mB_np\u001b[49m\u001b[43m \u001b[49m\u001b[43m-\u001b[49m\u001b[43m \u001b[49m\u001b[43mO_np\u001b[49m\u001b[43m)\u001b[49m\n\u001b[32m     15\u001b[39m dist_AB = np.linalg.norm(B_np - A_np)\n\u001b[32m     18\u001b[39m \u001b[38;5;66;03m# Test with different triangle\u001b[39;00m\n",
      "\u001b[36mFile \u001b[39m\u001b[32m~/.env-3.11/lib/python3.11/site-packages/numpy/linalg/_linalg.py:2745\u001b[39m, in \u001b[36mnorm\u001b[39m\u001b[34m(x, ord, axis, keepdims)\u001b[39m\n\u001b[32m   2743\u001b[39m \u001b[38;5;28;01melse\u001b[39;00m:\n\u001b[32m   2744\u001b[39m     sqnorm = x.dot(x)\n\u001b[32m-> \u001b[39m\u001b[32m2745\u001b[39m ret = \u001b[43msqrt\u001b[49m\u001b[43m(\u001b[49m\u001b[43msqnorm\u001b[49m\u001b[43m)\u001b[49m\n\u001b[32m   2746\u001b[39m \u001b[38;5;28;01mif\u001b[39;00m keepdims:\n\u001b[32m   2747\u001b[39m     ret = ret.reshape(ndim*[\u001b[32m1\u001b[39m])\n",
      "\u001b[31mTypeError\u001b[39m: loop of ufunc does not support argument 0 of type Float which has no callable sqrt method"
     ]
    }
   ],
   "source": [
    "# Example 10: Convert triangle line lengths to coordinates\n",
    "# Define triangle with sides of length 3, 4, 5 (right triangle)\n",
    "a, b, c = 3, 4, 5\n",
    "\n",
    "O, A, B = linalg.three_line_lengths_to_coords(a, b, c)\n",
    "\n",
    "\n",
    "# Verify the distances\n",
    "O_np = np.array(O)\n",
    "A_np = np.array(A)\n",
    "B_np = np.array(B)\n",
    "\n",
    "dist_OA = np.linalg.norm(A_np - O_np)\n",
    "dist_OB = np.linalg.norm(B_np - O_np)\n",
    "dist_AB = np.linalg.norm(B_np - A_np)\n",
    "\n",
    "\n",
    "# Test with different triangle\n",
    "a2, b2, c2 = 2, np.sqrt(3), 1\n",
    "O2, A2, B2 = linalg.three_line_lengths_to_coords(a2, b2, c2)\n",
    "\n",
    "\n",
    "# Verify the distances\n",
    "O2_np = np.array(O2)\n",
    "A2_np = np.array(A2)\n",
    "B2_np = np.array(B2)\n",
    "\n",
    "dist_OA2 = np.linalg.norm(A2_np - O2_np)\n",
    "dist_OB2 = np.linalg.norm(B2_np - O2_np)\n",
    "dist_AB2 = np.linalg.norm(B2_np - A2_np)\n"
   ]
  },
  {
   "cell_type": "markdown",
   "id": "613a37ee",
   "metadata": {
    "papermill": {
     "duration": null,
     "end_time": null,
     "exception": null,
     "start_time": null,
     "status": "pending"
    },
    "tags": []
   },
   "source": [
    "## 5. Practical Applications\n",
    "\n",
    "### Clustering with Geometric Median\n",
    "\n",
    "Let's use the geometric median for robust clustering."
   ]
  },
  {
   "cell_type": "code",
   "execution_count": null,
   "id": "bf4ff095",
   "metadata": {
    "papermill": {
     "duration": null,
     "end_time": null,
     "exception": null,
     "start_time": null,
     "status": "pending"
    },
    "tags": []
   },
   "outputs": [],
   "source": [
    "# Example 11: Robust clustering using geometric median\n",
    "# Generate sample data with two clusters\n",
    "np.random.seed(42)\n",
    "torch.manual_seed(42)\n",
    "\n",
    "# Cluster 1: centered around (2, 2)\n",
    "cluster1 = np.random.normal([2, 2], 0.5, (20, 2))\n",
    "# Cluster 2: centered around (6, 6)\n",
    "cluster2 = np.random.normal([6, 6], 0.5, (20, 2))\n",
    "# Add some outliers\n",
    "outliers = np.array([[0, 8], [8, 0], [10, 10]])\n",
    "\n",
    "# Combine all data\n",
    "all_data = np.vstack([cluster1, cluster2, outliers])\n",
    "\n",
    "# Convert to torch for geometric median\n",
    "cluster1_torch = torch.from_numpy(cluster1).float()\n",
    "cluster2_torch = torch.from_numpy(cluster2).float()\n",
    "\n",
    "# Compute centroids using both methods\n",
    "# Arithmetic mean\n",
    "mean1 = cluster1_torch.mean(dim=0)\n",
    "mean2 = cluster2_torch.mean(dim=0)\n",
    "\n",
    "# Geometric median\n",
    "median1 = linalg.geometric_median(cluster1_torch, dim=0)\n",
    "median2 = linalg.geometric_median(cluster2_torch, dim=0)\n",
    "\n",
    "# Visualize results\n",
    "fig, (ax1, ax2) = plt.subplots(1, 2, figsize=(16, 6))\n",
    "\n",
    "# Plot 1: Arithmetic mean\n",
    "ax1.scatter(cluster1[:, 0], cluster1[:, 1], c='blue', alpha=0.6, label='Cluster 1')\n",
    "ax1.scatter(cluster2[:, 0], cluster2[:, 1], c='red', alpha=0.6, label='Cluster 2')\n",
    "ax1.scatter(outliers[:, 0], outliers[:, 1], c='black', s=100, marker='x', label='Outliers')\n",
    "ax1.scatter(mean1[0], mean1[1], c='blue', s=200, marker='s', label='Mean 1')\n",
    "ax1.scatter(mean2[0], mean2[1], c='red', s=200, marker='s', label='Mean 2')\n",
    "ax1.set_title('Clustering with Arithmetic Mean')\n",
    "ax1.legend()\n",
    "ax1.grid(True, alpha=0.3)\n",
    "\n",
    "# Plot 2: Geometric median\n",
    "ax2.scatter(cluster1[:, 0], cluster1[:, 1], c='blue', alpha=0.6, label='Cluster 1')\n",
    "ax2.scatter(cluster2[:, 0], cluster2[:, 1], c='red', alpha=0.6, label='Cluster 2')\n",
    "ax2.scatter(outliers[:, 0], outliers[:, 1], c='black', s=100, marker='x', label='Outliers')\n",
    "ax2.scatter(median1[0], median1[1], c='blue', s=200, marker='D', label='Median 1')\n",
    "ax2.scatter(median2[0], median2[1], c='red', s=200, marker='D', label='Median 2')\n",
    "ax2.set_title('Clustering with Geometric Median')\n",
    "ax2.legend()\n",
    "ax2.grid(True, alpha=0.3)\n",
    "\n",
    "plt.tight_layout()\n",
    "plt.tight_layout(); plt.savefig('linalg_output.png', dpi=100); plt.close()\n"
   ]
  },
  {
   "cell_type": "markdown",
   "id": "ffa5b4fd",
   "metadata": {
    "papermill": {
     "duration": null,
     "end_time": null,
     "exception": null,
     "start_time": null,
     "status": "pending"
    },
    "tags": []
   },
   "source": [
    "### Distance-based Data Analysis\n",
    "\n",
    "Let's use the distance functions for analyzing patterns in data."
   ]
  },
  {
   "cell_type": "code",
   "execution_count": null,
   "id": "e8edefed",
   "metadata": {
    "papermill": {
     "duration": null,
     "end_time": null,
     "exception": null,
     "start_time": null,
     "status": "pending"
    },
    "tags": []
   },
   "outputs": [],
   "source": [
    "# Example 12: Time series similarity analysis\n",
    "# Generate sample time series data\n",
    "t = np.linspace(0, 4*np.pi, 100)\n",
    "signal1 = np.sin(t) + 0.1 * np.random.randn(100)\n",
    "signal2 = np.cos(t) + 0.1 * np.random.randn(100)\n",
    "signal3 = np.sin(t + np.pi/4) + 0.1 * np.random.randn(100)\n",
    "\n",
    "signals = np.array([signal1, signal2, signal3])\n",
    "\n",
    "# Compute pairwise distances\n",
    "distance_matrix = linalg.cdist(signals, signals, 'euclidean')\n",
    "\n",
    "\n",
    "# Compute cosine similarities\n",
    "cosine_similarities = np.zeros((3, 3))\n",
    "for i in range(3):\n",
    "    for j in range(3):\n",
    "        cosine_similarities[i, j] = linalg.cosine(signals[i], signals[j])\n",
    "\n",
    "\n",
    "# Visualize signals and their relationships\n",
    "fig, ((ax1, ax2), (ax3, ax4)) = plt.subplots(2, 2, figsize=(16, 10))\n",
    "\n",
    "# Plot signals\n",
    "ax1.plot(t, signal1, label='Signal 1 (sin)', alpha=0.7)\n",
    "ax1.plot(t, signal2, label='Signal 2 (cos)', alpha=0.7)\n",
    "ax1.plot(t, signal3, label='Signal 3 (sin + $\\\\pi$/4)', alpha=0.7)\n",
    "ax1.set_title('Time Series Signals')\n",
    "ax1.set_xlabel('Time')\n",
    "ax1.set_ylabel('Amplitude')\n",
    "ax1.legend()\n",
    "ax1.grid(True, alpha=0.3)\n",
    "\n",
    "# Plot distance matrix\n",
    "im1 = ax2.imshow(distance_matrix, cmap='viridis', aspect='auto')\n",
    "ax2.set_title('Euclidean Distance Matrix')\n",
    "ax2.set_xlabel('Signal Index')\n",
    "ax2.set_ylabel('Signal Index')\n",
    "plt.colorbar(im1, ax=ax2)\n",
    "\n",
    "# Plot cosine similarity matrix\n",
    "im2 = ax3.imshow(cosine_similarities, cmap='coolwarm', aspect='auto', vmin=-1, vmax=1)\n",
    "ax3.set_title('Cosine Similarity Matrix')\n",
    "ax3.set_xlabel('Signal Index')\n",
    "ax3.set_ylabel('Signal Index')\n",
    "plt.colorbar(im2, ax=ax3)\n",
    "\n",
    "# Scatter plot of signals in 2D (first two principal components)\n",
    "from sklearn.decomposition import PCA\n",
    "pca = PCA(n_components=2)\n",
    "signals_2d = pca.fit_transform(signals)\n",
    "\n",
    "ax4.scatter(signals_2d[:, 0], signals_2d[:, 1], c=['blue', 'red', 'green'], s=100)\n",
    "ax4.set_title('Signals in 2D PCA Space')\n",
    "ax4.set_xlabel('PC1')\n",
    "ax4.set_ylabel('PC2')\n",
    "ax4.grid(True, alpha=0.3)\n",
    "\n",
    "# Add labels\n",
    "for i, (x, y) in enumerate(signals_2d):\n",
    "    ax4.annotate(f'Signal {i+1}', (x, y), xytext=(5, 5), textcoords='offset points')\n",
    "\n",
    "plt.tight_layout()\n",
    "plt.tight_layout(); plt.savefig('linalg_output.png', dpi=100); plt.close()"
   ]
  },
  {
   "cell_type": "markdown",
   "id": "32b2ad7b",
   "metadata": {
    "papermill": {
     "duration": null,
     "end_time": null,
     "exception": null,
     "start_time": null,
     "status": "pending"
    },
    "tags": []
   },
   "source": [
    "## Summary\n",
    "\n",
    "This notebook has demonstrated the comprehensive functionality of the `scitex.linalg` module:\n",
    "\n",
    "### Distance Functions\n",
    "- **`euclidean_distance`** and **`edist`**: Compute Euclidean distances with support for different axes\n",
    "- **`cdist`**: Access to various distance metrics from scipy\n",
    "\n",
    "### Robust Statistics\n",
    "- **`geometric_median`**: Compute geometric median for robust central tendency\n",
    "\n",
    "### Utility Functions\n",
    "- **`cosine`**: Compute cosine similarity between vectors\n",
    "- **`nannorm`**: NaN-aware vector norm computation\n",
    "- **`rebase_a_vec`**: Vector projection and rebasing\n",
    "\n",
    "### Coordinate Transformations\n",
    "- **`three_line_lengths_to_coords`**: Convert triangle side lengths to 3D coordinates\n",
    "\n",
    "### Key Features\n",
    "1. **Robustness**: Functions handle NaN values appropriately\n",
    "2. **Flexibility**: Support for different axes and dimensions\n",
    "3. **Integration**: Seamless integration with NumPy and PyTorch\n",
    "4. **Scientific Applications**: Suitable for clustering, similarity analysis, and coordinate transformations\n",
    "\n",
    "The module provides essential linear algebra operations for scientific computing with emphasis on robustness and practical applications."
   ]
  }
 ],
 "metadata": {
  "kernelspec": {
   "display_name": "Python 3",
   "language": "python",
   "name": "python3"
  },
  "language_info": {
   "codemirror_mode": {
    "name": "ipython",
    "version": 3
   },
   "file_extension": ".py",
   "mimetype": "text/x-python",
   "name": "python",
   "nbconvert_exporter": "python",
   "pygments_lexer": "ipython3",
   "version": "3.11.0rc1"
  },
  "papermill": {
   "default_parameters": {},
   "duration": 14.298096,
   "end_time": "2025-07-24T19:16:51.680122",
   "environment_variables": {},
   "exception": true,
   "input_path": "examples/notebooks/12_scitex_linalg.ipynb",
   "output_path": "examples/notebooks/test_output_12_scitex_linalg.ipynb",
   "parameters": {},
   "start_time": "2025-07-24T19:16:37.382026",
   "version": "2.6.0"
  }
 },
 "nbformat": 4,
 "nbformat_minor": 5
}