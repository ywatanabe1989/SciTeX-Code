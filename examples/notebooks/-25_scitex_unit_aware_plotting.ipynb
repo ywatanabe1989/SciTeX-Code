{
 "cells": [
  {
   "cell_type": "markdown",
   "metadata": {},
   "source": [
    "# Unit-Aware Plotting with SciTeX\n",
    "\n",
    "This notebook demonstrates the new unit-aware plotting capabilities in SciTeX, which ensure scientific validity by tracking and converting physical units automatically."
   ]
  },
  {
   "cell_type": "code",
   "execution_count": null,
   "metadata": {},
   "outputs": [],
   "source": [
    "import numpy as np\n",
    "import scitex as stx\n",
    "from scitex.units import Q, Units"
   ]
  },
  {
   "cell_type": "markdown",
   "metadata": {},
   "source": [
    "## 1. Basic Unit-Aware Plotting\n",
    "\n",
    "The simplest way to use unit-aware plotting is to specify units when plotting:"
   ]
  },
  {
   "cell_type": "code",
   "execution_count": null,
   "metadata": {},
   "outputs": [],
   "source": [
    "# Generate data\n",
    "time_ms = np.linspace(0, 100, 1000)\n",
    "frequency = 50  # Hz\n",
    "signal_mv = 5 * np.sin(2 * np.pi * frequency * time_ms / 1000)\n",
    "\n",
    "# Create unit-aware plot\n",
    "fig, ax = stx.plt.subplots(figsize=(10, 6))\n",
    "\n",
    "# Plot with units - units are automatically added to labels\n",
    "ax.plot_with_units(time_ms, signal_mv, x_unit='ms', y_unit='mV', \n",
    "                   color='blue', linewidth=2, label='50 Hz Signal')\n",
    "\n",
    "ax.set_xlabel('Time')  # Unit [ms] is added automatically\n",
    "ax.set_ylabel('Voltage')  # Unit [mV] is added automatically\n",
    "ax.set_title('Unit-Aware Plotting Example')\n",
    "ax.grid(True, alpha=0.3)\n",
    "ax.legend()\n",
    "\n",
    "stx.io.save(fig, 'unit_aware_basic_example')"
   ]
  },
  {
   "cell_type": "markdown",
   "metadata": {},
   "source": [
    "## 2. Unit Conversion\n",
    "\n",
    "Convert between different units easily:"
   ]
  },
  {
   "cell_type": "code",
   "execution_count": null,
   "metadata": {},
   "outputs": [],
   "source": [
    "# Create figure with two subplots\n",
    "fig, (ax1, ax2) = stx.plt.subplots(2, 1, figsize=(10, 8))\n",
    "\n",
    "# Plot 1: Original units (milliseconds, millivolts)\n",
    "ax1.plot_with_units(time_ms, signal_mv, x_unit='ms', y_unit='mV',\n",
    "                    color='blue', linewidth=2)\n",
    "ax1.set_xlabel('Time')\n",
    "ax1.set_ylabel('Voltage')\n",
    "ax1.set_title('Original Units')\n",
    "ax1.grid(True, alpha=0.3)\n",
    "\n",
    "# Plot 2: Same data, different display units\n",
    "ax2.plot_with_units(time_ms, signal_mv, x_unit='ms', y_unit='mV',\n",
    "                    color='red', linewidth=2)\n",
    "ax2.set_xlabel('Time')\n",
    "ax2.set_ylabel('Voltage')\n",
    "\n",
    "# Convert to SI units\n",
    "ax2.convert_x_units('s')  # Convert ms to s\n",
    "ax2.convert_y_units('V')  # Convert mV to V\n",
    "\n",
    "ax2.set_title('Converted to SI Units')\n",
    "ax2.grid(True, alpha=0.3)\n",
    "\n",
    "fig.tight_layout()\n",
    "stx.io.save(fig, 'unit_conversion_example')"
   ]
  },
  {
   "cell_type": "markdown",
   "metadata": {},
   "source": [
    "## 3. Using Quantity Objects\n",
    "\n",
    "SciTeX integrates with the units module to work with Quantity objects directly:"
   ]
  },
  {
   "cell_type": "code",
   "execution_count": null,
   "metadata": {},
   "outputs": [],
   "source": [
    "# Create quantities with units\n",
    "time = Q(np.linspace(0, 0.1, 1000), Units.s)\n",
    "frequency = Q(50, Units.Hz)\n",
    "amplitude = Q(230, Units.V)\n",
    "\n",
    "# Calculate signal (units are tracked automatically)\n",
    "omega = 2 * np.pi * frequency.value\n",
    "signal_values = amplitude.value * np.sin(omega * time.value)\n",
    "signal = Q(signal_values, Units.V)\n",
    "\n",
    "# Plot quantities directly\n",
    "fig, ax = stx.plt.subplots(figsize=(10, 6))\n",
    "\n",
    "# Units are automatically detected from Quantity objects\n",
    "ax.plot_with_units(time, signal, color='green', linewidth=2)\n",
    "\n",
    "ax.set_xlabel('Time')  # Automatically shows [s]\n",
    "ax.set_ylabel('Voltage')  # Automatically shows [V]\n",
    "ax.set_title(f'AC Mains Voltage ({frequency.value} {frequency.unit.symbol})')\n",
    "ax.grid(True, alpha=0.3)\n",
    "\n",
    "# Add RMS voltage annotation\n",
    "rms_voltage = amplitude.value / np.sqrt(2)\n",
    "ax.axhline(y=rms_voltage, color='red', linestyle='--', alpha=0.5, label=f'RMS: {rms_voltage:.1f} V')\n",
    "ax.axhline(y=-rms_voltage, color='red', linestyle='--', alpha=0.5)\n",
    "ax.legend()\n",
    "\n",
    "stx.io.save(fig, 'quantity_plotting_example')"
   ]
  },
  {
   "cell_type": "markdown",
   "metadata": {},
   "source": [
    "## 4. Unit Validation\n",
    "\n",
    "SciTeX can validate unit compatibility to prevent errors:"
   ]
  },
  {
   "cell_type": "code",
   "execution_count": null,
   "metadata": {},
   "outputs": [],
   "source": [
    "# Create figure\n",
    "fig, ax = stx.plt.subplots(figsize=(10, 6))\n",
    "\n",
    "# Set expected units for axes\n",
    "ax.set_x_unit('ms')\n",
    "ax.set_y_unit('mV')\n",
    "\n",
    "# Plot data with correct units\n",
    "time_ms = np.linspace(0, 100, 100)\n",
    "voltage_mv = 10 * np.sin(2 * np.pi * 10 * time_ms / 1000) + np.random.randn(100)\n",
    "\n",
    "ax.plot_with_units(time_ms, voltage_mv, color='blue', label='Noisy Signal')\n",
    "\n",
    "# Unit validation can be toggled\n",
    "ax.set_unit_validation(False)  # Disable for flexibility\n",
    "\n",
    "# Now we can plot anything (use with caution!)\n",
    "ax.plot_with_units(time_ms, time_ms**2 / 1000, color='red', \n",
    "                   linestyle='--', label='Quadratic (no units)')\n",
    "\n",
    "ax.set_xlabel('Time')\n",
    "ax.set_ylabel('Voltage')\n",
    "ax.set_title('Unit Validation Example')\n",
    "ax.legend()\n",
    "ax.grid(True, alpha=0.3)\n",
    "\n",
    "stx.io.save(fig, 'unit_validation_example')"
   ]
  },
  {
   "cell_type": "markdown",
   "metadata": {},
   "source": [
    "## 5. Scientific Example: RC Circuit Response\n",
    "\n",
    "Let's use unit-aware plotting for a real scientific application:"
   ]
  },
  {
   "cell_type": "code",
   "execution_count": null,
   "metadata": {},
   "outputs": [],
   "source": [
    "# RC circuit parameters\n",
    "R = Q(1000, Units.ohm)  # 1 kΩ resistor\n",
    "C = Q(1e-6, Units.farad)  # 1 μF capacitor\n",
    "V_source = Q(5, Units.V)  # 5V source\n",
    "\n",
    "# Time constant\n",
    "tau = R.value * C.value  # seconds\n",
    "print(f\"Time constant τ = {tau*1000:.1f} ms\")\n",
    "\n",
    "# Generate time array\n",
    "t = np.linspace(0, 5*tau, 1000)\n",
    "t_ms = t * 1000  # Convert to milliseconds for plotting\n",
    "\n",
    "# Calculate voltages\n",
    "V_capacitor = V_source.value * (1 - np.exp(-t/tau))\n",
    "V_resistor = V_source.value * np.exp(-t/tau)\n",
    "\n",
    "# Create figure\n",
    "fig, (ax1, ax2) = stx.plt.subplots(2, 1, figsize=(10, 8), sharex=True)\n",
    "\n",
    "# Plot capacitor voltage\n",
    "ax1.plot_with_units(t_ms, V_capacitor, x_unit='ms', y_unit='V',\n",
    "                    color='blue', linewidth=2, label='Capacitor')\n",
    "ax1.axhline(y=V_source.value * 0.632, color='red', linestyle='--', alpha=0.5)\n",
    "ax1.text(tau*1000, V_source.value * 0.632, f' 63.2% at τ = {tau*1000:.1f} ms',\n",
    "         va='bottom', ha='left', color='red')\n",
    "ax1.set_ylabel('Voltage')\n",
    "ax1.set_title('RC Circuit Step Response')\n",
    "ax1.grid(True, alpha=0.3)\n",
    "ax1.legend()\n",
    "\n",
    "# Plot current (V_R / R)\n",
    "current_mA = (V_resistor / R.value) * 1000  # Convert to mA\n",
    "ax2.plot_with_units(t_ms, current_mA, x_unit='ms', y_unit='mA',\n",
    "                    color='green', linewidth=2, label='Current')\n",
    "ax2.set_xlabel('Time')\n",
    "ax2.set_ylabel('Current')\n",
    "ax2.grid(True, alpha=0.3)\n",
    "ax2.legend()\n",
    "\n",
    "fig.tight_layout()\n",
    "stx.io.save(fig, 'rc_circuit_example')"
   ]
  },
  {
   "cell_type": "markdown",
   "metadata": {},
   "source": [
    "## Summary\n",
    "\n",
    "The unit-aware plotting features in SciTeX provide:\n",
    "\n",
    "1. **Automatic unit tracking** - Units are displayed in axis labels\n",
    "2. **Unit conversion** - Easy conversion between different unit systems\n",
    "3. **Integration with Quantity objects** - Seamless plotting of unit-aware data\n",
    "4. **Unit validation** - Optional checking for unit compatibility\n",
    "5. **Scientific validity** - Ensures plots are physically meaningful\n",
    "\n",
    "This makes SciTeX ideal for scientific computing where unit consistency is crucial."
   ]
  }
 ],
 "metadata": {
  "kernelspec": {
   "display_name": "Python 3",
   "language": "python",
   "name": "python3"
  },
  "language_info": {
   "codemirror_mode": {
    "name": "ipython",
    "version": 3
   },
   "file_extension": ".py",
   "mimetype": "text/x-python",
   "name": "python",
   "nbconvert_exporter": "python",
   "pygments_lexer": "ipython3",
   "version": "3.11.0"
  }
 },
 "nbformat": 4,
 "nbformat_minor": 4
}