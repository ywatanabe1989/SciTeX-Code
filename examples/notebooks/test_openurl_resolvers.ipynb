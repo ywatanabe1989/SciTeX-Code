{
 "cells": [
  {
   "cell_type": "markdown",
   "metadata": {},
   "source": [
    "# OpenURL Resolver Testing\n",
    "\n",
    "This notebook demonstrates how to use the OpenURL resolvers in SciTeX Scholar."
   ]
  },
  {
   "cell_type": "markdown",
   "metadata": {},
   "source": [
    "## Setup"
   ]
  },
  {
   "cell_type": "code",
   "execution_count": null,
   "metadata": {},
   "outputs": [],
   "source": [
    "from scitex.scholar.open_url import OpenURLResolver, OpenURLResolverWithZenRows\n",
    "from scitex.scholar.auth import AuthenticationManager\n",
    "import os\n",
    "from scitex import logging\n",
    "\n",
    "# Set up logging\n",
    "logger = logging.getLogger()\n",
    "logger.setLevel(logging.INFO)"
   ]
  },
  {
   "cell_type": "markdown",
   "metadata": {},
   "source": [
    "## Initialize Authentication"
   ]
  },
  {
   "cell_type": "code",
   "execution_count": null,
   "metadata": {},
   "outputs": [],
   "source": [
    "# Initialize authentication manager\n",
    "auth_manager = AuthenticationManager(\n",
    "    email_openathens=os.getenv(\"SCITEX_SCHOLAR_OPENATHENS_EMAIL\")\n",
    ")"
   ]
  },
  {
   "cell_type": "markdown",
   "metadata": {},
   "source": [
    "## Test DOIs"
   ]
  },
  {
   "cell_type": "code",
   "execution_count": null,
   "metadata": {},
   "outputs": [],
   "source": [
    "# DOIs to test\n",
    "dois = [\n",
    "    \"10.1002/hipo.22488\",           # Wiley\n",
    "    \"10.1038/nature12373\",          # Nature\n",
    "    \"10.1016/j.neuron.2018.01.048\", # Elsevier\n",
    "    \"10.1126/science.1172133\",      # Science\n",
    "    \"10.1073/pnas.0608765104\",      # PNAS\n",
    "]"
   ]
  },
  {
   "cell_type": "markdown",
   "metadata": {},
   "source": [
    "## Method 1: ZenRows Resolver (Fast, Anti-bot)"
   ]
  },
  {
   "cell_type": "code",
   "execution_count": null,
   "metadata": {},
   "outputs": [],
   "source": [
    "# Initialize ZenRows resolver\n",
    "zenrows_resolver = OpenURLResolverWithZenRows(\n",
    "    auth_manager,\n",
    "    os.getenv(\"SCITEX_SCHOLAR_OPENURL_RESOLVER_URL\"),\n",
    "    os.getenv(\"SCITEX_SCHOLAR_ZENROWS_API_KEY\")\n",
    ")"
   ]
  },
  {
   "cell_type": "code",
   "execution_count": null,
   "metadata": {},
   "outputs": [],
   "source": [
    "# Test single DOI first\n",
    "result_0 = zenrows_resolver._resolve_single(doi=dois[0])\n",
    "print(f\"Single DOI test: {dois[0]}\")\n",
    "print(f\"Success: {result_0.get('success')}\")\n",
    "print(f\"URL: {result_0.get('final_url')}\")"
   ]
  },
  {
   "cell_type": "code",
   "execution_count": null,
   "metadata": {},
   "outputs": [],
   "source": [
    "# Resolve all DOIs\n",
    "print(\"Resolving all DOIs with ZenRows...\")\n",
    "results = zenrows_resolver.resolve(dois)"
   ]
  },
  {
   "cell_type": "code",
   "execution_count": null,
   "metadata": {},
   "outputs": [],
   "source": [
    "# Analyze results\n",
    "for doi, result in zip(dois, results):\n",
    "    if result:\n",
    "        print(f\"\\n{'✓' if result.get('success') else '✗'} {doi}\")\n",
    "        print(f\"  URL: {result.get('final_url', 'N/A')}\")\n",
    "        \n",
    "        # Get detailed access info\n",
    "        if hasattr(zenrows_resolver, '_last_page_content') and zenrows_resolver._last_page_content:\n",
    "            details = zenrows_resolver.get_access_details(\n",
    "                zenrows_resolver._last_page_content,\n",
    "                result.get('final_url', ''),\n",
    "                doi\n",
    "            )\n",
    "            if not details['has_access']:\n",
    "                print(f\"  No access: {details['likely_reason']}\")"
   ]
  },
  {
   "cell_type": "markdown",
   "metadata": {},
   "source": [
    "## Method 2: Browser Resolver (For Authenticated Access)\n",
    "\n",
    "Use this method when you need authenticated access to paywalled content."
   ]
  },
  {
   "cell_type": "code",
   "execution_count": null,
   "metadata": {},
   "outputs": [],
   "source": [
    "# Uncomment to use browser-based resolver\n",
    "# browser_resolver = OpenURLResolver(\n",
    "#     auth_manager,\n",
    "#     os.getenv(\"SCITEX_SCHOLAR_OPENURL_RESOLVER_URL\")\n",
    "# )\n",
    "\n",
    "# # Make browser visible to see what's happening\n",
    "# browser_resolver.browser.set_visible(True)\n",
    "\n",
    "# # Resolve DOIs\n",
    "# browser_results = browser_resolver.resolve(dois)"
   ]
  },
  {
   "cell_type": "markdown",
   "metadata": {},
   "source": [
    "## Summary and Recommendations\n",
    "\n",
    "### When to use ZenRows Resolver:\n",
    "- Checking if content is open access\n",
    "- High-volume processing\n",
    "- Bypassing anti-bot measures\n",
    "- Speed is important\n",
    "\n",
    "### When to use Browser Resolver:\n",
    "- Need authenticated access to paywalled content\n",
    "- Have institutional credentials\n",
    "- Quality over speed\n",
    "- Complex authentication flows"
   ]
  }
 ],
 "metadata": {
  "kernelspec": {
   "display_name": "Python 3",
   "language": "python",
   "name": "python3"
  },
  "language_info": {
   "codemirror_mode": {
    "name": "ipython",
    "version": 3
   },
   "file_extension": ".py",
   "mimetype": "text/x-python",
   "name": "python",
   "nbconvert_exporter": "python",
   "pygments_lexer": "ipython3",
   "version": "3.8.0"
  }
 },
 "nbformat": 4,
 "nbformat_minor": 4
}