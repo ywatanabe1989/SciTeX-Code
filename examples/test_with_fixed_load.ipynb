{
 "cells": [
  {
   "cell_type": "markdown",
   "id": "eccd7620",
   "metadata": {
    "papermill": {
     "duration": 0.004119,
     "end_time": "2025-07-04T08:31:08.060407",
     "exception": false,
     "start_time": "2025-07-04T08:31:08.056288",
     "status": "completed"
    },
    "tags": []
   },
   "source": [
    "# Simple SciTeX IO Test\n",
    "Testing basic IO operations with new path handling"
   ]
  },
  {
   "cell_type": "code",
   "execution_count": 1,
   "id": "72071418",
   "metadata": {
    "execution": {
     "iopub.execute_input": "2025-07-04T08:31:08.081030Z",
     "iopub.status.busy": "2025-07-04T08:31:08.080418Z",
     "iopub.status.idle": "2025-07-04T08:31:08.090598Z",
     "shell.execute_reply": "2025-07-04T08:31:08.088969Z"
    },
    "papermill": {
     "duration": 0.016717,
     "end_time": "2025-07-04T08:31:08.093212",
     "exception": false,
     "start_time": "2025-07-04T08:31:08.076495",
     "status": "completed"
    },
    "tags": []
   },
   "outputs": [
    {
     "name": "stdout",
     "output_type": "stream",
     "text": [
      "SciTeX version: 2.0.0\n"
     ]
    }
   ],
   "source": [
    "import sys\n",
    "sys.path.insert(0, '../src')\n",
    "import scitex\n",
    "import numpy as np\n",
    "from pathlib import Path\n",
    "print(f\"SciTeX version: {scitex.__version__}\")"
   ]
  },
  {
   "cell_type": "markdown",
   "id": "355572d3",
   "metadata": {
    "papermill": {
     "duration": 0.0036,
     "end_time": "2025-07-04T08:31:08.100554",
     "exception": false,
     "start_time": "2025-07-04T08:31:08.096954",
     "status": "completed"
    },
    "tags": []
   },
   "source": [
    "## Basic Save/Load"
   ]
  },
  {
   "cell_type": "code",
   "execution_count": 2,
   "id": "24601d5f",
   "metadata": {
    "execution": {
     "iopub.execute_input": "2025-07-04T08:31:08.110556Z",
     "iopub.status.busy": "2025-07-04T08:31:08.109828Z",
     "iopub.status.idle": "2025-07-04T08:31:08.244585Z",
     "shell.execute_reply": "2025-07-04T08:31:08.242726Z"
    },
    "papermill": {
     "duration": 0.142631,
     "end_time": "2025-07-04T08:31:08.246908",
     "exception": false,
     "start_time": "2025-07-04T08:31:08.104277",
     "status": "completed"
    },
    "tags": []
   },
   "outputs": [
    {
     "name": "stdout",
     "output_type": "stream",
     "text": [
      "\u001b[93m\n",
      "Saved to: /home/ywatanabe/proj/SciTeX-Code/examples/test_with_fixed_load_out/test_data.pkl (963.0 B)\u001b[0m\n",
      "✓ Saved test_data.pkl\n",
      "✓ Loaded test_data.pkl\n",
      "Data shape: (10, 10)\n"
     ]
    }
   ],
   "source": [
    "# Test basic save and load\n",
    "data = {'test': np.random.rand(10, 10)}\n",
    "scitex.io.save(data, 'test_data.pkl')\n",
    "print(\"✓ Saved test_data.pkl\")\n",
    "\n",
    "# Load it back\n",
    "loaded = scitex.io.load('test_data.pkl')\n",
    "print(\"✓ Loaded test_data.pkl\")\n",
    "print(f\"Data shape: {loaded['test'].shape}\")"
   ]
  },
  {
   "cell_type": "markdown",
   "id": "fc4a278e",
   "metadata": {
    "papermill": {
     "duration": 0.003398,
     "end_time": "2025-07-04T08:31:08.253762",
     "exception": false,
     "start_time": "2025-07-04T08:31:08.250364",
     "status": "completed"
    },
    "tags": []
   },
   "source": [
    "## Compression Formats"
   ]
  },
  {
   "cell_type": "code",
   "execution_count": 3,
   "id": "7712b896",
   "metadata": {
    "execution": {
     "iopub.execute_input": "2025-07-04T08:31:08.263180Z",
     "iopub.status.busy": "2025-07-04T08:31:08.262349Z",
     "iopub.status.idle": "2025-07-04T08:31:08.576040Z",
     "shell.execute_reply": "2025-07-04T08:31:08.573595Z"
    },
    "papermill": {
     "duration": 0.321771,
     "end_time": "2025-07-04T08:31:08.578897",
     "exception": false,
     "start_time": "2025-07-04T08:31:08.257126",
     "status": "completed"
    },
    "tags": []
   },
   "outputs": [
    {
     "name": "stdout",
     "output_type": "stream",
     "text": [
      "\u001b[93m\n",
      "Saved to: /home/ywatanabe/proj/SciTeX-Code/examples/test_with_fixed_load_out/large_data.pkl (7.6 MiB)\u001b[0m\n",
      "✓ Saved large_data.pkl: 0 bytes\n",
      "✓ Saved large_data.gz: 0 bytes\n"
     ]
    },
    {
     "name": "stdout",
     "output_type": "stream",
     "text": [
      "✓ Saved large_data.bz2: 0 bytes\n",
      "✓ Saved large_data.xz: 0 bytes\n",
      "pkl: 0.00x compression\n",
      "gz: 0.00x compression\n",
      "bz2: 0.00x compression\n",
      "xz: 0.00x compression\n"
     ]
    },
    {
     "name": "stderr",
     "output_type": "stream",
     "text": [
      "/home/ywatanabe/proj/SciTeX-Code/src/scitex/io/_save.py:415: UserWarning: Unsupported file format. /home/ywatanabe/proj/SciTeX-Code/examples/test_with_fixed_load_out/large_data.gz was not saved.\n",
      "  warnings.warn(f\"Unsupported file format. {spath} was not saved.\")\n",
      "/home/ywatanabe/proj/SciTeX-Code/src/scitex/io/_save.py:415: UserWarning: Unsupported file format. /home/ywatanabe/proj/SciTeX-Code/examples/test_with_fixed_load_out/large_data.bz2 was not saved.\n",
      "  warnings.warn(f\"Unsupported file format. {spath} was not saved.\")\n",
      "/home/ywatanabe/proj/SciTeX-Code/src/scitex/io/_save.py:415: UserWarning: Unsupported file format. /home/ywatanabe/proj/SciTeX-Code/examples/test_with_fixed_load_out/large_data.xz was not saved.\n",
      "  warnings.warn(f\"Unsupported file format. {spath} was not saved.\")\n"
     ]
    }
   ],
   "source": [
    "# Test compression formats\n",
    "large_data = np.random.rand(1000, 1000)\n",
    "\n",
    "# Test different compression formats\n",
    "formats = ['pkl', 'gz', 'bz2', 'xz']\n",
    "sizes = {}\n",
    "\n",
    "for fmt in formats:\n",
    "    filename = f'large_data.{fmt}'\n",
    "    scitex.io.save(large_data, filename)\n",
    "    \n",
    "    # Check file size (handle new path convention)\n",
    "    saved_path = Path(filename)\n",
    "    if saved_path.exists():\n",
    "        sizes[fmt] = saved_path.stat().st_size\n",
    "    else:\n",
    "        # Try in notebook output directory\n",
    "        output_path = Path(f'test_simple_io_out/{filename}')\n",
    "        if output_path.exists():\n",
    "            sizes[fmt] = output_path.stat().st_size\n",
    "        else:\n",
    "            sizes[fmt] = 0\n",
    "    \n",
    "    print(f\"✓ Saved {filename}: {sizes[fmt]:,} bytes\")\n",
    "\n",
    "# Show compression ratios\n",
    "base_size = sizes.get('pkl', 1)\n",
    "for fmt, size in sizes.items():\n",
    "    ratio = base_size / size if size > 0 else 0\n",
    "    print(f\"{fmt}: {ratio:.2f}x compression\")"
   ]
  },
  {
   "cell_type": "markdown",
   "id": "03ce0840",
   "metadata": {
    "papermill": {
     "duration": 0.003719,
     "end_time": "2025-07-04T08:31:08.588047",
     "exception": false,
     "start_time": "2025-07-04T08:31:08.584328",
     "status": "completed"
    },
    "tags": []
   },
   "source": [
    "## CSV Operations"
   ]
  },
  {
   "cell_type": "code",
   "execution_count": 4,
   "id": "a4639644",
   "metadata": {
    "execution": {
     "iopub.execute_input": "2025-07-04T08:31:08.600150Z",
     "iopub.status.busy": "2025-07-04T08:31:08.598325Z",
     "iopub.status.idle": "2025-07-04T08:31:08.661528Z",
     "shell.execute_reply": "2025-07-04T08:31:08.659430Z"
    },
    "papermill": {
     "duration": 0.071837,
     "end_time": "2025-07-04T08:31:08.663737",
     "exception": false,
     "start_time": "2025-07-04T08:31:08.591900",
     "status": "completed"
    },
    "tags": []
   },
   "outputs": [
    {
     "name": "stdout",
     "output_type": "stream",
     "text": [
      "\u001b[93m\n",
      "Saved to: /home/ywatanabe/proj/SciTeX-Code/examples/test_with_fixed_load_out/test_data.csv (2.4 KiB)\u001b[0m\n",
      "✓ Saved CSV\n",
      "✓ Loaded CSV with shape: (100, 3)\n"
     ]
    }
   ],
   "source": [
    "# Test CSV operations\n",
    "import pandas as pd\n",
    "\n",
    "df = pd.DataFrame({\n",
    "    'x': np.arange(100),\n",
    "    'y': np.random.randn(100),\n",
    "    'category': np.random.choice(['A', 'B', 'C'], 100)\n",
    "})\n",
    "\n",
    "scitex.io.save(df, 'test_data.csv')\n",
    "print(\"✓ Saved CSV\")\n",
    "\n",
    "df_loaded = scitex.io.load('test_data.csv')\n",
    "print(f\"✓ Loaded CSV with shape: {df_loaded.shape}\")"
   ]
  },
  {
   "cell_type": "markdown",
   "id": "6178e57c",
   "metadata": {
    "papermill": {
     "duration": 0.003521,
     "end_time": "2025-07-04T08:31:08.670567",
     "exception": false,
     "start_time": "2025-07-04T08:31:08.667046",
     "status": "completed"
    },
    "tags": []
   },
   "source": [
    "## Summary"
   ]
  },
  {
   "cell_type": "code",
   "execution_count": 5,
   "id": "574cf50a",
   "metadata": {
    "execution": {
     "iopub.execute_input": "2025-07-04T08:31:08.680966Z",
     "iopub.status.busy": "2025-07-04T08:31:08.679019Z",
     "iopub.status.idle": "2025-07-04T08:31:08.689145Z",
     "shell.execute_reply": "2025-07-04T08:31:08.687084Z"
    },
    "papermill": {
     "duration": 0.018325,
     "end_time": "2025-07-04T08:31:08.692170",
     "exception": false,
     "start_time": "2025-07-04T08:31:08.673845",
     "status": "completed"
    },
    "tags": []
   },
   "outputs": [
    {
     "name": "stdout",
     "output_type": "stream",
     "text": [
      "\n",
      "All IO tests completed successfully!\n",
      "Files are saved to either current directory or {notebook_name}_out/\n"
     ]
    }
   ],
   "source": [
    "print(\"\\nAll IO tests completed successfully!\")\n",
    "print(\"Files are saved to either current directory or {notebook_name}_out/\")"
   ]
  }
 ],
 "metadata": {
  "language_info": {
   "codemirror_mode": {
    "name": "ipython",
    "version": 3
   },
   "file_extension": ".py",
   "mimetype": "text/x-python",
   "name": "python",
   "nbconvert_exporter": "python",
   "pygments_lexer": "ipython3",
   "version": "3.11.0rc1"
  },
  "papermill": {
   "default_parameters": {},
   "duration": 13.675841,
   "end_time": "2025-07-04T08:31:11.530664",
   "environment_variables": {},
   "exception": null,
   "input_path": "test_simple_io.ipynb",
   "output_path": "test_with_fixed_load.ipynb",
   "parameters": {},
   "start_time": "2025-07-04T08:30:57.854823",
   "version": "2.6.0"
  }
 },
 "nbformat": 4,
 "nbformat_minor": 5
}