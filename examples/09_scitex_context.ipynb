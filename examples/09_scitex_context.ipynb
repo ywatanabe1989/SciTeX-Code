{
 "cells": [
  {
   "cell_type": "markdown",
   "metadata": {},
   "source": [
    "# SciTeX Context Module Tutorial\n",
    "\n",
    "This notebook demonstrates the context managers in SciTeX, particularly for managing output suppression in scientific computing workflows."
   ]
  },
  {
   "cell_type": "markdown",
   "metadata": {},
   "source": [
    "## 1. Setup and Imports"
   ]
  },
  {
   "cell_type": "code",
   "execution_count": null,
   "metadata": {},
   "outputs": [],
   "source": [
    "import scitex as stx\n",
    "import numpy as np\n",
    "import sys\n",
    "import warnings\n",
    "import time\n",
    "from contextlib import redirect_stdout, redirect_stderr\n",
    "import io"
   ]
  },
  {
   "cell_type": "markdown",
   "metadata": {},
   "source": [
    "## 2. Output Suppression Basics\n",
    "\n",
    "The `suppress_output` context manager (also available as `quiet`) allows you to selectively suppress stdout and stderr output."
   ]
  },
  {
   "cell_type": "markdown",
   "metadata": {},
   "source": [
    "### 2.1 Basic Usage"
   ]
  },
  {
   "cell_type": "code",
   "execution_count": null,
   "metadata": {},
   "outputs": [],
   "source": [
    "# Normal output\n",
    "print(\"This message will be displayed\")\n",
    "\n",
    "# Suppressed output\n",
    "with stx.context.suppress_output():\n",
    "    print(\"This message will NOT be displayed\")\n",
    "    print(\"Neither will this one\")\n",
    "    \n",
    "print(\"This message will be displayed again\")"
   ]
  },
  {
   "cell_type": "markdown",
   "metadata": {},
   "source": [
    "### 2.2 Using the quiet Alias"
   ]
  },
  {
   "cell_type": "code",
   "execution_count": null,
   "metadata": {},
   "outputs": [],
   "source": [
    "# The 'quiet' alias provides the same functionality\n",
    "print(\"Before quiet block\")\n",
    "\n",
    "with stx.context.quiet():\n",
    "    print(\"This is suppressed\")\n",
    "    for i in range(100):\n",
    "        print(f\"Iteration {i}\")  # All suppressed\n",
    "        \n",
    "print(\"After quiet block\")"
   ]
  },
  {
   "cell_type": "markdown",
   "metadata": {},
   "source": [
    "### 2.3 Conditional Suppression"
   ]
  },
  {
   "cell_type": "code",
   "execution_count": null,
   "metadata": {},
   "outputs": [],
   "source": [
    "# You can control suppression with a parameter\n",
    "verbose = False\n",
    "\n",
    "print(\"Running computation...\")\n",
    "\n",
    "with stx.context.suppress_output(suppress=not verbose):\n",
    "    print(\"Debug: Starting calculation\")\n",
    "    result = sum(range(1000))\n",
    "    print(f\"Debug: Result = {result}\")\n",
    "    print(\"Debug: Calculation complete\")\n",
    "\n",
    "print(f\"Final result: {result}\")\n",
    "\n",
    "# Now with verbose=True\n",
    "print(\"\\nRunning with verbose=True:\")\n",
    "verbose = True\n",
    "\n",
    "with stx.context.suppress_output(suppress=not verbose):\n",
    "    print(\"Debug: Starting calculation\")\n",
    "    result = sum(range(1000))\n",
    "    print(f\"Debug: Result = {result}\")\n",
    "    print(\"Debug: Calculation complete\")"
   ]
  },
  {
   "cell_type": "markdown",
   "metadata": {},
   "source": [
    "## 3. Practical Applications"
   ]
  },
  {
   "cell_type": "markdown",
   "metadata": {},
   "source": [
    "### 3.1 Suppressing Library Warnings and Output"
   ]
  },
  {
   "cell_type": "code",
   "execution_count": null,
   "metadata": {},
   "outputs": [],
   "source": [
    "# Many libraries produce verbose output during initialization or computation\n",
    "def noisy_function():\n",
    "    \"\"\"Simulates a function that produces unwanted output.\"\"\"\n",
    "    print(\"Initializing...\")\n",
    "    print(\"Loading configuration...\")\n",
    "    print(\"Setting up parameters...\")\n",
    "    warnings.warn(\"This is a deprecation warning\")\n",
    "    print(\"Processing...\")\n",
    "    result = np.random.randn(100).mean()\n",
    "    print(\"Cleaning up...\")\n",
    "    return result\n",
    "\n",
    "# Without suppression\n",
    "print(\"=== Without suppression ===\")\n",
    "result1 = noisy_function()\n",
    "print(f\"Result: {result1:.4f}\\n\")\n",
    "\n",
    "# With suppression\n",
    "print(\"=== With suppression ===\")\n",
    "with stx.context.quiet():\n",
    "    result2 = noisy_function()\n",
    "print(f\"Result: {result2:.4f}\")"
   ]
  },
  {
   "cell_type": "markdown",
   "metadata": {},
   "source": [
    "### 3.2 Benchmarking with Clean Output"
   ]
  },
  {
   "cell_type": "code",
   "execution_count": null,
   "metadata": {},
   "outputs": [],
   "source": [
    "def benchmark_function(func, *args, n_runs=100, suppress_output=True, **kwargs):\n",
    "    \"\"\"Benchmark a function with optional output suppression.\"\"\"\n",
    "    times = []\n",
    "    \n",
    "    for i in range(n_runs):\n",
    "        start = time.time()\n",
    "        \n",
    "        with stx.context.suppress_output(suppress=suppress_output):\n",
    "            result = func(*args, **kwargs)\n",
    "            \n",
    "        elapsed = time.time() - start\n",
    "        times.append(elapsed)\n",
    "        \n",
    "        # Show progress every 10 runs\n",
    "        if (i + 1) % 10 == 0:\n",
    "            print(f\"\\rProgress: {i+1}/{n_runs}\", end='', flush=True)\n",
    "    \n",
    "    print()  # New line after progress\n",
    "    return np.array(times), result\n",
    "\n",
    "# Example: Benchmark a noisy computation\n",
    "def noisy_computation(size=1000):\n",
    "    \"\"\"A computation that prints progress.\"\"\"\n",
    "    data = np.random.randn(size, size)\n",
    "    print(f\"Processing {size}x{size} matrix...\")\n",
    "    \n",
    "    for i in range(5):\n",
    "        print(f\"  Step {i+1}/5: Computing...\")\n",
    "        data = data @ data.T\n",
    "        data = data / np.linalg.norm(data)\n",
    "    \n",
    "    print(\"Computation complete!\")\n",
    "    return data.sum()\n",
    "\n",
    "# Benchmark with output suppression\n",
    "print(\"Benchmarking with output suppression:\")\n",
    "times_quiet, _ = benchmark_function(noisy_computation, size=100, n_runs=20)\n",
    "\n",
    "print(f\"\\nExecution time: {times_quiet.mean():.4f} ± {times_quiet.std():.4f} seconds\")\n",
    "print(f\"Min: {times_quiet.min():.4f}s, Max: {times_quiet.max():.4f}s\")\n",
    "\n",
    "# Compare with one run showing output\n",
    "print(\"\\n\\nOne run with output enabled:\")\n",
    "with stx.context.suppress_output(suppress=False):\n",
    "    _ = noisy_computation(size=100)"
   ]
  },
  {
   "cell_type": "markdown",
   "metadata": {},
   "source": [
    "### 3.3 Capturing Output Instead of Suppressing"
   ]
  },
  {
   "cell_type": "code",
   "execution_count": null,
   "metadata": {},
   "outputs": [],
   "source": [
    "# Sometimes you want to capture output rather than suppress it\n",
    "def capture_output(func, *args, **kwargs):\n",
    "    \"\"\"Capture stdout and stderr from a function.\"\"\"\n",
    "    stdout_capture = io.StringIO()\n",
    "    stderr_capture = io.StringIO()\n",
    "    \n",
    "    with redirect_stdout(stdout_capture), redirect_stderr(stderr_capture):\n",
    "        result = func(*args, **kwargs)\n",
    "    \n",
    "    return result, stdout_capture.getvalue(), stderr_capture.getvalue()\n",
    "\n",
    "# Example function with both stdout and stderr\n",
    "def mixed_output_function():\n",
    "    print(\"Normal output to stdout\")\n",
    "    print(\"More stdout output\")\n",
    "    print(\"Error message\", file=sys.stderr)\n",
    "    warnings.warn(\"A warning message\")\n",
    "    return 42\n",
    "\n",
    "# Capture all output\n",
    "result, stdout, stderr = capture_output(mixed_output_function)\n",
    "\n",
    "print(\"=== Captured Output ===\")\n",
    "print(f\"Result: {result}\")\n",
    "print(f\"\\nStdout ({len(stdout)} chars):\")\n",
    "print(stdout)\n",
    "print(f\"\\nStderr ({len(stderr)} chars):\")\n",
    "print(stderr)"
   ]
  },
  {
   "cell_type": "markdown",
   "metadata": {},
   "source": [
    "## 4. Advanced Usage Patterns"
   ]
  },
  {
   "cell_type": "markdown",
   "metadata": {},
   "source": [
    "### 4.1 Nested Context Management"
   ]
  },
  {
   "cell_type": "code",
   "execution_count": null,
   "metadata": {},
   "outputs": [],
   "source": [
    "# Context managers can be nested\n",
    "def outer_function():\n",
    "    print(\"Outer: Start\")\n",
    "    \n",
    "    with stx.context.quiet():\n",
    "        print(\"Outer: This is suppressed\")\n",
    "        inner_function()\n",
    "        \n",
    "    print(\"Outer: End\")\n",
    "\n",
    "def inner_function():\n",
    "    print(\"Inner: This is also suppressed\")\n",
    "    \n",
    "    # You can temporarily unsuppress within a suppressed context\n",
    "    # by capturing and manually printing\n",
    "    message = \"Inner: Important message\"\n",
    "    # This would need to be handled differently to show\n",
    "    \n",
    "outer_function()"
   ]
  },
  {
   "cell_type": "markdown",
   "metadata": {},
   "source": [
    "### 4.2 Creating a Verbose Mode Decorator"
   ]
  },
  {
   "cell_type": "code",
   "execution_count": null,
   "metadata": {},
   "outputs": [],
   "source": [
    "from functools import wraps\n",
    "\n",
    "def with_verbose_control(verbose_param='verbose'):\n",
    "    \"\"\"Decorator that adds verbose control to functions.\"\"\"\n",
    "    def decorator(func):\n",
    "        @wraps(func)\n",
    "        def wrapper(*args, **kwargs):\n",
    "            # Get verbose flag from kwargs\n",
    "            verbose = kwargs.get(verbose_param, False)\n",
    "            \n",
    "            # Remove verbose from kwargs if present\n",
    "            kwargs_clean = {k: v for k, v in kwargs.items() if k != verbose_param}\n",
    "            \n",
    "            # Run function with output control\n",
    "            with stx.context.suppress_output(suppress=not verbose):\n",
    "                return func(*args, **kwargs_clean)\n",
    "        \n",
    "        return wrapper\n",
    "    return decorator\n",
    "\n",
    "# Example usage\n",
    "@with_verbose_control()\n",
    "def process_data(data):\n",
    "    \"\"\"Process data with optional verbose output.\"\"\"\n",
    "    print(\"Starting data processing...\")\n",
    "    print(f\"Data shape: {data.shape}\")\n",
    "    \n",
    "    # Simulate processing steps\n",
    "    for i in range(5):\n",
    "        print(f\"Processing step {i+1}/5\")\n",
    "        data = data * 1.1 + np.random.randn(*data.shape) * 0.01\n",
    "    \n",
    "    print(\"Processing complete!\")\n",
    "    return data.mean()\n",
    "\n",
    "# Test the decorated function\n",
    "data = np.random.randn(100, 100)\n",
    "\n",
    "print(\"With verbose=False (default):\")\n",
    "result1 = process_data(data)\n",
    "print(f\"Result: {result1:.4f}\")\n",
    "\n",
    "print(\"\\nWith verbose=True:\")\n",
    "result2 = process_data(data, verbose=True)\n",
    "print(f\"Result: {result2:.4f}\")"
   ]
  },
  {
   "cell_type": "markdown",
   "metadata": {},
   "source": [
    "### 4.3 Progress Monitoring with Selective Output"
   ]
  },
  {
   "cell_type": "code",
   "execution_count": null,
   "metadata": {},
   "outputs": [],
   "source": [
    "class ProgressMonitor:\n",
    "    \"\"\"A progress monitor that can selectively show output.\"\"\"\n",
    "    \n",
    "    def __init__(self, total, desc=\"Progress\", verbose=True, update_freq=0.1):\n",
    "        self.total = total\n",
    "        self.desc = desc\n",
    "        self.verbose = verbose\n",
    "        self.update_freq = update_freq\n",
    "        self.current = 0\n",
    "        self.last_update = 0\n",
    "        self.start_time = time.time()\n",
    "        \n",
    "    def update(self, n=1):\n",
    "        \"\"\"Update progress by n steps.\"\"\"\n",
    "        self.current += n\n",
    "        \n",
    "        # Only update display if enough progress made\n",
    "        progress = self.current / self.total\n",
    "        if progress - self.last_update >= self.update_freq or self.current >= self.total:\n",
    "            if self.verbose:\n",
    "                self._display()\n",
    "            self.last_update = progress\n",
    "    \n",
    "    def _display(self):\n",
    "        \"\"\"Display progress bar.\"\"\"\n",
    "        progress = self.current / self.total\n",
    "        bar_length = 40\n",
    "        filled = int(bar_length * progress)\n",
    "        bar = '█' * filled + '░' * (bar_length - filled)\n",
    "        \n",
    "        elapsed = time.time() - self.start_time\n",
    "        rate = self.current / elapsed if elapsed > 0 else 0\n",
    "        \n",
    "        print(f\"\\r{self.desc}: [{bar}] {progress*100:.1f}% \"\n",
    "              f\"({self.current}/{self.total}) {rate:.1f} it/s\", \n",
    "              end='', flush=True)\n",
    "        \n",
    "        if self.current >= self.total:\n",
    "            print()  # New line when complete\n",
    "\n",
    "# Example: Process with optional progress display\n",
    "def process_with_progress(n_items, show_progress=True, show_details=False):\n",
    "    \"\"\"Process items with configurable output.\"\"\"\n",
    "    results = []\n",
    "    \n",
    "    progress = ProgressMonitor(n_items, \"Processing\", verbose=show_progress)\n",
    "    \n",
    "    for i in range(n_items):\n",
    "        # Suppress detailed output unless requested\n",
    "        with stx.context.suppress_output(suppress=not show_details):\n",
    "            print(f\"\\nProcessing item {i+1}:\")\n",
    "            print(f\"  - Loading data...\")\n",
    "            print(f\"  - Applying transformation...\")\n",
    "            print(f\"  - Validating results...\")\n",
    "            \n",
    "        # Simulate work\n",
    "        time.sleep(0.01)\n",
    "        results.append(np.random.randn())\n",
    "        \n",
    "        progress.update()\n",
    "    \n",
    "    return results\n",
    "\n",
    "# Test different output configurations\n",
    "print(\"1. Progress only (no details):\")\n",
    "results1 = process_with_progress(50, show_progress=True, show_details=False)\n",
    "\n",
    "print(\"\\n2. No output at all:\")\n",
    "results2 = process_with_progress(50, show_progress=False, show_details=False)\n",
    "print(\"Done!\")\n",
    "\n",
    "print(\"\\n3. Full details (first 5 items):\")\n",
    "results3 = process_with_progress(5, show_progress=True, show_details=True)"
   ]
  },
  {
   "cell_type": "markdown",
   "metadata": {},
   "source": [
    "## 5. Error Handling with Suppressed Output"
   ]
  },
  {
   "cell_type": "code",
   "execution_count": null,
   "metadata": {},
   "outputs": [],
   "source": [
    "# Error messages are also suppressed, so be careful\n",
    "def safe_suppress(func, *args, **kwargs):\n",
    "    \"\"\"Safely suppress output but capture errors.\"\"\"\n",
    "    error_buffer = io.StringIO()\n",
    "    \n",
    "    try:\n",
    "        with stx.context.suppress_output():\n",
    "            # Redirect stderr to our buffer to capture errors\n",
    "            with redirect_stderr(error_buffer):\n",
    "                result = func(*args, **kwargs)\n",
    "        return result, None\n",
    "    except Exception as e:\n",
    "        # Return the error and any error output\n",
    "        return None, (str(e), error_buffer.getvalue())\n",
    "\n",
    "# Test functions\n",
    "def good_function():\n",
    "    print(\"Working...\")\n",
    "    return 42\n",
    "\n",
    "def bad_function():\n",
    "    print(\"Starting...\")\n",
    "    print(\"About to fail...\", file=sys.stderr)\n",
    "    raise ValueError(\"Something went wrong!\")\n",
    "\n",
    "# Test both functions\n",
    "result1, error1 = safe_suppress(good_function)\n",
    "print(f\"Good function: result={result1}, error={error1}\")\n",
    "\n",
    "result2, error2 = safe_suppress(bad_function)\n",
    "print(f\"\\nBad function: result={result2}\")\n",
    "if error2:\n",
    "    print(f\"Error message: {error2[0]}\")\n",
    "    print(f\"Error output: {error2[1]}\")"
   ]
  },
  {
   "cell_type": "markdown",
   "metadata": {},
   "source": [
    "## 6. Integration with Logging"
   ]
  },
  {
   "cell_type": "code",
   "execution_count": null,
   "metadata": {},
   "outputs": [],
   "source": [
    "import logging\n",
    "\n",
    "# Configure logging\n",
    "logger = logging.getLogger('example')\n",
    "logger.setLevel(logging.DEBUG)\n",
    "\n",
    "# Create handlers\n",
    "console_handler = logging.StreamHandler()\n",
    "console_handler.setLevel(logging.INFO)\n",
    "\n",
    "# Create formatters and add it to handlers\n",
    "log_format = logging.Formatter('%(asctime)s - %(name)s - %(levelname)s - %(message)s')\n",
    "console_handler.setFormatter(log_format)\n",
    "\n",
    "# Add handlers to the logger\n",
    "logger.addHandler(console_handler)\n",
    "\n",
    "def process_with_logging():\n",
    "    \"\"\"Example function that uses both print and logging.\"\"\"\n",
    "    print(\"This is a print statement\")\n",
    "    logger.info(\"This is an info log\")\n",
    "    logger.debug(\"This is a debug log (won't show)\")\n",
    "    logger.warning(\"This is a warning log\")\n",
    "    return \"Done\"\n",
    "\n",
    "# Normal execution\n",
    "print(\"=== Normal execution ===\")\n",
    "result = process_with_logging()\n",
    "\n",
    "# With output suppression (note: logging is NOT suppressed by default)\n",
    "print(\"\\n=== With suppress_output ===\")\n",
    "with stx.context.suppress_output():\n",
    "    result = process_with_logging()\n",
    "    \n",
    "print(\"\\nNote: Logging output is not suppressed by suppress_output!\")"
   ]
  },
  {
   "cell_type": "markdown",
   "metadata": {},
   "source": [
    "## 7. Performance Considerations"
   ]
  },
  {
   "cell_type": "code",
   "execution_count": null,
   "metadata": {},
   "outputs": [],
   "source": [
    "# Test performance impact of output suppression\n",
    "def benchmark_output_suppression():\n",
    "    \"\"\"Compare performance with and without output suppression.\"\"\"\n",
    "    n_iterations = 10000\n",
    "    \n",
    "    # Function that produces output\n",
    "    def chatty_function():\n",
    "        print(f\"Processing item...\")\n",
    "        return sum(range(100))\n",
    "    \n",
    "    # Benchmark without suppression (redirect to buffer to avoid spam)\n",
    "    buffer = io.StringIO()\n",
    "    start = time.time()\n",
    "    with redirect_stdout(buffer):\n",
    "        for _ in range(n_iterations):\n",
    "            chatty_function()\n",
    "    time_no_suppress = time.time() - start\n",
    "    \n",
    "    # Benchmark with suppression\n",
    "    start = time.time()\n",
    "    with stx.context.suppress_output():\n",
    "        for _ in range(n_iterations):\n",
    "            chatty_function()\n",
    "    time_suppress = time.time() - start\n",
    "    \n",
    "    print(f\"Performance comparison ({n_iterations} iterations):\")\n",
    "    print(f\"Without suppression: {time_no_suppress:.3f}s\")\n",
    "    print(f\"With suppression: {time_suppress:.3f}s\")\n",
    "    print(f\"Suppression is {time_no_suppress/time_suppress:.2f}x faster\")\n",
    "    print(f\"\\nOutput size that would have been printed: {len(buffer.getvalue())/1024:.1f} KB\")\n",
    "\n",
    "benchmark_output_suppression()"
   ]
  },
  {
   "cell_type": "markdown",
   "metadata": {},
   "source": [
    "## 8. Best Practices and Summary"
   ]
  },
  {
   "cell_type": "markdown",
   "metadata": {},
   "source": [
    "### Best Practices\n",
    "\n",
    "1. **Use for Clean Output**:\n",
    "   ```python\n",
    "   # Suppress verbose library initialization\n",
    "   with stx.context.quiet():\n",
    "       import some_verbose_library\n",
    "   ```\n",
    "\n",
    "2. **Conditional Verbosity**:\n",
    "   ```python\n",
    "   def compute(data, verbose=False):\n",
    "       with stx.context.suppress_output(suppress=not verbose):\n",
    "           # Detailed processing steps\n",
    "           pass\n",
    "   ```\n",
    "\n",
    "3. **Error Safety**:\n",
    "   ```python\n",
    "   # Always handle errors when suppressing output\n",
    "   try:\n",
    "       with stx.context.quiet():\n",
    "           result = risky_operation()\n",
    "   except Exception as e:\n",
    "       logger.error(f\"Operation failed: {e}\")\n",
    "   ```\n",
    "\n",
    "4. **Progress Reporting**:\n",
    "   ```python\n",
    "   # Show progress while suppressing details\n",
    "   for i in range(n_items):\n",
    "       with stx.context.quiet():\n",
    "           process_item(i)\n",
    "       print(f\"\\rProgress: {i+1}/{n_items}\", end='')\n",
    "   ```\n",
    "\n",
    "### Summary\n",
    "\n",
    "The context module provides:\n",
    "- Clean output control for scientific computing\n",
    "- Easy integration with existing code\n",
    "- Performance benefits when suppressing large outputs\n",
    "- Flexible conditional suppression\n",
    "\n",
    "Use cases:\n",
    "- Benchmarking without output noise\n",
    "- Clean progress reporting\n",
    "- Suppressing verbose library messages\n",
    "- Creating user-friendly interfaces"
   ]
  },
  {
   "cell_type": "code",
   "execution_count": null,
   "metadata": {},
   "outputs": [],
   "source": [
    "print(\"Context module tutorial completed!\")\n",
    "print(\"\\nKey takeaways:\")\n",
    "print(\"1. Use suppress_output() or quiet() to control output\")\n",
    "print(\"2. Great for creating clean, professional outputs\")\n",
    "print(\"3. Can significantly improve performance when suppressing large outputs\")\n",
    "print(\"4. Remember to handle errors appropriately when suppressing output\")"
   ]
  }
 ],
 "metadata": {
  "kernelspec": {
   "display_name": "Python 3",
   "language": "python",
   "name": "python3"
  },
  "language_info": {
   "codemirror_mode": {
    "name": "ipython",
    "version": 3
   },
   "file_extension": ".py",
   "mimetype": "text/x-python",
   "name": "python",
   "nbconvert_exporter": "python",
   "pygments_lexer": "ipython3",
   "version": "3.8.0"
  }
 },
 "nbformat": 4,
 "nbformat_minor": 4
}