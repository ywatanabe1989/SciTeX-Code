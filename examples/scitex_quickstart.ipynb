{
 "cells": [
  {
   "cell_type": "markdown",
   "metadata": {},
   "source": [
    "# SciTeX Quick Start Guide\n",
    "\n",
    "Welcome to SciTeX! This notebook will get you started with the most useful features in under 5 minutes.\n",
    "\n",
    "## Installation\n",
    "\n",
    "```bash\n",
    "pip install scitex\n",
    "```"
   ]
  },
  {
   "cell_type": "code",
   "execution_count": null,
   "metadata": {},
   "outputs": [],
   "source": [
    "# Import required packages\n",
    "import sys\n",
    "import numpy as np\n",
    "import pandas as pd\n",
    "import matplotlib.pyplot as plt\n",
    "import scitex\n",
    "\n",
    "print(f\"SciTeX version: {scitex.__version__}\")"
   ]
  },
  {
   "cell_type": "markdown",
   "metadata": {},
   "source": [
    "## 1. Basic Setup - Start Your Experiment"
   ]
  },
  {
   "cell_type": "code",
   "execution_count": null,
   "metadata": {},
   "outputs": [],
   "source": [
    "# Initialize SciTeX environment\n",
    "# This handles logging, random seeds, and output management\n",
    "CONFIG, sys.stdout, sys.stderr, plt, CC = scitex.gen.start(\n",
    "    sys, plt,\n",
    "    sdir=\"./quickstart_out\",\n",
    "    seed=42  # For reproducibility\n",
    ")"
   ]
  },
  {
   "cell_type": "markdown",
   "metadata": {},
   "source": [
    "## 2. Universal File I/O"
   ]
  },
  {
   "cell_type": "code",
   "execution_count": null,
   "metadata": {},
   "outputs": [],
   "source": [
    "# Create some sample data\n",
    "data_dict = {\"name\": \"experiment_1\", \"values\": [1, 2, 3, 4, 5]}\n",
    "data_array = np.random.randn(100, 3)\n",
    "data_df = pd.DataFrame(data_array, columns=['A', 'B', 'C'])\n",
    "\n",
    "# Save in any format - SciTeX detects from extension\n",
    "scitex.io.save(data_dict, \"config.json\")\n",
    "scitex.io.save(data_array, \"array_data.npy\")\n",
    "scitex.io.save(data_df, \"dataframe.csv\")\n",
    "\n",
    "# Load them back - same function for all formats!\n",
    "loaded_json = scitex.io.load(\"config.json\")\n",
    "loaded_array = scitex.io.load(\"array_data.npy\")\n",
    "loaded_df = scitex.io.load(\"dataframe.csv\")\n",
    "\n",
    "print(\"✓ Saved and loaded multiple file formats\")"
   ]
  },
  {
   "cell_type": "markdown",
   "metadata": {},
   "source": [
    "## 3. Enhanced Plotting with Data Export"
   ]
  },
  {
   "cell_type": "code",
   "execution_count": null,
   "metadata": {},
   "outputs": [],
   "source": [
    "# Create a figure with SciTeX's enhanced matplotlib\n",
    "fig, ax = scitex.plt.subplots(figsize=(8, 5))\n",
    "\n",
    "# Generate and plot data\n",
    "x = np.linspace(0, 10, 100)\n",
    "y1 = np.sin(x)\n",
    "y2 = np.cos(x)\n",
    "\n",
    "ax.plot(x, y1, label='sin(x)', linewidth=2)\n",
    "ax.plot(x, y2, label='cos(x)', linewidth=2)\n",
    "\n",
    "# Use SciTeX's convenient labeling\n",
    "ax.set_xyt(\"X values\", \"Y values\", \"Trigonometric Functions\")\n",
    "ax.legend()\n",
    "ax.grid(True, alpha=0.3)\n",
    "\n",
    "# Save - this creates both image AND CSV with the data!\n",
    "scitex.io.save(fig, \"trig_plot.png\")\n",
    "print(\"✓ Saved plot as image and data as CSV\")"
   ]
  },
  {
   "cell_type": "markdown",
   "metadata": {},
   "source": [
    "## 4. Signal Processing Example"
   ]
  },
  {
   "cell_type": "code",
   "execution_count": null,
   "metadata": {},
   "outputs": [],
   "source": [
    "# Generate a noisy signal\n",
    "fs = 1000  # Sampling frequency\n",
    "t = np.arange(0, 1, 1/fs)  # 1 second\n",
    "signal = np.sin(2*np.pi*10*t) + 0.5*np.sin(2*np.pi*100*t) + 0.2*np.random.randn(len(t))\n",
    "\n",
    "# Apply bandpass filter\n",
    "filtered = scitex.dsp.bandpass(signal, low=5, high=20, fs=fs)\n",
    "\n",
    "# Plot original vs filtered\n",
    "fig, axes = scitex.plt.subplots(2, 1, figsize=(10, 6), sharex=True)\n",
    "\n",
    "axes[0].plot(t[:200], signal[:200], alpha=0.7)\n",
    "axes[0].set_xyt(\"\", \"Amplitude\", \"Original Signal\")\n",
    "\n",
    "axes[1].plot(t[:200], filtered[:200], alpha=0.7, color='orange')\n",
    "axes[1].set_xyt(\"Time (s)\", \"Amplitude\", \"Filtered Signal (5-20 Hz)\")\n",
    "\n",
    "scitex.io.save(fig, \"signal_filtering.png\")"
   ]
  },
  {
   "cell_type": "markdown",
   "metadata": {},
   "source": [
    "## 5. Statistical Analysis"
   ]
  },
  {
   "cell_type": "code",
   "execution_count": null,
   "metadata": {},
   "outputs": [],
   "source": [
    "# Generate correlated data\n",
    "x = np.random.randn(100)\n",
    "y = 2 * x + 1 + np.random.randn(100) * 0.5\n",
    "\n",
    "# Perform correlation test\n",
    "result = scitex.stats.corr_test(x, y)\n",
    "stars = scitex.stats.p2stars(result['p'])\n",
    "\n",
    "print(f\"Correlation: r = {result['r']:.3f}\")\n",
    "print(f\"P-value: p = {result['p']:.4f} {stars}\")\n",
    "print(f\"Significance: {stars if stars else 'ns'}\")\n",
    "\n",
    "# Visualize\n",
    "fig, ax = scitex.plt.subplots(figsize=(6, 6))\n",
    "ax.scatter(x, y, alpha=0.6)\n",
    "ax.set_xyt(\"X\", \"Y\", f\"Correlation: r={result['r']:.3f} {stars}\")\n",
    "scitex.io.save(fig, \"correlation_plot.png\")"
   ]
  },
  {
   "cell_type": "markdown",
   "metadata": {},
   "source": [
    "## 6. Pandas Utilities"
   ]
  },
  {
   "cell_type": "code",
   "execution_count": null,
   "metadata": {},
   "outputs": [],
   "source": [
    "# Create sample dataframe\n",
    "df = pd.DataFrame({\n",
    "    'values': np.random.randn(50) * 100,\n",
    "    'category': np.random.choice(['A', 'B', 'C'], 50),\n",
    "    'score': np.random.rand(50)\n",
    "})\n",
    "\n",
    "# Round numeric columns\n",
    "df_rounded = scitex.pd.round(df, decimals=2)\n",
    "\n",
    "# Display statistics\n",
    "print(\"DataFrame Statistics:\")\n",
    "print(df_rounded.describe())\n",
    "\n",
    "# Save processed data\n",
    "scitex.io.save(df_rounded, \"processed_data.csv\")"
   ]
  },
  {
   "cell_type": "markdown",
   "metadata": {},
   "source": [
    "## 7. Pretty Terminal Output"
   ]
  },
  {
   "cell_type": "code",
   "execution_count": null,
   "metadata": {},
   "outputs": [],
   "source": [
    "# Colored console output\n",
    "scitex.str.printc(\"✓ Success message\", c=\"green\")\n",
    "scitex.str.printc(\"⚠ Warning message\", c=\"yellow\")\n",
    "scitex.str.printc(\"✗ Error message\", c=\"red\")\n",
    "scitex.str.printc(\"ℹ Info message\", c=\"blue\")\n",
    "\n",
    "# Print formatted block\n",
    "scitex.str.print_block(\"EXPERIMENT COMPLETE\", char=\"=\")"
   ]
  },
  {
   "cell_type": "markdown",
   "metadata": {},
   "source": [
    "## 8. Configuration Management"
   ]
  },
  {
   "cell_type": "code",
   "execution_count": null,
   "metadata": {},
   "outputs": [],
   "source": [
    "# Create a configuration\n",
    "config = {\n",
    "    \"experiment\": {\n",
    "        \"name\": \"Quick Start Demo\",\n",
    "        \"parameters\": {\n",
    "            \"learning_rate\": 0.001,\n",
    "            \"batch_size\": 32,\n",
    "            \"epochs\": 10\n",
    "        }\n",
    "    }\n",
    "}\n",
    "\n",
    "# Save configuration\n",
    "scitex.io.save(config, \"experiment_config.yaml\")\n",
    "\n",
    "# Load it back\n",
    "loaded_config = scitex.io.load(\"experiment_config.yaml\")\n",
    "print(f\"Experiment: {loaded_config['experiment']['name']}\")\n",
    "print(f\"Learning rate: {loaded_config['experiment']['parameters']['learning_rate']}\")"
   ]
  },
  {
   "cell_type": "markdown",
   "metadata": {},
   "source": [
    "## 9. Cleanup"
   ]
  },
  {
   "cell_type": "code",
   "execution_count": null,
   "metadata": {},
   "outputs": [],
   "source": [
    "# Always close at the end\n",
    "scitex.gen.close(CONFIG)\n",
    "\n",
    "print(\"\\n🎉 Congratulations! You've completed the SciTeX quick start.\")\n",
    "print(\"\\nNext steps:\")\n",
    "print(\"- Check the examples/ directory for more detailed examples\")\n",
    "print(\"- Read the documentation at https://scitex.readthedocs.io\")\n",
    "print(\"- Explore specific modules like scitex.ai, scitex.nn, etc.\")"
   ]
  }
 ],
 "metadata": {
  "kernelspec": {
   "display_name": "Python 3",
   "language": "python",
   "name": "python3"
  },
  "language_info": {
   "codemirror_mode": {
    "name": "ipython",
    "version": 3
   },
   "file_extension": ".py",
   "mimetype": "text/x-python",
   "name": "python",
   "nbconvert_exporter": "python",
   "pygments_lexer": "ipython3",
   "version": "3.8.0"
  }
 },
 "nbformat": 4,
 "nbformat_minor": 4
}