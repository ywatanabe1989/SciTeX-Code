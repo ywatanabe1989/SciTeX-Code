{
 "cells": [
  {
   "cell_type": "markdown",
   "id": "eccd7620",
   "metadata": {},
   "source": [
    "# Simple SciTeX IO Test\n",
    "Testing basic IO operations with new path handling"
   ]
  },
  {
   "cell_type": "code",
   "execution_count": null,
   "id": "72071418",
   "metadata": {},
   "outputs": [],
   "source": [
    "import sys\n",
    "sys.path.insert(0, '../src')\n",
    "import scitex\n",
    "import numpy as np\n",
    "from pathlib import Path\n",
    "print(f\"SciTeX version: {scitex.__version__}\")"
   ]
  },
  {
   "cell_type": "markdown",
   "id": "355572d3",
   "metadata": {},
   "source": [
    "## Basic Save/Load"
   ]
  },
  {
   "cell_type": "code",
   "execution_count": null,
   "id": "24601d5f",
   "metadata": {},
   "outputs": [],
   "source": [
    "# Test basic save and load\n",
    "data = {'test': np.random.rand(10, 10)}\n",
    "scitex.io.save(data, 'test_data.pkl')\n",
    "print(\"✓ Saved test_data.pkl\")\n",
    "\n",
    "# Load it back\n",
    "loaded = scitex.io.load('test_data.pkl')\n",
    "print(\"✓ Loaded test_data.pkl\")\n",
    "print(f\"Data shape: {loaded['test'].shape}\")"
   ]
  },
  {
   "cell_type": "markdown",
   "id": "fc4a278e",
   "metadata": {},
   "source": [
    "## Compression Formats"
   ]
  },
  {
   "cell_type": "code",
   "execution_count": null,
   "id": "7712b896",
   "metadata": {},
   "outputs": [],
   "source": [
    "# Test compression formats\n",
    "large_data = np.random.rand(1000, 1000)\n",
    "\n",
    "# Test different compression formats\n",
    "formats = ['pkl', 'gz', 'bz2', 'xz']\n",
    "sizes = {}\n",
    "\n",
    "for fmt in formats:\n",
    "    filename = f'large_data.{fmt}'\n",
    "    scitex.io.save(large_data, filename)\n",
    "    \n",
    "    # Check file size (handle new path convention)\n",
    "    saved_path = Path(filename)\n",
    "    if saved_path.exists():\n",
    "        sizes[fmt] = saved_path.stat().st_size\n",
    "    else:\n",
    "        # Try in notebook output directory\n",
    "        output_path = Path(f'test_simple_io_out/{filename}')\n",
    "        if output_path.exists():\n",
    "            sizes[fmt] = output_path.stat().st_size\n",
    "        else:\n",
    "            sizes[fmt] = 0\n",
    "    \n",
    "    print(f\"✓ Saved {filename}: {sizes[fmt]:,} bytes\")\n",
    "\n",
    "# Show compression ratios\n",
    "base_size = sizes.get('pkl', 1)\n",
    "for fmt, size in sizes.items():\n",
    "    ratio = base_size / size if size > 0 else 0\n",
    "    print(f\"{fmt}: {ratio:.2f}x compression\")"
   ]
  },
  {
   "cell_type": "markdown",
   "id": "03ce0840",
   "metadata": {},
   "source": [
    "## CSV Operations"
   ]
  },
  {
   "cell_type": "code",
   "execution_count": null,
   "id": "a4639644",
   "metadata": {},
   "outputs": [],
   "source": [
    "# Test CSV operations\n",
    "import pandas as pd\n",
    "\n",
    "df = pd.DataFrame({\n",
    "    'x': np.arange(100),\n",
    "    'y': np.random.randn(100),\n",
    "    'category': np.random.choice(['A', 'B', 'C'], 100)\n",
    "})\n",
    "\n",
    "scitex.io.save(df, 'test_data.csv')\n",
    "print(\"✓ Saved CSV\")\n",
    "\n",
    "df_loaded = scitex.io.load('test_data.csv')\n",
    "print(f\"✓ Loaded CSV with shape: {df_loaded.shape}\")"
   ]
  },
  {
   "cell_type": "markdown",
   "id": "6178e57c",
   "metadata": {},
   "source": [
    "## Summary"
   ]
  },
  {
   "cell_type": "code",
   "execution_count": null,
   "id": "574cf50a",
   "metadata": {},
   "outputs": [],
   "source": [
    "print(\"\\nAll IO tests completed successfully!\")\n",
    "print(\"Files are saved to either current directory or {notebook_name}_out/\")"
   ]
  }
 ],
 "metadata": {},
 "nbformat": 4,
 "nbformat_minor": 5
}
