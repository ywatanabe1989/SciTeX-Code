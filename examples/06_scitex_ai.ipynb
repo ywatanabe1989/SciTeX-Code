{
 "cells": [
  {
   "cell_type": "markdown",
   "metadata": {},
   "source": [
    "# SciTeX AI Module Tutorial\n",
    "\n",
    "This notebook demonstrates the AI capabilities in SciTeX, including generative AI, classification, and machine learning utilities."
   ]
  },
  {
   "cell_type": "markdown",
   "metadata": {},
   "source": [
    "## 1. Setup and Imports"
   ]
  },
  {
   "cell_type": "code",
   "execution_count": null,
   "metadata": {},
   "outputs": [],
   "source": [
    "import scitex as stx\n",
    "import numpy as np\n",
    "import pandas as pd\n",
    "from pathlib import Path\n",
    "import matplotlib.pyplot as plt\n",
    "from sklearn.datasets import make_classification, make_blobs\n",
    "from sklearn.model_selection import train_test_split\n",
    "from sklearn.ensemble import RandomForestClassifier\n",
    "import warnings\n",
    "warnings.filterwarnings('ignore')"
   ]
  },
  {
   "cell_type": "markdown",
   "metadata": {},
   "source": [
    "## 2. Generative AI with GenAI\n",
    "\n",
    "SciTeX provides a unified interface for multiple AI providers."
   ]
  },
  {
   "cell_type": "markdown",
   "metadata": {},
   "source": [
    "### 2.1 Basic Text Generation"
   ]
  },
  {
   "cell_type": "code",
   "execution_count": null,
   "metadata": {},
   "outputs": [],
   "source": [
    "# Note: Set your API keys as environment variables\n",
    "# export OPENAI_API_KEY=\"your-key\"\n",
    "# export ANTHROPIC_API_KEY=\"your-key\"\n",
    "\n",
    "# Create a GenAI instance (defaults to OpenAI)\n",
    "try:\n",
    "    ai = stx.ai.GenAI(provider=\"openai\")\n",
    "    \n",
    "    # Simple completion\n",
    "    response = ai.complete(\"Explain phase-amplitude coupling in neuroscience in one paragraph.\")\n",
    "    print(\"Response:\")\n",
    "    print(response['response'])\n",
    "    print(f\"\\nCost: ${response['total_cost']:.4f}\")\n",
    "    print(f\"Tokens used: {response['total_tokens']}\")\n",
    "except Exception as e:\n",
    "    print(f\"Note: GenAI requires API keys. Error: {e}\")\n",
    "    print(\"\\nTo use GenAI, set environment variables:\")\n",
    "    print(\"export OPENAI_API_KEY='your-key'\")\n",
    "    print(\"export ANTHROPIC_API_KEY='your-key'\")"
   ]
  },
  {
   "cell_type": "markdown",
   "metadata": {},
   "source": [
    "### 2.2 Multi-turn Conversations"
   ]
  },
  {
   "cell_type": "code",
   "execution_count": null,
   "metadata": {},
   "outputs": [],
   "source": [
    "# Demonstrate conversation with history\n",
    "try:\n",
    "    ai = stx.ai.GenAI(provider=\"openai\")\n",
    "    \n",
    "    # First turn\n",
    "    response1 = ai.complete(\"What is the Fourier transform?\")\n",
    "    print(\"User: What is the Fourier transform?\")\n",
    "    print(f\"AI: {response1['response'][:200]}...\\n\")\n",
    "    \n",
    "    # Second turn (AI remembers context)\n",
    "    response2 = ai.complete(\"How is it used in signal processing?\")\n",
    "    print(\"User: How is it used in signal processing?\")\n",
    "    print(f\"AI: {response2['response'][:200]}...\\n\")\n",
    "    \n",
    "    # Show conversation history\n",
    "    print(f\"Conversation length: {len(ai.chat_history.messages)} messages\")\n",
    "    print(f\"Total cost so far: ${ai.total_cost:.4f}\")\n",
    "    \n",
    "    # Clear history when done\n",
    "    ai.chat_history.clear()\n",
    "    \n",
    "except Exception as e:\n",
    "    print(f\"GenAI demo skipped (requires API key): {e}\")"
   ]
  },
  {
   "cell_type": "markdown",
   "metadata": {},
   "source": [
    "### 2.3 Cost Comparison Across Providers"
   ]
  },
  {
   "cell_type": "code",
   "execution_count": null,
   "metadata": {},
   "outputs": [],
   "source": [
    "# Compare costs across different providers\n",
    "prompt = \"Write a haiku about machine learning.\"\n",
    "\n",
    "providers_to_test = [\n",
    "    (\"openai\", \"gpt-3.5-turbo\"),\n",
    "    (\"openai\", \"gpt-4\"),\n",
    "    (\"anthropic\", \"claude-3-haiku\"),\n",
    "    (\"anthropic\", \"claude-3-sonnet\"),\n",
    "]\n",
    "\n",
    "cost_comparison = []\n",
    "\n",
    "for provider, model in providers_to_test:\n",
    "    try:\n",
    "        ai = stx.ai.GenAI(provider=provider, model=model)\n",
    "        response = ai.complete(prompt)\n",
    "        cost_comparison.append({\n",
    "            'Provider': provider,\n",
    "            'Model': model,\n",
    "            'Response': response['response'],\n",
    "            'Cost': response['total_cost'],\n",
    "            'Tokens': response['total_tokens']\n",
    "        })\n",
    "    except Exception as e:\n",
    "        print(f\"Skipping {provider}/{model}: {e}\")\n",
    "\n",
    "if cost_comparison:\n",
    "    df = pd.DataFrame(cost_comparison)\n",
    "    print(\"\\nCost Comparison:\")\n",
    "    print(df[['Provider', 'Model', 'Cost', 'Tokens']])\n",
    "else:\n",
    "    print(\"\\nCost comparison requires API keys for providers.\")"
   ]
  },
  {
   "cell_type": "markdown",
   "metadata": {},
   "source": [
    "## 3. Classification and Model Evaluation"
   ]
  },
  {
   "cell_type": "markdown",
   "metadata": {},
   "source": [
    "### 3.1 Classification Reporter"
   ]
  },
  {
   "cell_type": "code",
   "execution_count": null,
   "metadata": {},
   "outputs": [],
   "source": [
    "# Generate synthetic classification data\n",
    "X, y = make_classification(n_samples=1000, n_features=20, n_informative=15, \n",
    "                          n_redundant=5, n_classes=3, random_state=42)\n",
    "\n",
    "# Split data\n",
    "X_train, X_test, y_train, y_test = train_test_split(X, y, test_size=0.3, random_state=42)\n",
    "\n",
    "# Train a classifier\n",
    "clf = RandomForestClassifier(n_estimators=100, random_state=42)\n",
    "clf.fit(X_train, y_train)\n",
    "\n",
    "# Get predictions and probabilities\n",
    "y_pred = clf.predict(X_test)\n",
    "y_proba = clf.predict_proba(X_test)\n",
    "\n",
    "# Create classification report\n",
    "reporter = stx.ai.ClassificationReporter()\n",
    "report = reporter.generate_report(\n",
    "    y_true=y_test,\n",
    "    y_pred=y_pred,\n",
    "    y_proba=y_proba,\n",
    "    class_names=['Class A', 'Class B', 'Class C']\n",
    ")\n",
    "\n",
    "print(\"Classification Report:\")\n",
    "print(f\"Accuracy: {report['accuracy']:.3f}\")\n",
    "print(f\"\\nPer-class metrics:\")\n",
    "for i, class_name in enumerate(['Class A', 'Class B', 'Class C']):\n",
    "    print(f\"  {class_name}: Precision={report['precision'][i]:.3f}, \"\n",
    "          f\"Recall={report['recall'][i]:.3f}, F1={report['f1'][i]:.3f}\")"
   ]
  },
  {
   "cell_type": "markdown",
   "metadata": {},
   "source": [
    "### 3.2 Confusion Matrix Visualization"
   ]
  },
  {
   "cell_type": "code",
   "execution_count": null,
   "metadata": {},
   "outputs": [],
   "source": [
    "# Visualize confusion matrix\n",
    "fig, ax = stx.plt.subplots(figsize=(8, 6))\n",
    "\n",
    "# Use the AI plotting utilities for confusion matrix\n",
    "cm = stx.ai.plt.plot_confusion_matrix(\n",
    "    y_test, y_pred,\n",
    "    classes=['Class A', 'Class B', 'Class C'],\n",
    "    ax=ax,\n",
    "    title='Random Forest Confusion Matrix',\n",
    "    cmap='Blues'\n",
    ")\n",
    "\n",
    "plt.tight_layout()\n",
    "plt.show()"
   ]
  },
  {
   "cell_type": "markdown",
   "metadata": {},
   "source": [
    "## 4. Training Utilities"
   ]
  },
  {
   "cell_type": "markdown",
   "metadata": {},
   "source": [
    "### 4.1 Early Stopping"
   ]
  },
  {
   "cell_type": "code",
   "execution_count": null,
   "metadata": {},
   "outputs": [],
   "source": [
    "# Demonstrate early stopping with simulated training\n",
    "early_stopper = stx.ai.EarlyStopping(patience=5, min_delta=0.001, mode='min')\n",
    "\n",
    "# Simulate training with validation loss\n",
    "np.random.seed(42)\n",
    "epochs = 50\n",
    "val_losses = []\n",
    "\n",
    "print(\"Training with early stopping...\")\n",
    "for epoch in range(epochs):\n",
    "    # Simulate validation loss (decreasing with noise)\n",
    "    if epoch < 20:\n",
    "        val_loss = 1.0 - 0.04 * epoch + 0.05 * np.random.randn()\n",
    "    else:\n",
    "        # Plateau and slight increase\n",
    "        val_loss = 0.2 + 0.001 * (epoch - 20) + 0.05 * np.random.randn()\n",
    "    \n",
    "    val_losses.append(val_loss)\n",
    "    \n",
    "    # Check early stopping\n",
    "    if early_stopper.check_stop(val_loss):\n",
    "        print(f\"\\nEarly stopping triggered at epoch {epoch}!\")\n",
    "        print(f\"Best validation loss: {early_stopper.best_value:.4f}\")\n",
    "        break\n",
    "    \n",
    "    if epoch % 5 == 0:\n",
    "        print(f\"Epoch {epoch:3d}: val_loss = {val_loss:.4f}\")\n",
    "\n",
    "# Plot training curve\n",
    "fig, ax = stx.plt.subplots(figsize=(10, 6))\n",
    "ax.plot(val_losses, label='Validation Loss')\n",
    "ax.axvline(x=early_stopper.best_epoch, color='r', linestyle='--', \n",
    "           label=f'Best Epoch ({early_stopper.best_epoch})')\n",
    "ax.set_xlabel('Epoch')\n",
    "ax.set_ylabel('Loss')\n",
    "ax.set_title('Training with Early Stopping')\n",
    "ax.legend()\n",
    "ax.grid(True, alpha=0.3)\n",
    "plt.show()"
   ]
  },
  {
   "cell_type": "markdown",
   "metadata": {},
   "source": [
    "### 4.2 Learning Curve Logger"
   ]
  },
  {
   "cell_type": "code",
   "execution_count": null,
   "metadata": {},
   "outputs": [],
   "source": [
    "# Create learning curve logger\n",
    "logger = stx.ai.LearningCurveLogger(\n",
    "    save_dir=\"./ai_examples/learning_curves\",\n",
    "    experiment_name=\"demo_training\"\n",
    ")\n",
    "\n",
    "# Simulate training with multiple metrics\n",
    "print(\"Logging training metrics...\")\n",
    "for epoch in range(30):\n",
    "    # Simulate metrics\n",
    "    train_loss = 1.0 * np.exp(-0.1 * epoch) + 0.02 * np.random.randn()\n",
    "    val_loss = 1.0 * np.exp(-0.08 * epoch) + 0.03 * np.random.randn() + 0.05\n",
    "    train_acc = 1.0 - train_loss + 0.1\n",
    "    val_acc = 1.0 - val_loss + 0.1\n",
    "    \n",
    "    # Log metrics\n",
    "    logger.log(epoch, {\n",
    "        'train_loss': train_loss,\n",
    "        'val_loss': val_loss,\n",
    "        'train_accuracy': train_acc,\n",
    "        'val_accuracy': val_acc,\n",
    "        'learning_rate': 0.001 * (0.95 ** epoch)\n",
    "    })\n",
    "\n",
    "# Generate learning curve plots\n",
    "logger.plot_curves(metrics=['train_loss', 'val_loss', 'train_accuracy', 'val_accuracy'])\n",
    "print(f\"\\nLearning curves saved to: {logger.save_dir}\")\n",
    "\n",
    "# Get summary statistics\n",
    "summary = logger.get_summary()\n",
    "print(\"\\nTraining Summary:\")\n",
    "print(f\"Best validation loss: {summary['best_val_loss']:.4f} at epoch {summary['best_epoch']}\")\n",
    "print(f\"Final validation accuracy: {summary['final_val_accuracy']:.4f}\")"
   ]
  },
  {
   "cell_type": "markdown",
   "metadata": {},
   "source": [
    "## 5. Clustering and Dimensionality Reduction"
   ]
  },
  {
   "cell_type": "markdown",
   "metadata": {},
   "source": [
    "### 5.1 UMAP for Visualization"
   ]
  },
  {
   "cell_type": "code",
   "execution_count": null,
   "metadata": {},
   "outputs": [],
   "source": [
    "# Generate high-dimensional clustered data\n",
    "X_high, y_clusters = make_blobs(n_samples=500, n_features=50, centers=5, \n",
    "                               cluster_std=1.0, random_state=42)\n",
    "\n",
    "# Apply UMAP for visualization\n",
    "print(\"Applying UMAP dimensionality reduction...\")\n",
    "try:\n",
    "    X_umap = stx.ai.clustering.umap_reduce(X_high, n_components=2, \n",
    "                                           n_neighbors=15, min_dist=0.1)\n",
    "    \n",
    "    # Visualize UMAP results\n",
    "    fig, ax = stx.plt.subplots(figsize=(10, 8))\n",
    "    scatter = ax.scatter(X_umap[:, 0], X_umap[:, 1], c=y_clusters, \n",
    "                        cmap='tab10', alpha=0.7, s=50)\n",
    "    ax.set_xlabel('UMAP Component 1')\n",
    "    ax.set_ylabel('UMAP Component 2')\n",
    "    ax.set_title('UMAP Visualization of High-Dimensional Clusters')\n",
    "    plt.colorbar(scatter, ax=ax, label='Cluster')\n",
    "    plt.show()\n",
    "    \n",
    "except ImportError:\n",
    "    print(\"UMAP requires 'umap-learn' package. Install with: pip install umap-learn\")\n",
    "    print(\"Falling back to PCA visualization...\")\n",
    "    \n",
    "    # Use PCA as fallback\n",
    "    X_pca = stx.ai.clustering.pca_reduce(X_high, n_components=2)\n",
    "    \n",
    "    fig, ax = stx.plt.subplots(figsize=(10, 8))\n",
    "    scatter = ax.scatter(X_pca[:, 0], X_pca[:, 1], c=y_clusters, \n",
    "                        cmap='tab10', alpha=0.7, s=50)\n",
    "    ax.set_xlabel('PC1')\n",
    "    ax.set_ylabel('PC2')\n",
    "    ax.set_title('PCA Visualization of High-Dimensional Clusters')\n",
    "    plt.colorbar(scatter, ax=ax, label='Cluster')\n",
    "    plt.show()"
   ]
  },
  {
   "cell_type": "markdown",
   "metadata": {},
   "source": [
    "## 6. Custom Loss Functions"
   ]
  },
  {
   "cell_type": "code",
   "execution_count": null,
   "metadata": {},
   "outputs": [],
   "source": [
    "# Demonstrate multi-task loss\n",
    "import torch\n",
    "import torch.nn as nn\n",
    "\n",
    "# Create multi-task loss\n",
    "task_losses = {\n",
    "    'classification': nn.CrossEntropyLoss(),\n",
    "    'regression': nn.MSELoss(),\n",
    "    'reconstruction': nn.L1Loss()\n",
    "}\n",
    "\n",
    "# Initialize multi-task loss with learnable weights\n",
    "mtl_loss = stx.ai.loss.MultiTaskLoss(task_losses, init_weights=None)\n",
    "\n",
    "# Simulate some predictions and targets\n",
    "batch_size = 32\n",
    "outputs = {\n",
    "    'classification': torch.randn(batch_size, 10),  # 10 classes\n",
    "    'regression': torch.randn(batch_size, 1),\n",
    "    'reconstruction': torch.randn(batch_size, 100)\n",
    "}\n",
    "\n",
    "targets = {\n",
    "    'classification': torch.randint(0, 10, (batch_size,)),\n",
    "    'regression': torch.randn(batch_size, 1),\n",
    "    'reconstruction': torch.randn(batch_size, 100)\n",
    "}\n",
    "\n",
    "# Compute multi-task loss\n",
    "total_loss, task_losses_dict = mtl_loss(outputs, targets)\n",
    "\n",
    "print(\"Multi-Task Loss Computation:\")\n",
    "print(f\"Total Loss: {total_loss.item():.4f}\")\n",
    "print(\"\\nIndividual Task Losses:\")\n",
    "for task, loss in task_losses_dict.items():\n",
    "    print(f\"  {task}: {loss.item():.4f}\")\n",
    "\n",
    "print(\"\\nLearned Task Weights:\")\n",
    "weights = mtl_loss.get_weights()\n",
    "for task, weight in weights.items():\n",
    "    print(f\"  {task}: {weight:.4f}\")"
   ]
  },
  {
   "cell_type": "markdown",
   "metadata": {},
   "source": [
    "## 7. Model Optimization Utilities"
   ]
  },
  {
   "cell_type": "code",
   "execution_count": null,
   "metadata": {},
   "outputs": [],
   "source": [
    "# Demonstrate optimizer utilities\n",
    "import torch.nn as nn\n",
    "\n",
    "# Create a simple model\n",
    "model = nn.Sequential(\n",
    "    nn.Linear(10, 64),\n",
    "    nn.ReLU(),\n",
    "    nn.Linear(64, 32),\n",
    "    nn.ReLU(),\n",
    "    nn.Linear(32, 1)\n",
    ")\n",
    "\n",
    "# Get optimizer with SciTeX utilities\n",
    "optimizer = stx.ai.optim.get_optimizer(\n",
    "    model.parameters(),\n",
    "    optimizer_name='AdamW',\n",
    "    lr=0.001,\n",
    "    weight_decay=0.01\n",
    ")\n",
    "\n",
    "print(\"Optimizer Configuration:\")\n",
    "print(f\"Type: {type(optimizer).__name__}\")\n",
    "print(f\"Learning Rate: {optimizer.param_groups[0]['lr']}\")\n",
    "print(f\"Weight Decay: {optimizer.param_groups[0]['weight_decay']}\")\n",
    "\n",
    "# Available optimizers\n",
    "print(\"\\nAvailable Optimizers:\")\n",
    "available_optimizers = ['SGD', 'Adam', 'AdamW', 'RMSprop', 'Adagrad', 'Adadelta']\n",
    "for opt_name in available_optimizers:\n",
    "    print(f\"  - {opt_name}\")"
   ]
  },
  {
   "cell_type": "markdown",
   "metadata": {},
   "source": [
    "## 8. Sampling Utilities"
   ]
  },
  {
   "cell_type": "code",
   "execution_count": null,
   "metadata": {},
   "outputs": [],
   "source": [
    "# Demonstrate undersampling for imbalanced datasets\n",
    "# Create imbalanced dataset\n",
    "n_samples = 1000\n",
    "n_minority = 100\n",
    "\n",
    "X_majority = np.random.randn(n_samples - n_minority, 10)\n",
    "y_majority = np.zeros(n_samples - n_minority)\n",
    "\n",
    "X_minority = np.random.randn(n_minority, 10) + 2  # Shifted distribution\n",
    "y_minority = np.ones(n_minority)\n",
    "\n",
    "X_imbalanced = np.vstack([X_majority, X_minority])\n",
    "y_imbalanced = np.hstack([y_majority, y_minority])\n",
    "\n",
    "print(\"Original dataset:\")\n",
    "print(f\"Class 0: {np.sum(y_imbalanced == 0)} samples\")\n",
    "print(f\"Class 1: {np.sum(y_imbalanced == 1)} samples\")\n",
    "print(f\"Imbalance ratio: {np.sum(y_imbalanced == 0) / np.sum(y_imbalanced == 1):.1f}:1\")\n",
    "\n",
    "# Apply undersampling\n",
    "X_balanced, y_balanced = stx.ai.sampling.undersample(\n",
    "    X_imbalanced, y_imbalanced,\n",
    "    sampling_strategy='auto',\n",
    "    random_state=42\n",
    ")\n",
    "\n",
    "print(\"\\nAfter undersampling:\")\n",
    "print(f\"Class 0: {np.sum(y_balanced == 0)} samples\")\n",
    "print(f\"Class 1: {np.sum(y_balanced == 1)} samples\")\n",
    "print(f\"New ratio: {np.sum(y_balanced == 0) / np.sum(y_balanced == 1):.1f}:1\")"
   ]
  },
  {
   "cell_type": "markdown",
   "metadata": {},
   "source": [
    "## 9. Feature Extraction with Vision Transformers"
   ]
  },
  {
   "cell_type": "code",
   "execution_count": null,
   "metadata": {},
   "outputs": [],
   "source": [
    "# Demonstrate feature extraction (conceptual - requires actual image data)\n",
    "print(\"Vision Transformer Feature Extraction:\")\n",
    "print(\"\\nSciTeX provides ViT-based feature extraction for images:\")\n",
    "print(\"\"\"\\n",
    "# Example usage:\n",
    "from scitex.ai.feature_extraction import vit\n",
    "\n",
    "# Load pretrained ViT\n",
    "feature_extractor = vit.load_pretrained_vit('vit_base_patch16_224')\n",
    "\n",
    "# Extract features from images\n",
    "image_batch = torch.randn(4, 3, 224, 224)  # Batch of 4 RGB images\n",
    "features = feature_extractor(image_batch)\n",
    "\n",
    "# Features shape: [batch_size, feature_dim]\n",
    "print(f\"Extracted features shape: {features.shape}\")\n",
    "\"\"\")\n",
    "\n",
    "print(\"\\nUse cases:\")\n",
    "print(\"- Transfer learning for image classification\")\n",
    "print(\"- Image similarity search\")\n",
    "print(\"- Feature-based clustering of images\")\n",
    "print(\"- Input features for downstream tasks\")"
   ]
  },
  {
   "cell_type": "markdown",
   "metadata": {},
   "source": [
    "## 10. Summary and Best Practices"
   ]
  },
  {
   "cell_type": "markdown",
   "metadata": {},
   "source": [
    "### Key Takeaways\n",
    "\n",
    "1. **Unified AI Interface**: SciTeX provides a single interface for multiple AI providers\n",
    "2. **Cost Awareness**: Always monitor costs when using AI models\n",
    "3. **Training Utilities**: Use early stopping and learning curve logging for better training\n",
    "4. **Classification Tools**: Comprehensive reporting for model evaluation\n",
    "5. **Visualization**: Built-in support for ML-specific visualizations\n",
    "\n",
    "### Best Practices\n",
    "\n",
    "1. **API Key Management**:\n",
    "   ```python\n",
    "   # Use environment variables\n",
    "   os.environ['OPENAI_API_KEY'] = 'your-key'\n",
    "   # Never hardcode keys in notebooks\n",
    "   ```\n",
    "\n",
    "2. **Error Handling**:\n",
    "   ```python\n",
    "   try:\n",
    "       response = ai.complete(prompt)\n",
    "   except Exception as e:\n",
    "       logger.error(f\"AI request failed: {e}\")\n",
    "       # Implement fallback behavior\n",
    "   ```\n",
    "\n",
    "3. **Cost Optimization**:\n",
    "   ```python\n",
    "   # Use cheaper models for testing\n",
    "   ai = stx.ai.GenAI(provider=\"openai\", model=\"gpt-3.5-turbo\")\n",
    "   # Clear history when not needed\n",
    "   ai.chat_history.clear()\n",
    "   ```\n",
    "\n",
    "4. **Reproducibility**:\n",
    "   ```python\n",
    "   # Set random seeds\n",
    "   stx.repro.set_seed(42)\n",
    "   # Log all parameters\n",
    "   logger.log_params(params)\n",
    "   ```"
   ]
  },
  {
   "cell_type": "code",
   "execution_count": null,
   "metadata": {},
   "outputs": [],
   "source": [
    "# Clean up\n",
    "print(\"Tutorial completed!\")\n",
    "print(\"\\nNext steps:\")\n",
    "print(\"1. Set up API keys for AI providers\")\n",
    "print(\"2. Explore advanced GenAI features (streaming, vision models)\")\n",
    "print(\"3. Try custom neural network architectures\")\n",
    "print(\"4. Implement production ML pipelines with SciTeX\")"
   ]
  }
 ],
 "metadata": {
  "kernelspec": {
   "display_name": "Python 3",
   "language": "python",
   "name": "python3"
  },
  "language_info": {
   "codemirror_mode": {
    "name": "ipython",
    "version": 3
   },
   "file_extension": ".py",
   "mimetype": "text/x-python",
   "name": "python",
   "nbconvert_exporter": "python",
   "pygments_lexer": "ipython3",
   "version": "3.8.0"
  }
 },
 "nbformat": 4,
 "nbformat_minor": 4
}