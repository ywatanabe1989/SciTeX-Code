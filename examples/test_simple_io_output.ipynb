{
 "cells": [
  {
   "cell_type": "markdown",
   "id": "c3264565",
   "metadata": {
    "tags": [
     "papermill-error-cell-tag"
    ]
   },
   "source": [
    "<span style=\"color:red; font-family:Helvetica Neue, Helvetica, Arial, sans-serif; font-size:2em;\">An Exception was encountered at '<a href=\"#papermill-error-cell\">In [2]</a>'.</span>"
   ]
  },
  {
   "cell_type": "markdown",
   "id": "eccd7620",
   "metadata": {
    "papermill": {
     "duration": 0.003295,
     "end_time": "2025-07-04T02:11:12.010505",
     "exception": false,
     "start_time": "2025-07-04T02:11:12.007210",
     "status": "completed"
    },
    "tags": []
   },
   "source": [
    "# Simple SciTeX IO Test\n",
    "Testing basic IO operations with new path handling"
   ]
  },
  {
   "cell_type": "code",
   "execution_count": 1,
   "id": "72071418",
   "metadata": {
    "execution": {
     "iopub.execute_input": "2025-07-04T02:11:12.030124Z",
     "iopub.status.busy": "2025-07-04T02:11:12.029726Z",
     "iopub.status.idle": "2025-07-04T02:11:12.039071Z",
     "shell.execute_reply": "2025-07-04T02:11:12.037144Z"
    },
    "papermill": {
     "duration": 0.015432,
     "end_time": "2025-07-04T02:11:12.041482",
     "exception": false,
     "start_time": "2025-07-04T02:11:12.026050",
     "status": "completed"
    },
    "tags": []
   },
   "outputs": [
    {
     "name": "stdout",
     "output_type": "stream",
     "text": [
      "SciTeX version: 2.0.0\n"
     ]
    }
   ],
   "source": [
    "import sys\n",
    "sys.path.insert(0, '../src')\n",
    "import scitex\n",
    "import numpy as np\n",
    "from pathlib import Path\n",
    "print(f\"SciTeX version: {scitex.__version__}\")"
   ]
  },
  {
   "cell_type": "markdown",
   "id": "355572d3",
   "metadata": {
    "papermill": {
     "duration": 0.003735,
     "end_time": "2025-07-04T02:11:12.048220",
     "exception": false,
     "start_time": "2025-07-04T02:11:12.044485",
     "status": "completed"
    },
    "tags": []
   },
   "source": [
    "## Basic Save/Load"
   ]
  },
  {
   "cell_type": "markdown",
   "id": "4168a732",
   "metadata": {
    "tags": [
     "papermill-error-cell-tag"
    ]
   },
   "source": [
    "<span id=\"papermill-error-cell\" style=\"color:red; font-family:Helvetica Neue, Helvetica, Arial, sans-serif; font-size:2em;\">Execution using papermill encountered an exception here and stopped:</span>"
   ]
  },
  {
   "cell_type": "code",
   "execution_count": 2,
   "id": "24601d5f",
   "metadata": {
    "execution": {
     "iopub.execute_input": "2025-07-04T02:11:12.055612Z",
     "iopub.status.busy": "2025-07-04T02:11:12.054821Z",
     "iopub.status.idle": "2025-07-04T02:11:12.565382Z",
     "shell.execute_reply": "2025-07-04T02:11:12.563638Z"
    },
    "papermill": {
     "duration": 0.516165,
     "end_time": "2025-07-04T02:11:12.567263",
     "exception": true,
     "start_time": "2025-07-04T02:11:12.051098",
     "status": "failed"
    },
    "tags": []
   },
   "outputs": [
    {
     "name": "stdout",
     "output_type": "stream",
     "text": [
      "\u001b[93m\n",
      "Saved to: /home/ywatanabe/proj/SciTeX-Code/examples/test_simple_io_output_out/test_data.pkl (963.0 B)\u001b[0m\n",
      "✓ Saved test_data.pkl\n"
     ]
    },
    {
     "ename": "FileNotFoundError",
     "evalue": "test_data.pkl not found.",
     "output_type": "error",
     "traceback": [
      "\u001b[31m---------------------------------------------------------------------------\u001b[39m",
      "\u001b[31mFileNotFoundError\u001b[39m                         Traceback (most recent call last)",
      "\u001b[36mCell\u001b[39m\u001b[36m \u001b[39m\u001b[32mIn[2]\u001b[39m\u001b[32m, line 7\u001b[39m\n\u001b[32m      4\u001b[39m \u001b[38;5;28mprint\u001b[39m(\u001b[33m\"\u001b[39m\u001b[33m✓ Saved test_data.pkl\u001b[39m\u001b[33m\"\u001b[39m)\n\u001b[32m      6\u001b[39m \u001b[38;5;66;03m# Load it back\u001b[39;00m\n\u001b[32m----> \u001b[39m\u001b[32m7\u001b[39m loaded = \u001b[43mscitex\u001b[49m\u001b[43m.\u001b[49m\u001b[43mio\u001b[49m\u001b[43m.\u001b[49m\u001b[43mload\u001b[49m\u001b[43m(\u001b[49m\u001b[33;43m'\u001b[39;49m\u001b[33;43mtest_data.pkl\u001b[39;49m\u001b[33;43m'\u001b[39;49m\u001b[43m)\u001b[49m\n\u001b[32m      8\u001b[39m \u001b[38;5;28mprint\u001b[39m(\u001b[33m\"\u001b[39m\u001b[33m✓ Loaded test_data.pkl\u001b[39m\u001b[33m\"\u001b[39m)\n\u001b[32m      9\u001b[39m \u001b[38;5;28mprint\u001b[39m(\u001b[33mf\u001b[39m\u001b[33m\"\u001b[39m\u001b[33mData shape: \u001b[39m\u001b[38;5;132;01m{\u001b[39;00mloaded[\u001b[33m'\u001b[39m\u001b[33mtest\u001b[39m\u001b[33m'\u001b[39m].shape\u001b[38;5;132;01m}\u001b[39;00m\u001b[33m\"\u001b[39m)\n",
      "\u001b[36mFile \u001b[39m\u001b[32m~/proj/SciTeX-Code/src/scitex/io/_load.py:103\u001b[39m, in \u001b[36mload\u001b[39m\u001b[34m(lpath, show, verbose, **kwargs)\u001b[39m\n\u001b[32m    100\u001b[39m     \u001b[38;5;28;01mreturn\u001b[39;00m results\n\u001b[32m    102\u001b[39m \u001b[38;5;28;01mif\u001b[39;00m \u001b[38;5;129;01mnot\u001b[39;00m os.path.exists(lpath):\n\u001b[32m--> \u001b[39m\u001b[32m103\u001b[39m     \u001b[38;5;28;01mraise\u001b[39;00m \u001b[38;5;167;01mFileNotFoundError\u001b[39;00m(\u001b[33mf\u001b[39m\u001b[33m\"\u001b[39m\u001b[38;5;132;01m{\u001b[39;00mlpath\u001b[38;5;132;01m}\u001b[39;00m\u001b[33m not found.\u001b[39m\u001b[33m\"\u001b[39m)\n\u001b[32m    105\u001b[39m loaders_dict = {\n\u001b[32m    106\u001b[39m     \u001b[38;5;66;03m# Default\u001b[39;00m\n\u001b[32m    107\u001b[39m     \u001b[33m\"\u001b[39m\u001b[33m\"\u001b[39m: _load_txt,\n\u001b[32m   (...)\u001b[39m\u001b[32m    160\u001b[39m     \u001b[33m\"\u001b[39m\u001b[33mset\u001b[39m\u001b[33m\"\u001b[39m: _load_eeg_data,\n\u001b[32m    161\u001b[39m }\n\u001b[32m    163\u001b[39m ext = lpath.split(\u001b[33m\"\u001b[39m\u001b[33m.\u001b[39m\u001b[33m\"\u001b[39m)[-\u001b[32m1\u001b[39m] \u001b[38;5;28;01mif\u001b[39;00m \u001b[33m\"\u001b[39m\u001b[33m.\u001b[39m\u001b[33m\"\u001b[39m \u001b[38;5;129;01min\u001b[39;00m lpath \u001b[38;5;28;01melse\u001b[39;00m \u001b[33m\"\u001b[39m\u001b[33m\"\u001b[39m\n",
      "\u001b[31mFileNotFoundError\u001b[39m: test_data.pkl not found."
     ]
    }
   ],
   "source": [
    "# Test basic save and load\n",
    "data = {'test': np.random.rand(10, 10)}\n",
    "scitex.io.save(data, 'test_data.pkl')\n",
    "print(\"✓ Saved test_data.pkl\")\n",
    "\n",
    "# Load it back\n",
    "loaded = scitex.io.load('test_data.pkl')\n",
    "print(\"✓ Loaded test_data.pkl\")\n",
    "print(f\"Data shape: {loaded['test'].shape}\")"
   ]
  },
  {
   "cell_type": "markdown",
   "id": "fc4a278e",
   "metadata": {
    "papermill": {
     "duration": null,
     "end_time": null,
     "exception": null,
     "start_time": null,
     "status": "pending"
    },
    "tags": []
   },
   "source": [
    "## Compression Formats"
   ]
  },
  {
   "cell_type": "code",
   "execution_count": null,
   "id": "7712b896",
   "metadata": {
    "papermill": {
     "duration": null,
     "end_time": null,
     "exception": null,
     "start_time": null,
     "status": "pending"
    },
    "tags": []
   },
   "outputs": [],
   "source": [
    "# Test compression formats\n",
    "large_data = np.random.rand(1000, 1000)\n",
    "\n",
    "# Test different compression formats\n",
    "formats = ['pkl', 'gz', 'bz2', 'xz']\n",
    "sizes = {}\n",
    "\n",
    "for fmt in formats:\n",
    "    filename = f'large_data.{fmt}'\n",
    "    scitex.io.save(large_data, filename)\n",
    "    \n",
    "    # Check file size (handle new path convention)\n",
    "    saved_path = Path(filename)\n",
    "    if saved_path.exists():\n",
    "        sizes[fmt] = saved_path.stat().st_size\n",
    "    else:\n",
    "        # Try in notebook output directory\n",
    "        output_path = Path(f'test_simple_io_out/{filename}')\n",
    "        if output_path.exists():\n",
    "            sizes[fmt] = output_path.stat().st_size\n",
    "        else:\n",
    "            sizes[fmt] = 0\n",
    "    \n",
    "    print(f\"✓ Saved {filename}: {sizes[fmt]:,} bytes\")\n",
    "\n",
    "# Show compression ratios\n",
    "base_size = sizes.get('pkl', 1)\n",
    "for fmt, size in sizes.items():\n",
    "    ratio = base_size / size if size > 0 else 0\n",
    "    print(f\"{fmt}: {ratio:.2f}x compression\")"
   ]
  },
  {
   "cell_type": "markdown",
   "id": "03ce0840",
   "metadata": {
    "papermill": {
     "duration": null,
     "end_time": null,
     "exception": null,
     "start_time": null,
     "status": "pending"
    },
    "tags": []
   },
   "source": [
    "## CSV Operations"
   ]
  },
  {
   "cell_type": "code",
   "execution_count": null,
   "id": "a4639644",
   "metadata": {
    "papermill": {
     "duration": null,
     "end_time": null,
     "exception": null,
     "start_time": null,
     "status": "pending"
    },
    "tags": []
   },
   "outputs": [],
   "source": [
    "# Test CSV operations\n",
    "import pandas as pd\n",
    "\n",
    "df = pd.DataFrame({\n",
    "    'x': np.arange(100),\n",
    "    'y': np.random.randn(100),\n",
    "    'category': np.random.choice(['A', 'B', 'C'], 100)\n",
    "})\n",
    "\n",
    "scitex.io.save(df, 'test_data.csv')\n",
    "print(\"✓ Saved CSV\")\n",
    "\n",
    "df_loaded = scitex.io.load('test_data.csv')\n",
    "print(f\"✓ Loaded CSV with shape: {df_loaded.shape}\")"
   ]
  },
  {
   "cell_type": "markdown",
   "id": "6178e57c",
   "metadata": {
    "papermill": {
     "duration": null,
     "end_time": null,
     "exception": null,
     "start_time": null,
     "status": "pending"
    },
    "tags": []
   },
   "source": [
    "## Summary"
   ]
  },
  {
   "cell_type": "code",
   "execution_count": null,
   "id": "574cf50a",
   "metadata": {
    "papermill": {
     "duration": null,
     "end_time": null,
     "exception": null,
     "start_time": null,
     "status": "pending"
    },
    "tags": []
   },
   "outputs": [],
   "source": [
    "print(\"\\nAll IO tests completed successfully!\")\n",
    "print(\"Files are saved to either current directory or {notebook_name}_out/\")"
   ]
  }
 ],
 "metadata": {
  "language_info": {
   "codemirror_mode": {
    "name": "ipython",
    "version": 3
   },
   "file_extension": ".py",
   "mimetype": "text/x-python",
   "name": "python",
   "nbconvert_exporter": "python",
   "pygments_lexer": "ipython3",
   "version": "3.11.0rc1"
  },
  "papermill": {
   "default_parameters": {},
   "duration": 10.033896,
   "end_time": "2025-07-04T02:11:15.398901",
   "environment_variables": {},
   "exception": true,
   "input_path": "test_simple_io.ipynb",
   "output_path": "test_simple_io_output.ipynb",
   "parameters": {},
   "start_time": "2025-07-04T02:11:05.365005",
   "version": "2.6.0"
  }
 },
 "nbformat": 4,
 "nbformat_minor": 5
}