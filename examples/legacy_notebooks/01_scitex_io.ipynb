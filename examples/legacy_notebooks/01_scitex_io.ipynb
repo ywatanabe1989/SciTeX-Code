{
 "cells": [
  {
   "cell_type": "markdown",
   "metadata": {},
   "source": [
    "# SciTeX IO Module - File Operations Made Simple\n",
    "\n",
    "The `scitex.io` module provides unified file I/O operations with automatic format detection, path management, and reproducibility features.\n",
    "\n",
    "## Key Features\n",
    "- **Unified Interface**: Single `load()` and `save()` functions for multiple formats\n",
    "- **Auto Format Detection**: Automatically detects file format from extension\n",
    "- **Path Management**: Relative paths and symlink creation for reproducibility\n",
    "- **Output Organization**: Automatic directory organization by file type"
   ]
  },
  {
   "cell_type": "code",
   "execution_count": null,
   "metadata": {},
   "outputs": [],
   "source": [
    "#!/usr/bin/env python3\n",
    "# -*- coding: utf-8 -*-\n",
    "# Timestamp: \"2025-07-02 07:47:00 (ywatanabe)\"\n",
    "# File: ./examples/01_scitex_io.ipynb\n",
    "# ----------------------------------------\n",
    "import os\n",
    "__FILE__ = \"./examples/01_scitex_io.ipynb\"\n",
    "__DIR__ = os.path.dirname(__FILE__)\n",
    "# ----------------------------------------\n",
    "\n",
    "import scitex as stx\n",
    "import numpy as np\n",
    "import pandas as pd\n",
    "import matplotlib.pyplot as plt\n",
    "\n",
    "print(\"SciTeX IO Module Demo\")\n",
    "print(f\"SciTeX version: {stx.__version__}\")"
   ]
  },
  {
   "cell_type": "markdown",
   "metadata": {},
   "source": [
    "## 1. Basic Loading and Saving\n",
    "\n",
    "The core functions `stx.io.load()` and `stx.io.save()` work with multiple file formats automatically."
   ]
  },
  {
   "cell_type": "code",
   "execution_count": null,
   "metadata": {},
   "outputs": [],
   "source": [
    "# Create sample data\n",
    "data_dict = {\n",
    "    'name': ['Alice', 'Bob', 'Charlie'],\n",
    "    'age': [25, 30, 35],\n",
    "    'score': [85.5, 92.3, 78.9]\n",
    "}\n",
    "df = pd.DataFrame(data_dict)\n",
    "array_data = np.random.randn(10, 3)\n",
    "\n",
    "print(\"Sample DataFrame:\")\n",
    "print(df)\n",
    "print(f\"\\nSample array shape: {array_data.shape}\")"
   ]
  },
  {
   "cell_type": "code",
   "execution_count": null,
   "metadata": {},
   "outputs": [],
   "source": [
    "# Save data in different formats - stx.io.save auto-detects format\n",
    "stx.io.save(df, './data/sample_data.csv')\n",
    "stx.io.save(df, './data/sample_data.json') \n",
    "stx.io.save(array_data, './data/array_data.npy')\n",
    "stx.io.save(data_dict, './data/dict_data.pkl')\n",
    "\n",
    "print(\"✅ Saved data in multiple formats\")\n",
    "print(\"  - CSV: ./data/sample_data.csv\")\n",
    "print(\"  - JSON: ./data/sample_data.json\")\n",
    "print(\"  - NumPy: ./data/array_data.npy\")\n",
    "print(\"  - Pickle: ./data/dict_data.pkl\")"
   ]
  },
  {
   "cell_type": "code",
   "execution_count": null,
   "metadata": {},
   "outputs": [],
   "source": [
    "# Load data back - stx.io.load auto-detects format\n",
    "loaded_df_csv = stx.io.load('./data/sample_data.csv')\n",
    "loaded_df_json = stx.io.load('./data/sample_data.json')\n",
    "loaded_array = stx.io.load('./data/array_data.npy')\n",
    "loaded_dict = stx.io.load('./data/dict_data.pkl')\n",
    "\n",
    "print(\"✅ Loaded data from multiple formats\")\n",
    "print(f\"CSV DataFrame shape: {loaded_df_csv.shape}\")\n",
    "print(f\"JSON DataFrame shape: {loaded_df_json.shape}\")\n",
    "print(f\"Array shape: {loaded_array.shape}\")\n",
    "print(f\"Dict keys: {list(loaded_dict.keys())}\")"
   ]
  },
  {
   "cell_type": "markdown",
   "metadata": {},
   "source": [
    "## 2. Symlink Creation for Reproducibility\n",
    "\n",
    "SciTeX automatically creates symlinks from the current working directory for better reproducibility."
   ]
  },
  {
   "cell_type": "code",
   "execution_count": null,
   "metadata": {},
   "outputs": [],
   "source": [
    "# Save with symlink creation (default behavior)\n",
    "results = np.random.randn(100)\n",
    "stx.io.save(results, './output/experiment_results.npy', symlink_from_cwd=True)\n",
    "\n",
    "# This creates both:\n",
    "# 1. The actual file: ./output/experiment_results.npy\n",
    "# 2. A symlink from CWD: experiment_results.npy -> ./output/experiment_results.npy\n",
    "\n",
    "print(\"✅ Saved with symlink creation\")\n",
    "print(\"  File: ./output/experiment_results.npy\")\n",
    "print(\"  Symlink: experiment_results.npy -> ./output/experiment_results.npy\")"
   ]
  },
  {
   "cell_type": "markdown",
   "metadata": {},
   "source": [
    "## 3. Figure Saving with SciTeX\n",
    "\n",
    "Matplotlib figures are saved with automatic organization and data export."
   ]
  },
  {
   "cell_type": "code",
   "execution_count": null,
   "metadata": {},
   "outputs": [],
   "source": [
    "# Create a sample plot\n",
    "fig, ax = plt.subplots(figsize=(8, 6))\n",
    "x = np.linspace(0, 10, 100)\n",
    "y = np.sin(x) * np.exp(-x/10)\n",
    "\n",
    "ax.plot(x, y, 'b-', linewidth=2, label='Damped sine')\n",
    "ax.set_xlabel('Time (s)')\n",
    "ax.set_ylabel('Amplitude')\n",
    "ax.set_title('Damped Sine Wave')\n",
    "ax.legend()\n",
    "ax.grid(True, alpha=0.3)\n",
    "\n",
    "plt.tight_layout()\n",
    "plt.show()\n",
    "\n",
    "# Save figure using stx.io.save\n",
    "stx.io.save(fig, './figures/damped_sine.png', symlink_from_cwd=True)\n",
    "\n",
    "print(\"✅ Figure saved with data export\")\n",
    "print(\"  Figure: ./figures/damped_sine.png\")\n",
    "print(\"  Data: ./figures/damped_sine.csv (plot data)\")\n",
    "print(\"  Symlink: damped_sine.png -> ./figures/damped_sine.png\")"
   ]
  },
  {
   "cell_type": "markdown",
   "metadata": {},
   "source": [
    "## 4. Advanced Features\n",
    "\n",
    "### Multiple Format Support"
   ]
  },
  {
   "cell_type": "code",
   "execution_count": null,
   "metadata": {},
   "outputs": [],
   "source": [
    "# Demonstrate various supported formats\n",
    "formats_demo = {\n",
    "    'csv': './data/demo.csv',\n",
    "    'json': './data/demo.json',\n",
    "    'npy': './data/demo.npy', \n",
    "    'pkl': './data/demo.pkl',\n",
    "    'txt': './data/demo.txt',\n",
    "}\n",
    "\n",
    "sample_data = np.array([[1, 2, 3], [4, 5, 6], [7, 8, 9]])\n",
    "\n",
    "for format_name, file_path in formats_demo.items():\n",
    "    if format_name == 'txt':\n",
    "        # For text files, save as plain text\n",
    "        stx.io.save(sample_data, file_path)\n",
    "    elif format_name == 'csv':\n",
    "        # Convert to DataFrame for CSV\n",
    "        df_demo = pd.DataFrame(sample_data, columns=['A', 'B', 'C'])\n",
    "        stx.io.save(df_demo, file_path)\n",
    "    else:\n",
    "        stx.io.save(sample_data, file_path)\n",
    "    \n",
    "    print(f\"✅ Saved {format_name.upper()}: {file_path}\")\n",
    "\n",
    "print(\"\\n📁 All formats saved successfully!\")"
   ]
  },
  {
   "cell_type": "markdown",
   "metadata": {},
   "source": [
    "### Path Management and Organization"
   ]
  },
  {
   "cell_type": "code",
   "execution_count": null,
   "metadata": {},
   "outputs": [],
   "source": [
    "# SciTeX automatically organizes outputs by type\n",
    "demo_data = np.random.randn(50, 3)\n",
    "demo_df = pd.DataFrame(demo_data, columns=['Feature1', 'Feature2', 'Feature3'])\n",
    "\n",
    "# Data files go to ./data/\n",
    "stx.io.save(demo_df, './data/processed_features.csv')\n",
    "stx.io.save(demo_data, './data/raw_features.npy')\n",
    "\n",
    "# Cache files\n",
    "cache_data = {'processed': True, 'timestamp': '2025-07-02'}\n",
    "stx.io.save(cache_data, './cache/processing_status.pkl')\n",
    "\n",
    "# Configuration\n",
    "config = {'batch_size': 32, 'learning_rate': 0.001}\n",
    "stx.io.save(config, './config/model_params.json')\n",
    "\n",
    "print(\"✅ Organized outputs by type:\")\n",
    "print(\"  📊 Data: ./data/\")\n",
    "print(\"  💾 Cache: ./cache/\")\n",
    "print(\"  ⚙️  Config: ./config/\")\n",
    "print(\"  📈 Figures: ./figures/\")"
   ]
  },
  {
   "cell_type": "markdown",
   "metadata": {},
   "source": [
    "## 5. Integration with Other SciTeX Modules\n",
    "\n",
    "The IO module works seamlessly with other SciTeX modules."
   ]
  },
  {
   "cell_type": "code",
   "execution_count": null,
   "metadata": {},
   "outputs": [],
   "source": [
    "# Example: Statistical analysis with automatic saving\n",
    "data = np.random.randn(1000)\n",
    "\n",
    "# Compute statistics\n",
    "stats_result = {\n",
    "    'mean': np.mean(data),\n",
    "    'std': np.std(data),\n",
    "    'median': np.median(data),\n",
    "    'min': np.min(data),\n",
    "    'max': np.max(data)\n",
    "}\n",
    "\n",
    "# Save raw data and statistics\n",
    "stx.io.save(data, './data/random_sample.npy')\n",
    "stx.io.save(stats_result, './results/statistics.json')\n",
    "\n",
    "# Create and save visualization\n",
    "fig, (ax1, ax2) = plt.subplots(1, 2, figsize=(12, 5))\n",
    "\n",
    "# Histogram\n",
    "ax1.hist(data, bins=50, alpha=0.7, color='skyblue', edgecolor='black')\n",
    "ax1.set_title('Data Distribution')\n",
    "ax1.set_xlabel('Value')\n",
    "ax1.set_ylabel('Frequency')\n",
    "ax1.axvline(stats_result['mean'], color='red', linestyle='--', label=f\"Mean: {stats_result['mean']:.3f}\")\n",
    "ax1.legend()\n",
    "\n",
    "# Box plot\n",
    "ax2.boxplot(data)\n",
    "ax2.set_title('Data Box Plot')\n",
    "ax2.set_ylabel('Value')\n",
    "\n",
    "plt.tight_layout()\n",
    "stx.io.save(fig, './figures/data_analysis.png')\n",
    "\n",
    "print(\"✅ Complete analysis saved:\")\n",
    "print(f\"  📊 Raw data: ./data/random_sample.npy\")\n",
    "print(f\"  📈 Statistics: ./results/statistics.json\")\n",
    "print(f\"  🎨 Visualization: ./figures/data_analysis.png\")\n",
    "\n",
    "plt.show()"
   ]
  },
  {
   "cell_type": "markdown",
   "metadata": {},
   "source": [
    "## Summary\n",
    "\n",
    "The SciTeX IO module provides:\n",
    "\n",
    "✅ **Unified Interface**: Single functions for multiple formats  \n",
    "✅ **Auto Detection**: Automatic format detection from file extensions  \n",
    "✅ **Reproducibility**: Symlink creation and organized outputs  \n",
    "✅ **Integration**: Seamless work with other SciTeX modules  \n",
    "✅ **Organization**: Automatic directory structure by file type  \n",
    "\n",
    "This makes file operations simple, consistent, and reproducible across your scientific computing workflows."
   ]
  }
 ],
 "metadata": {
  "kernelspec": {
   "display_name": "Python 3",
   "language": "python",
   "name": "python3"
  },
  "language_info": {
   "codemirror_mode": {
    "name": "ipython",
    "version": 3
   },
   "file_extension": ".py",
   "mimetype": "text/x-python",
   "name": "python",
   "nbconvert_exporter": "python",
   "pygments_lexer": "ipython3",
   "version": "3.8.0"
  }
 },
 "nbformat": 4,
 "nbformat_minor": 4
}