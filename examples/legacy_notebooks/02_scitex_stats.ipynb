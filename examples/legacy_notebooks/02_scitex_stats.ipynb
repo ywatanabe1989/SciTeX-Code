{
 "cells": [
  {
   "cell_type": "markdown",
   "metadata": {},
   "source": [
    "# SciTeX Stats Module - Statistical Analysis Made Simple\n",
    "\n",
    "The `scitex.stats` module provides comprehensive statistical analysis tools with automatic result saving and visualization.\n",
    "\n",
    "## Key Features\n",
    "- **Comprehensive Tests**: t-tests, ANOVA, correlations, and more\n",
    "- **Automatic Reporting**: Results saved as structured data\n",
    "- **Effect Sizes**: Automatic calculation of effect sizes\n",
    "- **Visualization**: Integrated plotting for statistical results"
   ]
  },
  {
   "cell_type": "code",
   "execution_count": null,
   "metadata": {},
   "outputs": [],
   "source": [
    "#!/usr/bin/env python3\n",
    "# -*- coding: utf-8 -*-\n",
    "# Timestamp: \"2025-07-02 07:48:00 (ywatanabe)\"\n",
    "# File: ./examples/02_scitex_stats.ipynb\n",
    "# ----------------------------------------\n",
    "import os\n",
    "__FILE__ = \"./examples/02_scitex_stats.ipynb\"\n",
    "__DIR__ = os.path.dirname(__FILE__)\n",
    "# ----------------------------------------\n",
    "\n",
    "import scitex as stx\n",
    "import numpy as np\n",
    "import pandas as pd\n",
    "import matplotlib.pyplot as plt\n",
    "from scipy import stats\n",
    "\n",
    "print(\"SciTeX Stats Module Demo\")\n",
    "print(f\"SciTeX version: {stx.__version__}\")"
   ]
  },
  {
   "cell_type": "markdown",
   "metadata": {},
   "source": [
    "## 1. Basic Statistical Tests\n",
    "\n",
    "Perform common statistical tests with automatic result formatting."
   ]
  },
  {
   "cell_type": "code",
   "execution_count": null,
   "metadata": {},
   "outputs": [],
   "source": [
    "# Generate sample data\n",
    "np.random.seed(42)\n",
    "group1 = np.random.normal(100, 15, 30)  # Control group\n",
    "group2 = np.random.normal(110, 15, 30)  # Treatment group\n",
    "group3 = np.random.normal(105, 12, 30)  # Another treatment\n",
    "\n",
    "print(\"Sample data generated:\")\n",
    "print(f\"Group 1 (Control): n={len(group1)}, mean={np.mean(group1):.2f}, std={np.std(group1):.2f}\")\n",
    "print(f\"Group 2 (Treatment): n={len(group2)}, mean={np.mean(group2):.2f}, std={np.std(group2):.2f}\")\n",
    "print(f\"Group 3 (Treatment 2): n={len(group3)}, mean={np.mean(group3):.2f}, std={np.std(group3):.2f}\")"
   ]
  },
  {
   "cell_type": "code",
   "execution_count": null,
   "metadata": {},
   "outputs": [],
   "source": [
    "# Independent t-test\n",
    "t_result = stx.stats.ttest_ind(group1, group2)\n",
    "print(\"Independent t-test results:\")\n",
    "print(f\"t-statistic: {t_result['statistic']:.4f}\")\n",
    "print(f\"p-value: {t_result['pvalue']:.4f}\")\n",
    "print(f\"Effect size (Cohen's d): {t_result['effect_size']:.4f}\")\n",
    "print(f\"Significance: {'Yes' if t_result['pvalue'] < 0.05 else 'No'}\")\n",
    "\n",
    "# Save results\n",
    "stx.io.save(t_result, './results/ttest_results.json')"
   ]
  },
  {
   "cell_type": "markdown",
   "metadata": {},
   "source": [
    "## 2. ANOVA and Multiple Comparisons"
   ]
  },
  {
   "cell_type": "code",
   "execution_count": null,
   "metadata": {},
   "outputs": [],
   "source": [
    "# One-way ANOVA\n",
    "anova_result = stx.stats.anova_oneway(group1, group2, group3)\n",
    "print(\"One-way ANOVA results:\")\n",
    "print(f\"F-statistic: {anova_result['F_statistic']:.4f}\")\n",
    "print(f\"p-value: {anova_result['pvalue']:.4f}\")\n",
    "print(f\"Effect size (eta-squared): {anova_result['eta_squared']:.4f}\")\n",
    "\n",
    "# Post-hoc tests\n",
    "if anova_result['pvalue'] < 0.05:\n",
    "    posthoc_result = stx.stats.posthoc_tukey([group1, group2, group3], \n",
    "                                            labels=['Control', 'Treatment1', 'Treatment2'])\n",
    "    print(\"\\nPost-hoc Tukey HSD results:\")\n",
    "    print(posthoc_result['summary'])\n",
    "    \n",
    "    # Save detailed results\n",
    "    stx.io.save(anova_result, './results/anova_results.json')\n",
    "    stx.io.save(posthoc_result, './results/posthoc_results.json')"
   ]
  },
  {
   "cell_type": "markdown",
   "metadata": {},
   "source": [
    "## 3. Correlation Analysis"
   ]
  },
  {
   "cell_type": "code",
   "execution_count": null,
   "metadata": {},
   "outputs": [],
   "source": [
    "# Generate correlated data\n",
    "n_samples = 100\n",
    "x = np.random.randn(n_samples)\n",
    "y = 0.7 * x + 0.3 * np.random.randn(n_samples)  # r ≈ 0.7\n",
    "z = -0.5 * x + 0.8 * np.random.randn(n_samples)  # r ≈ -0.5\n",
    "\n",
    "# Correlation matrix\n",
    "data_matrix = np.column_stack([x, y, z])\n",
    "corr_result = stx.stats.correlation_matrix(data_matrix, \n",
    "                                          labels=['Variable X', 'Variable Y', 'Variable Z'])\n",
    "\n",
    "print(\"Correlation Analysis:\")\n",
    "print(\"Correlation matrix:\")\n",
    "print(corr_result['correlation_matrix'])\n",
    "print(\"\\nP-values:\")\n",
    "print(corr_result['p_values'])\n",
    "\n",
    "# Visualize correlations\n",
    "fig, axes = plt.subplots(1, 3, figsize=(15, 4))\n",
    "\n",
    "# X vs Y\n",
    "axes[0].scatter(x, y, alpha=0.6, color='blue')\n",
    "axes[0].set_xlabel('Variable X')\n",
    "axes[0].set_ylabel('Variable Y')\n",
    "axes[0].set_title(f'X vs Y (r = {corr_result[\"correlation_matrix\"][0,1]:.3f})')\n",
    "\n",
    "# X vs Z  \n",
    "axes[1].scatter(x, z, alpha=0.6, color='red')\n",
    "axes[1].set_xlabel('Variable X')\n",
    "axes[1].set_ylabel('Variable Z')\n",
    "axes[1].set_title(f'X vs Z (r = {corr_result[\"correlation_matrix\"][0,2]:.3f})')\n",
    "\n",
    "# Y vs Z\n",
    "axes[2].scatter(y, z, alpha=0.6, color='green')\n",
    "axes[2].set_xlabel('Variable Y')\n",
    "axes[2].set_ylabel('Variable Z')\n",
    "axes[2].set_title(f'Y vs Z (r = {corr_result[\"correlation_matrix\"][1,2]:.3f})')\n",
    "\n",
    "plt.tight_layout()\n",
    "stx.io.save(fig, './figures/correlation_plots.png')\n",
    "plt.show()\n",
    "\n",
    "# Save correlation results\n",
    "stx.io.save(corr_result, './results/correlation_analysis.json')"
   ]
  },
  {
   "cell_type": "markdown",
   "metadata": {},
   "source": [
    "## 4. Descriptive Statistics"
   ]
  },
  {
   "cell_type": "code",
   "execution_count": null,
   "metadata": {},
   "outputs": [],
   "source": [
    "# Comprehensive descriptive statistics\n",
    "all_data = np.concatenate([group1, group2, group3])\n",
    "desc_stats = stx.stats.describe(all_data)\n",
    "\n",
    "print(\"Descriptive Statistics:\")\n",
    "for key, value in desc_stats.items():\n",
    "    if isinstance(value, float):\n",
    "        print(f\"{key}: {value:.4f}\")\n",
    "    else:\n",
    "        print(f\"{key}: {value}\")\n",
    "\n",
    "# Visualize distribution\n",
    "fig, (ax1, ax2) = plt.subplots(1, 2, figsize=(12, 5))\n",
    "\n",
    "# Histogram with normal overlay\n",
    "ax1.hist(all_data, bins=30, density=True, alpha=0.7, color='skyblue', edgecolor='black')\n",
    "x_norm = np.linspace(all_data.min(), all_data.max(), 100)\n",
    "y_norm = stats.norm.pdf(x_norm, desc_stats['mean'], desc_stats['std'])\n",
    "ax1.plot(x_norm, y_norm, 'r-', linewidth=2, label='Normal distribution')\n",
    "ax1.set_xlabel('Value')\n",
    "ax1.set_ylabel('Density')\n",
    "ax1.set_title('Data Distribution')\n",
    "ax1.legend()\n",
    "\n",
    "# Q-Q plot for normality\n",
    "stats.probplot(all_data, dist=\"norm\", plot=ax2)\n",
    "ax2.set_title('Q-Q Plot (Normality Check)')\n",
    "\n",
    "plt.tight_layout()\n",
    "stx.io.save(fig, './figures/descriptive_stats.png')\n",
    "plt.show()\n",
    "\n",
    "# Save descriptive statistics\n",
    "stx.io.save(desc_stats, './results/descriptive_stats.json')"
   ]
  },
  {
   "cell_type": "markdown",
   "metadata": {},
   "source": [
    "## 5. Non-parametric Tests"
   ]
  },
  {
   "cell_type": "code",
   "execution_count": null,
   "metadata": {},
   "outputs": [],
   "source": [
    "# Mann-Whitney U test (non-parametric alternative to t-test)\n",
    "mannwhitney_result = stx.stats.mannwhitneyu(group1, group2)\n",
    "print(\"Mann-Whitney U test results:\")\n",
    "print(f\"U-statistic: {mannwhitney_result['statistic']:.4f}\")\n",
    "print(f\"p-value: {mannwhitney_result['pvalue']:.4f}\")\n",
    "print(f\"Effect size (rank biserial): {mannwhitney_result['effect_size']:.4f}\")\n",
    "\n",
    "# Kruskal-Wallis test (non-parametric alternative to ANOVA)\n",
    "kruskal_result = stx.stats.kruskal(group1, group2, group3)\n",
    "print(\"\\nKruskal-Wallis test results:\")\n",
    "print(f\"H-statistic: {kruskal_result['statistic']:.4f}\")\n",
    "print(f\"p-value: {kruskal_result['pvalue']:.4f}\")\n",
    "print(f\"Effect size (eta-squared): {kruskal_result['eta_squared']:.4f}\")\n",
    "\n",
    "# Save non-parametric test results\n",
    "nonparametric_results = {\n",
    "    'mannwhitney': mannwhitney_result,\n",
    "    'kruskal': kruskal_result\n",
    "}\n",
    "stx.io.save(nonparametric_results, './results/nonparametric_tests.json')"
   ]
  },
  {
   "cell_type": "markdown",
   "metadata": {},
   "source": [
    "## 6. Power Analysis and Sample Size Calculation"
   ]
  },
  {
   "cell_type": "code",
   "execution_count": null,
   "metadata": {},
   "outputs": [],
   "source": [
    "# Power analysis for t-test\n",
    "effect_sizes = np.arange(0.1, 1.5, 0.1)\n",
    "sample_sizes = [10, 20, 30, 50, 100]\n",
    "\n",
    "power_results = stx.stats.power_analysis_ttest(effect_sizes, sample_sizes, alpha=0.05)\n",
    "\n",
    "# Visualize power curves\n",
    "fig, ax = plt.subplots(figsize=(10, 6))\n",
    "\n",
    "for n in sample_sizes:\n",
    "    power_curve = [power_results[f'n_{n}'][f'effect_{es:.1f}'] for es in effect_sizes]\n",
    "    ax.plot(effect_sizes, power_curve, marker='o', label=f'n = {n}')\n",
    "\n",
    "ax.axhline(y=0.8, color='red', linestyle='--', alpha=0.7, label='Power = 0.8')\n",
    "ax.set_xlabel('Effect Size (Cohen\\'s d)')\n",
    "ax.set_ylabel('Statistical Power')\n",
    "ax.set_title('Power Analysis for Independent t-test')\n",
    "ax.legend()\n",
    "ax.grid(True, alpha=0.3)\n",
    "\n",
    "plt.tight_layout()\n",
    "stx.io.save(fig, './figures/power_analysis.png')\n",
    "plt.show()\n",
    "\n",
    "# Save power analysis results\n",
    "stx.io.save(power_results, './results/power_analysis.json')"
   ]
  },
  {
   "cell_type": "markdown",
   "metadata": {},
   "source": [
    "## 7. Comprehensive Statistical Report"
   ]
  },
  {
   "cell_type": "code",
   "execution_count": null,
   "metadata": {},
   "outputs": [],
   "source": [
    "# Generate comprehensive report\n",
    "report_data = {\n",
    "    'study_info': {\n",
    "        'title': 'Statistical Analysis Demo',\n",
    "        'date': '2025-07-02',\n",
    "        'groups': ['Control', 'Treatment1', 'Treatment2'],\n",
    "        'sample_sizes': [len(group1), len(group2), len(group3)]\n",
    "    },\n",
    "    'descriptive_stats': {\n",
    "        'group1': stx.stats.describe(group1),\n",
    "        'group2': stx.stats.describe(group2),\n",
    "        'group3': stx.stats.describe(group3)\n",
    "    },\n",
    "    'inferential_tests': {\n",
    "        'ttest_1v2': t_result,\n",
    "        'anova_all': anova_result,\n",
    "        'mannwhitney_1v2': mannwhitney_result,\n",
    "        'kruskal_all': kruskal_result\n",
    "    },\n",
    "    'correlation_analysis': corr_result,\n",
    "    'power_analysis': power_results\n",
    "}\n",
    "\n",
    "# Save comprehensive report\n",
    "stx.io.save(report_data, './reports/statistical_analysis_report.json')\n",
    "\n",
    "print(\"✅ Comprehensive Statistical Analysis Complete!\")\n",
    "print(\"\\n📊 Results saved:\")\n",
    "print(\"  • Individual tests: ./results/\")\n",
    "print(\"  • Visualizations: ./figures/\")\n",
    "print(\"  • Comprehensive report: ./reports/statistical_analysis_report.json\")\n",
    "\n",
    "# Summary statistics table\n",
    "summary_df = pd.DataFrame({\n",
    "    'Group': ['Control', 'Treatment1', 'Treatment2'],\n",
    "    'N': [len(group1), len(group2), len(group3)],\n",
    "    'Mean': [np.mean(group1), np.mean(group2), np.mean(group3)],\n",
    "    'SD': [np.std(group1), np.std(group2), np.std(group3)],\n",
    "    'Min': [np.min(group1), np.min(group2), np.min(group3)],\n",
    "    'Max': [np.max(group1), np.max(group2), np.max(group3)]\n",
    "})\n",
    "\n",
    "print(\"\\n📋 Summary Statistics:\")\n",
    "print(summary_df.round(3))\n",
    "\n",
    "# Save summary table\n",
    "stx.io.save(summary_df, './results/summary_statistics.csv')"
   ]
  },
  {
   "cell_type": "markdown",
   "metadata": {},
   "source": [
    "## Summary\n",
    "\n",
    "The SciTeX Stats module provides:\n",
    "\n",
    "✅ **Comprehensive Tests**: t-tests, ANOVA, non-parametric alternatives  \n",
    "✅ **Effect Sizes**: Automatic calculation of Cohen's d, eta-squared, etc.  \n",
    "✅ **Power Analysis**: Sample size and power calculations  \n",
    "✅ **Correlation Analysis**: Pearson, Spearman correlations with p-values  \n",
    "✅ **Automatic Reporting**: Structured results saving  \n",
    "✅ **Visualization**: Integrated plotting for statistical results  \n",
    "\n",
    "This makes statistical analysis reproducible, comprehensive, and well-documented."
   ]
  }
 ],
 "metadata": {
  "kernelspec": {
   "display_name": "Python 3",
   "language": "python",
   "name": "python3"
  },
  "language_info": {
   "codemirror_mode": {
    "name": "ipython",
    "version": 3
   },
   "file_extension": ".py",
   "mimetype": "text/x-python",
   "name": "python",
   "nbconvert_exporter": "python",
   "pygments_lexer": "ipython3",
   "version": "3.8.0"
  }
 },
 "nbformat": 4,
 "nbformat_minor": 4
}